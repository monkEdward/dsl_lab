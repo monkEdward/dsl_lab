{
 "cells": [
  {
   "cell_type": "code",
   "execution_count": 42,
   "metadata": {
    "collapsed": true
   },
   "outputs": [],
   "source": [
    "import os\n",
    "import numpy as np\n",
    "import pandas as pd\n",
    "import seaborn as sns\n",
    "import matplotlib.pyplot as plt\n",
    "from datetime import date\n",
    "\n",
    "from scipy.stats import zscore\n",
    "# from scipy.io import wavfile\n",
    "\n",
    "from sklearn.model_selection import KFold\n",
    "from sklearn.model_selection import ParameterGrid\n",
    "from sklearn.model_selection import GridSearchCV\n",
    "from sklearn.model_selection import train_test_split\n",
    "\n",
    "from sklearn.ensemble import RandomForestClassifier\n",
    "\n",
    "from sklearn.metrics import accuracy_score,\\\n",
    "                            confusion_matrix, \\\n",
    "                            precision_score, \\\n",
    "                            recall_score, \\\n",
    "                            f1_score, \\\n",
    "                            classification_report\n",
    "\n",
    "\n",
    "from sklearn.preprocessing import FunctionTransformer, PolynomialFeatures\n",
    "from sklearn.compose import make_column_transformer\n",
    "from sklearn.ensemble import RandomForestRegressor\n",
    "from sklearn.linear_model import LinearRegression\n",
    "from sklearn.neural_network import MLPRegressor\n",
    "from sklearn.pipeline import make_pipeline\n",
    "from sklearn.linear_model import Ridge\n",
    "from sklearn.svm import SVR\n",
    "\n",
    "from sklearn.metrics import mean_squared_error, \\\n",
    "                            r2_score\n",
    "\n",
    "from prettytable import PrettyTable"
   ]
  },
  {
   "cell_type": "code",
   "execution_count": 43,
   "outputs": [],
   "source": [
    "DATA_PATH_SUMMARY = './weatherww2/SummaryofWeather.csv'\n",
    "DATA_PATH_SENSORS = './weatherww2/WeatherStationLocations.csv'\n",
    "fields = ['STA', 'Date', 'MaxTemp', 'MinTemp', 'MeanTemp']"
   ],
   "metadata": {
    "collapsed": false,
    "pycharm": {
     "name": "#%%\n"
    }
   }
  },
  {
   "cell_type": "code",
   "execution_count": 44,
   "outputs": [],
   "source": [
    "def load_data(data_path):\n",
    "\n",
    "    dataset = pd.read_csv(data_path[0], header=0, low_memory=False)\n",
    "    sensors = pd.read_csv(data_path[1], header=0, low_memory=False)\n",
    "    return dataset, sensors\n"
   ],
   "metadata": {
    "collapsed": false,
    "pycharm": {
     "name": "#%%\n"
    }
   }
  },
  {
   "cell_type": "code",
   "execution_count": 45,
   "outputs": [
    {
     "name": "stdout",
     "output_type": "stream",
     "text": [
      "<class 'pandas.core.frame.DataFrame'>\n",
      "RangeIndex: 119040 entries, 0 to 119039\n",
      "Data columns (total 31 columns):\n",
      " #   Column       Non-Null Count   Dtype  \n",
      "---  ------       --------------   -----  \n",
      " 0   STA          119040 non-null  int64  \n",
      " 1   Date         119040 non-null  object \n",
      " 2   Precip       119040 non-null  object \n",
      " 3   WindGustSpd  532 non-null     float64\n",
      " 4   MaxTemp      119040 non-null  float64\n",
      " 5   MinTemp      119040 non-null  float64\n",
      " 6   MeanTemp     119040 non-null  float64\n",
      " 7   Snowfall     117877 non-null  object \n",
      " 8   PoorWeather  34237 non-null   object \n",
      " 9   YR           119040 non-null  int64  \n",
      " 10  MO           119040 non-null  int64  \n",
      " 11  DA           119040 non-null  int64  \n",
      " 12  PRCP         117108 non-null  object \n",
      " 13  DR           533 non-null     float64\n",
      " 14  SPD          532 non-null     float64\n",
      " 15  MAX          118566 non-null  float64\n",
      " 16  MIN          118572 non-null  float64\n",
      " 17  MEA          118542 non-null  float64\n",
      " 18  SNF          117877 non-null  object \n",
      " 19  SND          5563 non-null    float64\n",
      " 20  FT           0 non-null       float64\n",
      " 21  FB           0 non-null       float64\n",
      " 22  FTI          0 non-null       float64\n",
      " 23  ITH          0 non-null       float64\n",
      " 24  PGT          525 non-null     float64\n",
      " 25  TSHDSBRSGF   34237 non-null   object \n",
      " 26  SD3          0 non-null       float64\n",
      " 27  RHX          0 non-null       float64\n",
      " 28  RHN          0 non-null       float64\n",
      " 29  RVG          0 non-null       float64\n",
      " 30  WTE          0 non-null       float64\n",
      "dtypes: float64(20), int64(4), object(7)\n",
      "memory usage: 28.2+ MB\n"
     ]
    }
   ],
   "source": [
    "dataset, sensors_ds = load_data((DATA_PATH_SUMMARY, DATA_PATH_SENSORS))\n",
    "dataset.info()\n",
    "\n",
    "# no missing values"
   ],
   "metadata": {
    "collapsed": false,
    "pycharm": {
     "name": "#%%\n"
    }
   }
  },
  {
   "cell_type": "code",
   "execution_count": 46,
   "outputs": [
    {
     "name": "stdout",
     "output_type": "stream",
     "text": [
      "<class 'pandas.core.frame.DataFrame'>\n",
      "RangeIndex: 161 entries, 0 to 160\n",
      "Data columns (total 8 columns):\n",
      " #   Column            Non-Null Count  Dtype  \n",
      "---  ------            --------------  -----  \n",
      " 0   WBAN              161 non-null    int64  \n",
      " 1   NAME              161 non-null    object \n",
      " 2   STATE/COUNTRY ID  161 non-null    object \n",
      " 3   LAT               161 non-null    object \n",
      " 4   LON               161 non-null    object \n",
      " 5   ELEV              161 non-null    int64  \n",
      " 6   Latitude          161 non-null    float64\n",
      " 7   Longitude         161 non-null    float64\n",
      "dtypes: float64(2), int64(2), object(4)\n",
      "memory usage: 10.2+ KB\n"
     ]
    }
   ],
   "source": [
    "sensors_ds.info()"
   ],
   "metadata": {
    "collapsed": false,
    "pycharm": {
     "name": "#%%\n"
    }
   }
  },
  {
   "cell_type": "code",
   "execution_count": 47,
   "outputs": [
    {
     "data": {
      "text/plain": "STA\n22508    2192\n10701    2185\n22502    2154\n22504    2118\n10803    1750\n11610    1631\n16405    1622\n11601    1604\n10502    1527\n11604    1514\ndtype: int64"
     },
     "execution_count": 47,
     "metadata": {},
     "output_type": "execute_result"
    }
   ],
   "source": [
    "dataset.groupby(\"STA\").size().sort_values(0, ascending=False).head(10)\n",
    "\n",
    "# Grouping the rows by sensor id (STA), counting the size of each group, and, finally, sorting them\n",
    "# gives us the list of STAs that show up the most."
   ],
   "metadata": {
    "collapsed": false,
    "pycharm": {
     "name": "#%%\n"
    }
   }
  },
  {
   "cell_type": "code",
   "execution_count": 48,
   "outputs": [],
   "source": [
    "dataset[\"Date\"] = pd.to_datetime(dataset[\"Date\"])\n",
    "df = dataset.set_index(\"Date\")"
   ],
   "metadata": {
    "collapsed": false,
    "pycharm": {
     "name": "#%%\n"
    }
   }
  },
  {
   "cell_type": "code",
   "execution_count": 49,
   "outputs": [
    {
     "data": {
      "text/plain": "Date\n1940-01-01    20.000000\n1940-01-02    19.444444\n1940-01-03    20.000000\n1940-01-04    21.111111\n1940-01-05    18.333333\nName: MeanTemp, dtype: float64"
     },
     "execution_count": 49,
     "metadata": {},
     "output_type": "execute_result"
    }
   ],
   "source": [
    "# We can now keep only the readings of Sensor 22508 and plot the series of MeanTemps\n",
    "\n",
    "mtemps = df[df[\"STA\"] == 22508][\"MeanTemp\"]\n",
    "mtemps.head(5)"
   ],
   "metadata": {
    "collapsed": false,
    "pycharm": {
     "name": "#%%\n"
    }
   }
  },
  {
   "cell_type": "code",
   "execution_count": 50,
   "outputs": [
    {
     "data": {
      "text/plain": "<Figure size 432x288 with 1 Axes>",
      "image/png": "[encoded data removed]"
     },
     "metadata": {
      "needs_background": "light"
     },
     "output_type": "display_data"
    }
   ],
   "source": [
    "fig, ax = plt.subplots()\n",
    "_ = ax.plot(mtemps.index.values, mtemps.values)"
   ],
   "metadata": {
    "collapsed": false,
    "pycharm": {
     "name": "#%%\n"
    }
   }
  },
  {
   "cell_type": "code",
   "execution_count": 51,
   "outputs": [],
   "source": [
    "# In this exercise, we\n",
    "# will adopt the simpler way and use the values in a window of fixed-length W. Specifically, this\n",
    "# window will be rolling along the series, to obtain one record for each time step (for a graphical\n",
    "# representation, please refer to the laboratory text);\n",
    "# - target variable: to model the task of forecasting, the target variable should encode a future event.\n",
    "# Thus, the algorithm will be able to model the relationship between some already-seen feature values\n",
    "# and an upcoming behavior of the series. In this exercise, we will use as target variable the value of\n",
    "# the series right after the considered window."
   ],
   "metadata": {
    "collapsed": false,
    "pycharm": {
     "name": "#%%\n"
    }
   }
  },
  {
   "cell_type": "code",
   "execution_count": 52,
   "outputs": [
    {
     "data": {
      "text/plain": "((2189, 3), (2189,))"
     },
     "execution_count": 52,
     "metadata": {},
     "output_type": "execute_result"
    }
   ],
   "source": [
    "W = 3\n",
    "X = list()\n",
    "y = list()\n",
    "\n",
    "for i in range(mtemps.size - W): # range: [0, mtemps.size - W - 1]\n",
    "    X.append(mtemps.iloc[i:i + W].values.T) # transpose to create a row array\n",
    "    y.append(mtemps.iloc[i + W])\n",
    "\n",
    "# transform the structured representation into numpy arrays\n",
    "X = np.array(X)\n",
    "y = np.array(y)\n",
    "X.shape, y.shape"
   ],
   "metadata": {
    "collapsed": false,
    "pycharm": {
     "name": "#%%\n"
    }
   }
  },
  {
   "cell_type": "code",
   "execution_count": 53,
   "outputs": [
    {
     "name": "stdout",
     "output_type": "stream",
     "text": [
      "Date\n",
      "1940-01-01    20.000000\n",
      "1940-01-02    19.444444\n",
      "1940-01-03    20.000000\n",
      "1940-01-04    21.111111\n",
      "1940-01-05    18.333333\n",
      "1940-01-06    20.000000\n",
      "Name: MeanTemp, dtype: float64\n",
      "[[20.         19.44444444 20.        ]\n",
      " [19.44444444 20.         21.11111111]\n",
      " [20.         21.11111111 18.33333333]]\n"
     ]
    }
   ],
   "source": [
    "print(mtemps[:6])\n",
    "print(X[:3,:])"
   ],
   "metadata": {
    "collapsed": false,
    "pycharm": {
     "name": "#%%\n"
    }
   }
  },
  {
   "cell_type": "code",
   "execution_count": 54,
   "outputs": [
    {
     "data": {
      "text/plain": "                   t0         t1         t2\nDate                                       \n1940-01-01  20.000000  19.444444  20.000000\n1940-01-02  19.444444  20.000000  21.111111\n1940-01-03  20.000000  21.111111  18.333333\n1940-01-04  21.111111  18.333333  20.000000\n1940-01-05  18.333333  20.000000  20.555556",
      "text/html": "<div>\n<style scoped>\n    .dataframe tbody tr th:only-of-type {\n        vertical-align: middle;\n    }\n\n    .dataframe tbody tr th {\n        vertical-align: top;\n    }\n\n    .dataframe thead th {\n        text-align: right;\n    }\n</style>\n<table border=\"1\" class=\"dataframe\">\n  <thead>\n    <tr style=\"text-align: right;\">\n      <th></th>\n      <th>t0</th>\n      <th>t1</th>\n      <th>t2</th>\n    </tr>\n    <tr>\n      <th>Date</th>\n      <th></th>\n      <th></th>\n      <th></th>\n    </tr>\n  </thead>\n  <tbody>\n    <tr>\n      <th>1940-01-01</th>\n      <td>20.000000</td>\n      <td>19.444444</td>\n      <td>20.000000</td>\n    </tr>\n    <tr>\n      <th>1940-01-02</th>\n      <td>19.444444</td>\n      <td>20.000000</td>\n      <td>21.111111</td>\n    </tr>\n    <tr>\n      <th>1940-01-03</th>\n      <td>20.000000</td>\n      <td>21.111111</td>\n      <td>18.333333</td>\n    </tr>\n    <tr>\n      <th>1940-01-04</th>\n      <td>21.111111</td>\n      <td>18.333333</td>\n      <td>20.000000</td>\n    </tr>\n    <tr>\n      <th>1940-01-05</th>\n      <td>18.333333</td>\n      <td>20.000000</td>\n      <td>20.555556</td>\n    </tr>\n  </tbody>\n</table>\n</div>"
     },
     "execution_count": 54,
     "metadata": {},
     "output_type": "execute_result"
    }
   ],
   "source": [
    "X_df = pd.DataFrame(X, index=mtemps.index[:mtemps.size - W], columns=[\"t0\", \"t1\", \"t2\"])\n",
    "X_df.head()"
   ],
   "metadata": {
    "collapsed": false,
    "pycharm": {
     "name": "#%%\n"
    }
   }
  },
  {
   "cell_type": "code",
   "execution_count": 55,
   "outputs": [
    {
     "data": {
      "text/plain": "Date\n1940-01-01    21.111111\n1940-01-02    18.333333\n1940-01-03    20.000000\n1940-01-04    20.555556\n1940-01-05    18.888889\ndtype: float64"
     },
     "execution_count": 55,
     "metadata": {},
     "output_type": "execute_result"
    }
   ],
   "source": [
    "y_s = pd.Series(y, index=mtemps.index[:mtemps.size - W])\n",
    "y_s.head()"
   ],
   "metadata": {
    "collapsed": false,
    "pycharm": {
     "name": "#%%\n"
    }
   }
  },
  {
   "cell_type": "code",
   "execution_count": 56,
   "outputs": [],
   "source": [
    "X_train, y_train = X_df.loc[\"1940\":\"1944\"], y_s.loc[\"1940\":\"1944\"]"
   ],
   "metadata": {
    "collapsed": false,
    "pycharm": {
     "name": "#%%\n"
    }
   }
  },
  {
   "cell_type": "code",
   "execution_count": 57,
   "outputs": [
    {
     "data": {
      "text/plain": "'\\nIncluding some information from what it is consider the test set into the training procedure is a\\nwrong habit known as data leakage.\\n'"
     },
     "execution_count": 57,
     "metadata": {},
     "output_type": "execute_result"
    }
   ],
   "source": [
    "# Keep in mind that we used a forward-looking notation for our window, i.e. for the record t we have\n",
    "# the values of the series between t and t+W. Under this conditions, at the end of the year, we are\n",
    "# going to have W data points that include information from the next year. This is not a problem\n",
    "# up if we slightly shift the beginning of our test set. Specifically, we might want to start our test\n",
    "# set for the Wth day or the year.\n",
    "'''\n",
    "Including some information from what it is consider the test set into the training procedure is a\n",
    "wrong habit known as data leakage.\n",
    "'''\n",
    "# You should always stop and take a moment to consider if\n",
    "# any data leakage is happening within your pipeline."
   ],
   "metadata": {
    "collapsed": false,
    "pycharm": {
     "name": "#%%\n"
    }
   }
  },
  {
   "cell_type": "code",
   "execution_count": 58,
   "outputs": [
    {
     "data": {
      "text/plain": "datetime.date(1945, 1, 3)"
     },
     "execution_count": 58,
     "metadata": {},
     "output_type": "execute_result"
    }
   ],
   "source": [
    "initial_day = date(1944, 12, 31) + pd.Timedelta(f\"{W} days\")\n",
    "initial_day"
   ],
   "metadata": {
    "collapsed": false,
    "pycharm": {
     "name": "#%%\n"
    }
   }
  },
  {
   "cell_type": "code",
   "execution_count": 59,
   "outputs": [
    {
     "data": {
      "text/plain": "((360, 3), (360,))"
     },
     "execution_count": 59,
     "metadata": {},
     "output_type": "execute_result"
    }
   ],
   "source": [
    "X_test, y_test = X_df.loc[initial_day:], y_s.loc[initial_day:]\n",
    "\n",
    "X_test.shape, y_test.shape"
   ],
   "metadata": {
    "collapsed": false,
    "pycharm": {
     "name": "#%%\n"
    }
   }
  },
  {
   "cell_type": "markdown",
   "source": [
    "more complex and useful indexings are possibile\n",
    "\n",
    "https://pandas.pydata.org/pandas-docs/stable/user_guide/indexing.html"
   ],
   "metadata": {
    "collapsed": false,
    "pycharm": {
     "name": "#%% md\n"
    }
   }
  },
  {
   "cell_type": "code",
   "execution_count": 60,
   "outputs": [],
   "source": [
    "def get_models(degree):\n",
    "    models = [LinearRegression(),\n",
    "              Ridge(random_state=42),\n",
    "              MLPRegressor(hidden_layer_sizes=(10,), random_state=42, max_iter=10000),\n",
    "              MLPRegressor(hidden_layer_sizes=(10,10), activation='tanh', solver='lbfgs',\n",
    "                           alpha=0.000, batch_size='auto', learning_rate='constant',learning_rate_init=0.01,\n",
    "                           power_t=0.5, max_iter=10000, shuffle=True, momentum=0.0, nesterovs_momentum=False,\n",
    "                           early_stopping=False, validation_fraction=0.0, beta_1=0.9, beta_2=0.999, epsilon=1e-08),\n",
    "              SVR(gamma='scale'),\n",
    "              RandomForestRegressor(n_estimators=300),\n",
    "              make_pipeline(\n",
    "                  make_column_transformer(\n",
    "                      (FunctionTransformer(np.sin), [0]),\n",
    "                      (PolynomialFeatures(degree), [0])\n",
    "                  ),\n",
    "                  LinearRegression()\n",
    "              ),\n",
    "              make_pipeline(\n",
    "                  make_column_transformer(\n",
    "                      (FunctionTransformer(np.sin), [0]),\n",
    "                      (PolynomialFeatures(degree), [0])\n",
    "                  ),\n",
    "                  Ridge(alpha=1)\n",
    "              )\n",
    "              ]\n",
    "\n",
    "    names = [\n",
    "            'linreg',\n",
    "            'ridge',\n",
    "            'mlp_standard',\n",
    "            'mlp_tuned',\n",
    "            'svr',\n",
    "            'rf',\n",
    "            f'sin+poly{degree}+linreg',\n",
    "            f'sin+poly{degree}+ridge'\n",
    "    ]\n",
    "\n",
    "    return models, names"
   ],
   "metadata": {
    "collapsed": false,
    "pycharm": {
     "name": "#%%\n"
    }
   }
  },
  {
   "cell_type": "code",
   "execution_count": 61,
   "outputs": [],
   "source": [
    "def ev_models(degree):\n",
    "\n",
    "    t = PrettyTable()\n",
    "\n",
    "    t.field_names = ['model', 'MSE', 'R2']\n",
    "\n",
    "    models, names = get_models(degree)\n",
    "\n",
    "    for model, name in zip(models, names):\n",
    "        model.fit(X_train, y_train)\n",
    "        y_hat = model.predict(X_test)\n",
    "        mse = mean_squared_error(y_test, y_hat)\n",
    "        r2 = r2_score(y_test, y_hat)\n",
    "        t.add_row([name, mse, r2])\n",
    "    print(t)"
   ],
   "metadata": {
    "collapsed": false,
    "pycharm": {
     "name": "#%%\n"
    }
   }
  },
  {
   "cell_type": "code",
   "execution_count": 62,
   "outputs": [
    {
     "name": "stdout",
     "output_type": "stream",
     "text": [
      "+------------------+--------------------+----------------------+\n",
      "|      model       |        MSE         |          R2          |\n",
      "+------------------+--------------------+----------------------+\n",
      "|      linreg      | 0.7708838668711149 |  0.6684666582498298  |\n",
      "|      ridge       | 0.7708190312576431 |  0.6684945420446821  |\n",
      "|   mlp_standard   | 0.7756832982117084 |  0.6664025710646799  |\n",
      "|    mlp_tuned     | 2.4075102676390663 | -0.03539580814923626 |\n",
      "|       svr        | 0.7606632382515228 |  0.6728622349464781  |\n",
      "|        rf        | 0.8322368191111649 |  0.6420806484284787  |\n",
      "| sin+poly3+linreg | 1.144400445947061  |  0.5078287139602993  |\n",
      "| sin+poly3+ridge  | 1.1437965238378287 |  0.508088442206842   |\n",
      "+------------------+--------------------+----------------------+\n"
     ]
    }
   ],
   "source": [
    "ev_models(degree=3)"
   ],
   "metadata": {
    "collapsed": false,
    "pycharm": {
     "name": "#%%\n"
    }
   }
  },
  {
   "cell_type": "markdown",
   "source": [
    "Even in this case, the models with behavior more close to linear perform the better. This could\n",
    "imply that some sort of linear relationship exists between the past W values of the series and the\n",
    "target. Additional comments can be made: - the choice of custom tuning of MLP is wrong in this\n",
    "case, since it lead to the worst performance.\n",
    "\n",
    "if we get a higher degree we cleary see that performances unexpectedly become the best"
   ],
   "metadata": {
    "collapsed": false,
    "pycharm": {
     "name": "#%% md\n"
    }
   }
  },
  {
   "cell_type": "code",
   "execution_count": 63,
   "outputs": [
    {
     "name": "stdout",
     "output_type": "stream",
     "text": [
      "+------------------+--------------------+--------------------+\n",
      "|      model       |        MSE         |         R2         |\n",
      "+------------------+--------------------+--------------------+\n",
      "|      linreg      | 0.7708838668711149 | 0.6684666582498298 |\n",
      "|      ridge       | 0.7708190312576431 | 0.6684945420446821 |\n",
      "|   mlp_standard   | 0.7756832982117084 | 0.6664025710646799 |\n",
      "|    mlp_tuned     | 0.7660389558980066 | 0.6705503048202479 |\n",
      "|       svr        | 0.7606632382515228 | 0.6728622349464781 |\n",
      "|        rf        | 0.8334736747824185 | 0.6415487150055914 |\n",
      "| sin+poly5+linreg | 1.1396245118373751 | 0.5098826957121674 |\n",
      "| sin+poly5+ridge  | 1.1393130365855602 |  0.5100166515978   |\n",
      "+------------------+--------------------+--------------------+\n"
     ]
    }
   ],
   "source": [
    "ev_models(degree=5)\n"
   ],
   "metadata": {
    "collapsed": false,
    "pycharm": {
     "name": "#%%\n"
    }
   }
  },
  {
   "cell_type": "markdown",
   "source": [
    "validating a machine learning approach based on time\n",
    "series requires further attention. Cross-validation is not allowed, for example, since values have\n",
    "an intrinsc order and cannot be shuffled. Scikit-learn offers a validation strategy for time series\n",
    "thourgh the TimeSeriesSplit (https://scikit-learn.org/stable/modules/generated/sklearn.model_selection.TimeSeriesSplit.html) class. You can find complete examples on how to use it on the official\n",
    "documentation. The hyperparameter tuning can be mixed with TimeSeriesSplit the already seen\n",
    "GridSearchCV (http://scikit-learn.sourceforge.net/stable/modules/generated/sklearn.grid_search.GridSearchCV.html). - our approach is intentionally non incremental, i.e. we train the model once and we\n",
    "use it to forecast an entire future year. Although this is correct for research purposes, in practical\n",
    "applications we might find useful to fed fresh information to the model (e.g. by running the training\n",
    "again) as it comes, while the time passes by and new records are collected. The profitability of this\n",
    "approach, however, depends on the application (e.g. there are cases in which you are not able to\n",
    "train the model iteratively in time) and an improvement in performance should not be taken for\n",
    "granted.\n"
   ],
   "metadata": {
    "collapsed": false,
    "pycharm": {
     "name": "#%% md\n"
    }
   }
  },
  {
   "cell_type": "code",
   "execution_count": 66,
   "outputs": [
    {
     "data": {
      "text/plain": "<Figure size 432x288 with 2 Axes>",
      "image/png": "[encoded data removed]"
     },
     "metadata": {
      "needs_background": "light"
     },
     "output_type": "display_data"
    }
   ],
   "source": [
    "# model = Ridge(random_state=42)\n",
    "model = MLPRegressor(hidden_layer_sizes=(10,10), activation='tanh', solver='lbfgs',\n",
    "                           alpha=0.000, batch_size='auto', learning_rate='constant',learning_rate_init=0.01,\n",
    "                           power_t=0.5, max_iter=10000, shuffle=True, momentum=0.0, nesterovs_momentum=False,\n",
    "                           early_stopping=False, validation_fraction=0.0, beta_1=0.9, beta_2=0.999, epsilon=1e-08)\n",
    "model.fit(X_train, y_train)\n",
    "y_hat = model.predict(X_test)\n",
    "\n",
    "y_hat = pd.Series(y_hat, index=y_test.index)\n",
    "error = y_test - y_hat\n",
    "\n",
    "fig, ax = plt.subplots(nrows=2, ncols=1, sharex=True, gridspec_kw={'height_ratios': [3, 1]})\n",
    "\n",
    "ax[0].plot(y_test, label=\"Ground truth\")\n",
    "ax[0].plot(y_hat, label=\"Predicted\")\n",
    "ax[0].set_ylabel(\"Temperature (C)\")\n",
    "ax[0].legend()\n",
    "ax[0].grid()\n",
    "ax[1].plot(error.abs())\n",
    "ax[1].set_ylabel(\"|error|\")\n",
    "ax[1].axhline(error.abs().mean(), color=\"purple\", label = \"Average |error|\")\n",
    "ax[1].legend()\n",
    "ax[1].grid()"
   ],
   "metadata": {
    "collapsed": false,
    "pycharm": {
     "name": "#%%\n"
    }
   }
  },
  {
   "cell_type": "code",
   "execution_count": 67,
   "outputs": [
    {
     "data": {
      "text/plain": "'The average |error| is: 0.65 +- 0.58 degrees Celsius'"
     },
     "execution_count": 67,
     "metadata": {},
     "output_type": "execute_result"
    }
   ],
   "source": [
    "f\"The average |error| is: {error.abs().mean():.2f} +- {error.abs().std():.2f} degrees Celsius\""
   ],
   "metadata": {
    "collapsed": false,
    "pycharm": {
     "name": "#%%\n"
    }
   }
  },
  {
   "cell_type": "code",
   "execution_count": null,
   "outputs": [],
   "source": [],
   "metadata": {
    "collapsed": false,
    "pycharm": {
     "name": "#%%\n"
    }
   }
  }
 ],
 "metadata": {
  "kernelspec": {
   "name": "pycharm-9f4e7ab1",
   "language": "python",
   "display_name": "PyCharm (gpt_eval_repl)"
  },
  "language_info": {
   "codemirror_mode": {
    "name": "ipython",
    "version": 2
   },
   "file_extension": ".py",
   "mimetype": "text/x-python",
   "name": "python",
   "nbconvert_exporter": "python",
   "pygments_lexer": "ipython2",
   "version": "2.7.6"
  }
 },
 "nbformat": 4,
 "nbformat_minor": 0
}