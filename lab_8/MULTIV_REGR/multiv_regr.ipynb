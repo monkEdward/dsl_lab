{
 "cells": [
  {
   "cell_type": "code",
   "execution_count": 1,
   "metadata": {
    "collapsed": true
   },
   "outputs": [],
   "source": [
    "import numpy as np\n",
    "import pandas as pd\n",
    "import matplotlib.pyplot as plt\n",
    "from sklearn.linear_model import LinearRegression\n",
    "from sklearn.neural_network import MLPRegressor\n",
    "from sklearn.svm import SVR\n",
    "from sklearn.ensemble import RandomForestRegressor\n",
    "from sklearn.linear_model import Ridge\n",
    "from sklearn.preprocessing import FunctionTransformer, PolynomialFeatures\n",
    "from sklearn.compose import make_column_transformer\n",
    "from sklearn.pipeline import make_pipeline\n",
    "from sklearn.model_selection import train_test_split\n",
    "from prettytable import PrettyTable\n",
    "from sklearn.metrics import mean_squared_error\n",
    "from sklearn.metrics import r2_score\n",
    "from sklearn.datasets import make_regression"
   ]
  },
  {
   "cell_type": "code",
   "execution_count": 11,
   "outputs": [
    {
     "data": {
      "text/plain": "((2000, 100), (2000,))"
     },
     "execution_count": 11,
     "metadata": {},
     "output_type": "execute_result"
    }
   ],
   "source": [
    "x, y = make_regression(n_samples=2000, random_state=42)\n",
    "x.shape, y.shape"
   ],
   "metadata": {
    "collapsed": false,
    "pycharm": {
     "name": "#%%\n"
    }
   }
  },
  {
   "cell_type": "code",
   "execution_count": 12,
   "outputs": [],
   "source": [
    "degree = 5\n",
    "\n",
    "models = [LinearRegression(),\n",
    "          Ridge(random_state=42),\n",
    "          MLPRegressor(hidden_layer_sizes=(10,), random_state=42, max_iter=10000),\n",
    "          MLPRegressor(hidden_layer_sizes=(10,10), activation='tanh', solver='lbfgs',\n",
    "                       alpha=0.000, batch_size='auto', learning_rate='constant',learning_rate_init=0.01,\n",
    "                       power_t=0.5, max_iter=10000, shuffle=True, momentum=0.0, nesterovs_momentum=False,\n",
    "                       early_stopping=False, validation_fraction=0.0, beta_1=0.9, beta_2=0.999, epsilon=1e-08),\n",
    "          SVR(gamma='scale'),\n",
    "          RandomForestRegressor(n_estimators=300),\n",
    "          make_pipeline(\n",
    "              make_column_transformer(\n",
    "                  (FunctionTransformer(np.sin), [0]),\n",
    "                  (PolynomialFeatures(degree), [0])\n",
    "              ),\n",
    "              LinearRegression()\n",
    "          ),\n",
    "          make_pipeline(\n",
    "              make_column_transformer(\n",
    "                  (FunctionTransformer(np.sin), [0]),\n",
    "                  (PolynomialFeatures(degree), [0])\n",
    "              ),\n",
    "              Ridge(alpha=1)\n",
    "          )\n",
    "          ]\n",
    "\n",
    "names = [\n",
    "        'linreg',\n",
    "        'ridge',\n",
    "        'mlp_standard',\n",
    "        'mlp_tuned',\n",
    "        'svr',\n",
    "        'rf',\n",
    "        f'sin+poly{degree}+linreg',\n",
    "        f'sin+poly{degree}+ridge'\n",
    "]"
   ],
   "metadata": {
    "collapsed": false,
    "pycharm": {
     "name": "#%%\n"
    }
   }
  },
  {
   "cell_type": "code",
   "execution_count": 13,
   "outputs": [
    {
     "name": "stderr",
     "output_type": "stream",
     "text": [
      "C:\\Users\\Ooweey\\AppData\\Local\\Programs\\Python\\Python39\\lib\\site-packages\\sklearn\\neural_network\\_multilayer_perceptron.py:500: ConvergenceWarning: lbfgs failed to converge (status=1):\n",
      "STOP: TOTAL NO. of ITERATIONS REACHED LIMIT.\n",
      "\n",
      "Increase the number of iterations (max_iter) or scale the data as shown in:\n",
      "    https://scikit-learn.org/stable/modules/preprocessing.html\n",
      "  self.n_iter_ = _check_optimize_result(\"lbfgs\", opt_res, self.max_iter)\n"
     ]
    },
    {
     "name": "stdout",
     "output_type": "stream",
     "text": [
      "+------------------+------------------------+------------------------+\n",
      "|      model       |          MSE           |           R2           |\n",
      "+------------------+------------------------+------------------------+\n",
      "|      linreg      | 3.8925199139800473e-25 |          1.0           |\n",
      "|      ridge       |   0.1698918303575478   |   0.9999955187687856   |\n",
      "|   mlp_standard   |   1737.5465091777812   |   0.9541687929482061   |\n",
      "|    mlp_tuned     |   13717.389949529363   |   0.6381768570416143   |\n",
      "|       svr        |   37401.18710869763    |  0.01347011932777109   |\n",
      "|        rf        |   12155.182042867238   |   0.6793831635490941   |\n",
      "| sin+poly5+linreg |   38065.63704002956    | -0.0040560546293415545 |\n",
      "| sin+poly5+ridge  |   38065.72559884911    |  -0.00405839054240853  |\n",
      "+------------------+------------------------+------------------------+\n"
     ]
    }
   ],
   "source": [
    "t = PrettyTable()\n",
    "t.field_names = ['model', 'MSE', 'R2']\n",
    "\n",
    "for model, name in zip(models, names):\n",
    "    x_train, x_test, y_train, y_test = train_test_split(x, y, test_size=.7, random_state=42, shuffle=True)\n",
    "\n",
    "    model.fit(x_train, y_train)\n",
    "    y_hat = model.predict(x_test)\n",
    "\n",
    "    mse = mean_squared_error(y_test, y_hat)\n",
    "    r2 = r2_score(y_test, y_hat)\n",
    "    t.add_row([name, mse, r2])\n",
    "\n",
    "print(t)"
   ],
   "metadata": {
    "collapsed": false,
    "pycharm": {
     "name": "#%%\n"
    }
   }
  },
  {
   "cell_type": "code",
   "execution_count": 15,
   "outputs": [
    {
     "name": "stderr",
     "output_type": "stream",
     "text": [
      "C:\\Users\\Ooweey\\AppData\\Local\\Programs\\Python\\Python39\\lib\\site-packages\\sklearn\\neural_network\\_multilayer_perceptron.py:500: ConvergenceWarning: lbfgs failed to converge (status=1):\n",
      "STOP: TOTAL NO. of ITERATIONS REACHED LIMIT.\n",
      "\n",
      "Increase the number of iterations (max_iter) or scale the data as shown in:\n",
      "    https://scikit-learn.org/stable/modules/preprocessing.html\n",
      "  self.n_iter_ = _check_optimize_result(\"lbfgs\", opt_res, self.max_iter)\n"
     ]
    },
    {
     "name": "stdout",
     "output_type": "stream",
     "text": [
      "+------------------+--------------------+----------------------+\n",
      "|      model       |        MSE         |          R2          |\n",
      "+------------------+--------------------+----------------------+\n",
      "|      linreg      | 111.61986854901251 |  0.9971651545881619  |\n",
      "|      ridge       | 111.90635578460277 |  0.9971578785804411  |\n",
      "|   mlp_standard   | 1885.0601902688204 |  0.9521245249534078  |\n",
      "|    mlp_tuned     | 12576.185483224413 |  0.6805986050781948  |\n",
      "|       svr        |  38911.2303961514  | 0.011759067705161996 |\n",
      "|        rf        | 12440.124945753812 |  0.6840541779559874  |\n",
      "| sin+poly5+linreg | 40186.952831343915 | -0.02064086197757553 |\n",
      "| sin+poly5+ridge  | 40208.18642076415  | -0.02118013822227338 |\n",
      "+------------------+--------------------+----------------------+\n"
     ]
    }
   ],
   "source": [
    "x_v1, y_v1 = make_regression(n_samples=2000, random_state=42, noise=10)\n",
    "\n",
    "t = PrettyTable()\n",
    "t.field_names = ['model', 'MSE', 'R2']\n",
    "\n",
    "for model, name in zip(models, names):\n",
    "    x_train, x_test, y_train, y_test = train_test_split(x_v1, y_v1, test_size=.7, random_state=42, shuffle=True)\n",
    "\n",
    "    model.fit(x_train, y_train)\n",
    "    y_hat = model.predict(x_test)\n",
    "\n",
    "    mse = mean_squared_error(y_test, y_hat)\n",
    "    r2 = r2_score(y_test, y_hat)\n",
    "    t.add_row([name, mse, r2])\n",
    "\n",
    "print(t)"
   ],
   "metadata": {
    "collapsed": false,
    "pycharm": {
     "name": "#%%\n"
    }
   }
  },
  {
   "cell_type": "code",
   "execution_count": 16,
   "outputs": [
    {
     "name": "stderr",
     "output_type": "stream",
     "text": [
      "C:\\Users\\Ooweey\\AppData\\Local\\Programs\\Python\\Python39\\lib\\site-packages\\sklearn\\neural_network\\_multilayer_perceptron.py:500: ConvergenceWarning: lbfgs failed to converge (status=1):\n",
      "STOP: TOTAL NO. of ITERATIONS REACHED LIMIT.\n",
      "\n",
      "Increase the number of iterations (max_iter) or scale the data as shown in:\n",
      "    https://scikit-learn.org/stable/modules/preprocessing.html\n",
      "  self.n_iter_ = _check_optimize_result(\"lbfgs\", opt_res, self.max_iter)\n"
     ]
    },
    {
     "name": "stdout",
     "output_type": "stream",
     "text": [
      "+------------------+--------------------+----------------------+\n",
      "|      model       |        MSE         |          R2          |\n",
      "+------------------+--------------------+----------------------+\n",
      "|      linreg      | 111.61986854901251 |  0.9971651545881619  |\n",
      "|      ridge       | 111.90635578460277 |  0.9971578785804411  |\n",
      "|   mlp_standard   | 1885.0601902688204 |  0.9521245249534078  |\n",
      "|    mlp_tuned     | 12318.491265904791 |  0.6871433473281371  |\n",
      "|       svr        |  38911.2303961514  | 0.011759067705161996 |\n",
      "|        rf        | 12593.840120321656 |  0.6801502246274438  |\n",
      "| sin+poly5+linreg | 40186.952831343915 | -0.02064086197757553 |\n",
      "| sin+poly5+ridge  | 40208.18642076415  | -0.02118013822227338 |\n",
      "+------------------+--------------------+----------------------+\n"
     ]
    }
   ],
   "source": [
    "\n",
    "x_v2, y_v2 = make_regression(n_samples=2000, random_state=42, noise=10, n_informative=70)\n",
    "\n",
    "t = PrettyTable()\n",
    "t.field_names = ['model', 'MSE', 'R2']\n",
    "\n",
    "for model, name in zip(models, names):\n",
    "    x_train, x_test, y_train, y_test = train_test_split(x_v1, y_v1, test_size=.7, random_state=42, shuffle=True)\n",
    "\n",
    "    model.fit(x_train, y_train)\n",
    "    y_hat = model.predict(x_test)\n",
    "\n",
    "    mse = mean_squared_error(y_test, y_hat)\n",
    "    r2 = r2_score(y_test, y_hat)\n",
    "    t.add_row([name, mse, r2])\n",
    "\n",
    "print(t)"
   ],
   "metadata": {
    "collapsed": false,
    "pycharm": {
     "name": "#%%\n"
    }
   }
  },
  {
   "cell_type": "code",
   "execution_count": null,
   "outputs": [],
   "source": [],
   "metadata": {
    "collapsed": false,
    "pycharm": {
     "name": "#%%\n"
    }
   }
  }
 ],
 "metadata": {
  "kernelspec": {
   "name": "pycharm-9f4e7ab1",
   "language": "python",
   "display_name": "PyCharm (gpt_eval_repl)"
  },
  "language_info": {
   "codemirror_mode": {
    "name": "ipython",
    "version": 2
   },
   "file_extension": ".py",
   "mimetype": "text/x-python",
   "name": "python",
   "nbconvert_exporter": "python",
   "pygments_lexer": "ipython2",
   "version": "2.7.6"
  }
 },
 "nbformat": 4,
 "nbformat_minor": 0
}