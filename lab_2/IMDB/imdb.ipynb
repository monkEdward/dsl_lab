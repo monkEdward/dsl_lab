{
 "cells": [
  {
   "cell_type": "code",
   "execution_count": 1,
   "metadata": {
    "collapsed": true
   },
   "outputs": [],
   "source": [
    "from collections import Counter,OrderedDict\n",
    "import csv\n",
    "import string\n",
    "import math"
   ]
  },
  {
   "cell_type": "code",
   "execution_count": 2,
   "outputs": [],
   "source": [
    "reviews, labels = [], []\n",
    "\n",
    "with open('imdb.txt', encoding='UTF-8') as fp:\n",
    "    reader = csv.reader(fp)\n",
    "    next(reader) #skip header\n",
    "\n",
    "    for row in reader:\n",
    "        reviews.append(row[0])\n",
    "        labels.append(row[1])"
   ],
   "metadata": {
    "collapsed": false,
    "pycharm": {
     "name": "#%%\n"
    }
   }
  },
  {
   "cell_type": "code",
   "execution_count": 3,
   "outputs": [],
   "source": [
    "def tokenize(docs):\n",
    "    \"\"\"\n",
    "    Compute the tokens for each document.\n",
    "\n",
    "    :param docs: list of strings. Each item is a document to tokenize.\n",
    "    :return: list of lists. Each item is a list containing the tokens of the relative doc\n",
    "    \"\"\"\n",
    "    tokens = []\n",
    "\n",
    "    for doc in docs:\n",
    "        for puncts in string.punctuation:\n",
    "            doc = doc.replace(puncts, ' ')\n",
    "\n",
    "        split_doc = [token.lower() for token in doc.split() if token]\n",
    "        tokens.append(split_doc)\n",
    "\n",
    "    return tokens"
   ],
   "metadata": {
    "collapsed": false,
    "pycharm": {
     "name": "#%%\n"
    }
   }
  },
  {
   "cell_type": "code",
   "execution_count": 4,
   "outputs": [],
   "source": [
    "def get_tf(doc):\n",
    "    tf = {}\n",
    "\n",
    "    for token in doc:\n",
    "        if token not in tf:\n",
    "            tf[token] = 0\n",
    "        tf[token] += 1\n",
    "\n",
    "    return tf\n",
    "\n",
    "def compute_TF(docs):\n",
    "    tf_docs = []\n",
    "\n",
    "    for doc in docs:\n",
    "        tf_docs.append(get_tf(doc))\n",
    "\n",
    "    return tf_docs"
   ],
   "metadata": {
    "collapsed": false,
    "pycharm": {
     "name": "#%%\n"
    }
   }
  },
  {
   "cell_type": "code",
   "execution_count": 5,
   "outputs": [],
   "source": [
    "reviews = tokenize(reviews)\n",
    "tf_reviews = compute_TF(reviews)"
   ],
   "metadata": {
    "collapsed": false,
    "pycharm": {
     "name": "#%%\n"
    }
   }
  },
  {
   "cell_type": "code",
   "execution_count": 31,
   "outputs": [],
   "source": [
    "def get_df(token, docs):\n",
    "    c = 0\n",
    "    for doc in docs:\n",
    "        if token in doc:\n",
    "            c +=1\n",
    "    return c\n",
    "\n",
    "def compute_DF(docs):\n",
    "    toks = {}\n",
    "\n",
    "    for doc in docs:\n",
    "        for token in doc:\n",
    "            if token not in toks:\n",
    "                toks[token] = get_df(token, docs)\n",
    "\n",
    "    return docs\n",
    "\n",
    "def compute_IDF(docs, tdf):\n",
    "    N = len(docs)\n",
    "\n",
    "    for key in tdf.keys():\n",
    "        tdf[key] = math.log(N/tdf[key])\n",
    "\n",
    "    return tdf\n",
    "\n",
    "def sort_IDF(tdf):\n",
    "    dict1 = OrderedDict(sorted(tdf.items()))\n",
    "    print(dict1)"
   ],
   "metadata": {
    "collapsed": false,
    "pycharm": {
     "name": "#%%\n"
    }
   }
  },
  {
   "cell_type": "code",
   "execution_count": 32,
   "outputs": [
    {
     "ename": "KeyboardInterrupt",
     "evalue": "",
     "output_type": "error",
     "traceback": [
      "\u001B[1;31m---------------------------------------------------------------------------\u001B[0m",
      "\u001B[1;31mKeyboardInterrupt\u001B[0m                         Traceback (most recent call last)",
      "\u001B[1;32m<ipython-input-32-6ca3de0ff460>\u001B[0m in \u001B[0;36m<module>\u001B[1;34m\u001B[0m\n\u001B[1;32m----> 1\u001B[1;33m \u001B[0mdf_tokens\u001B[0m \u001B[1;33m=\u001B[0m \u001B[0mcompute_DF\u001B[0m\u001B[1;33m(\u001B[0m\u001B[0mreviews\u001B[0m\u001B[1;33m)\u001B[0m\u001B[1;33m\u001B[0m\u001B[1;33m\u001B[0m\u001B[0m\n\u001B[0m",
      "\u001B[1;32m<ipython-input-31-8525d1c75c9f>\u001B[0m in \u001B[0;36mcompute_DF\u001B[1;34m(docs)\u001B[0m\n\u001B[0;32m     12\u001B[0m         \u001B[1;32mfor\u001B[0m \u001B[0mtoken\u001B[0m \u001B[1;32min\u001B[0m \u001B[0mdoc\u001B[0m\u001B[1;33m:\u001B[0m\u001B[1;33m\u001B[0m\u001B[1;33m\u001B[0m\u001B[0m\n\u001B[0;32m     13\u001B[0m             \u001B[1;32mif\u001B[0m \u001B[0mtoken\u001B[0m \u001B[1;32mnot\u001B[0m \u001B[1;32min\u001B[0m \u001B[0mtoks\u001B[0m\u001B[1;33m:\u001B[0m\u001B[1;33m\u001B[0m\u001B[1;33m\u001B[0m\u001B[0m\n\u001B[1;32m---> 14\u001B[1;33m                 \u001B[0mtoks\u001B[0m\u001B[1;33m[\u001B[0m\u001B[0mtoken\u001B[0m\u001B[1;33m]\u001B[0m \u001B[1;33m=\u001B[0m \u001B[0mget_df\u001B[0m\u001B[1;33m(\u001B[0m\u001B[0mtoken\u001B[0m\u001B[1;33m,\u001B[0m \u001B[0mdocs\u001B[0m\u001B[1;33m)\u001B[0m\u001B[1;33m\u001B[0m\u001B[1;33m\u001B[0m\u001B[0m\n\u001B[0m\u001B[0;32m     15\u001B[0m \u001B[1;33m\u001B[0m\u001B[0m\n\u001B[0;32m     16\u001B[0m     \u001B[1;32mreturn\u001B[0m \u001B[0mdocs\u001B[0m\u001B[1;33m\u001B[0m\u001B[1;33m\u001B[0m\u001B[0m\n",
      "\u001B[1;32m<ipython-input-31-8525d1c75c9f>\u001B[0m in \u001B[0;36mget_df\u001B[1;34m(token, docs)\u001B[0m\n\u001B[0;32m      3\u001B[0m     \u001B[1;32mfor\u001B[0m \u001B[0mdoc\u001B[0m \u001B[1;32min\u001B[0m \u001B[0mdocs\u001B[0m\u001B[1;33m:\u001B[0m\u001B[1;33m\u001B[0m\u001B[1;33m\u001B[0m\u001B[0m\n\u001B[0;32m      4\u001B[0m         \u001B[1;32mif\u001B[0m \u001B[0mtoken\u001B[0m \u001B[1;32min\u001B[0m \u001B[0mdoc\u001B[0m\u001B[1;33m:\u001B[0m\u001B[1;33m\u001B[0m\u001B[1;33m\u001B[0m\u001B[0m\n\u001B[1;32m----> 5\u001B[1;33m             \u001B[0mc\u001B[0m \u001B[1;33m+=\u001B[0m\u001B[1;36m1\u001B[0m\u001B[1;33m\u001B[0m\u001B[1;33m\u001B[0m\u001B[0m\n\u001B[0m\u001B[0;32m      6\u001B[0m     \u001B[1;32mreturn\u001B[0m \u001B[0mc\u001B[0m\u001B[1;33m\u001B[0m\u001B[1;33m\u001B[0m\u001B[0m\n\u001B[0;32m      7\u001B[0m \u001B[1;33m\u001B[0m\u001B[0m\n",
      "\u001B[1;31mKeyboardInterrupt\u001B[0m: "
     ]
    }
   ],
   "source": [
    "df_tokens = compute_DF(reviews)"
   ],
   "metadata": {
    "collapsed": false,
    "pycharm": {
     "name": "#%%\n"
    }
   }
  },
  {
   "cell_type": "code",
   "execution_count": 6,
   "outputs": [],
   "source": [
    "def compute_TF(token_list):\n",
    "    TF = []\n",
    "\n",
    "    for document in token_list:\n",
    "        tf = {}\n",
    "        for token in document:\n",
    "            tf[token] = tf.get(token, 0) + 1\n",
    "        TF.append(tf)\n",
    "    return TF\n",
    "\n",
    "TF_list = compute_TF(reviews)"
   ],
   "metadata": {
    "collapsed": false,
    "pycharm": {
     "name": "#%%\n"
    }
   }
  },
  {
   "cell_type": "code",
   "execution_count": null,
   "outputs": [],
   "source": [],
   "metadata": {
    "collapsed": false,
    "pycharm": {
     "name": "#%%\n"
    }
   }
  }
 ],
 "metadata": {
  "kernelspec": {
   "display_name": "Python 3",
   "language": "python",
   "name": "python3"
  },
  "language_info": {
   "codemirror_mode": {
    "name": "ipython",
    "version": 2
   },
   "file_extension": ".py",
   "mimetype": "text/x-python",
   "name": "python",
   "nbconvert_exporter": "python",
   "pygments_lexer": "ipython2",
   "version": "2.7.6"
  }
 },
 "nbformat": 4,
 "nbformat_minor": 0
}