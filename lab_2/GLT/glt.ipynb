{
 "cells": [
  {
   "cell_type": "code",
   "execution_count": 29,
   "outputs": [
    {
     "data": {
      "text/plain": "'glt (1).csv'"
     },
     "execution_count": 29,
     "metadata": {},
     "output_type": "execute_result"
    }
   ],
   "source": [
    "import wget\n",
    "\n",
    "url = 'https://raw.githubusercontent.com/dbdmg/data-science-lab/master/datasets/GLT_filtered.csv'\n",
    "\n",
    "wget.download(url, 'glt.csv')\n"
   ],
   "metadata": {
    "collapsed": false,
    "pycharm": {
     "name": "#%%\n"
    }
   }
  },
  {
   "cell_type": "code",
   "execution_count": 30,
   "outputs": [],
   "source": [
    "import csv\n",
    "\n",
    "f_names = True\n",
    "temp_features = []\n",
    "temp_list = []\n",
    "\n",
    "with open('glt.csv', 'r') as f:\n",
    "    for line in csv.reader(f):\n",
    "        if f_names:\n",
    "            f_names = False\n",
    "            temp_features.append(line)\n",
    "        else:\n",
    "            temp_list.append(line)"
   ],
   "metadata": {
    "collapsed": false,
    "pycharm": {
     "name": "#%%\n"
    }
   }
  },
  {
   "cell_type": "code",
   "execution_count": 31,
   "outputs": [],
   "source": [
    "import math\n",
    "\n",
    "def rec_mean(a, b, l, i):\n",
    "    if b != '':\n",
    "        return (a + float(b)) / 2\n",
    "    else:\n",
    "        return (a + rec_mean(a, l[i+1][1], l, i+1)) /2\n",
    "\n",
    "a = float(temp_list[0][1])\n",
    "\n",
    "for i, el in enumerate(temp_list):\n",
    "    if el[1] == '':\n",
    "        temp_list[i][1] = rec_mean(a, temp_list[i+1][1], temp_list, i+1)\n",
    "    else:\n",
    "        a = float(el[1])"
   ],
   "metadata": {
    "collapsed": false,
    "pycharm": {
     "name": "#%%\n"
    }
   }
  },
  {
   "cell_type": "code",
   "execution_count": 32,
   "outputs": [
    {
     "name": "stdout",
     "output_type": "stream",
     "text": [
      "Bangkok\n",
      "[71.4092, 71.4686, 72.05539999999999, 72.15259999999999]\n",
      "[87.76939999999999, 87.83959999999999, 87.9548, 88.00699999999999]\n"
     ]
    }
   ],
   "source": [
    "import random as rand\n",
    "cities = set(x[3] for x in temp_list)\n",
    "\n",
    "# cit = rand.sample(cities, 1)\n",
    "cit = 'Bangkok'\n",
    "cit_temp = []\n",
    "for el in temp_list:\n",
    "    if str(el[3]) == str(cit):\n",
    "        cit_temp.append(float(el[1]))\n",
    "\n",
    "cit_t = sorted(cit_temp)\n",
    "\n",
    "print(cit)\n",
    "print(cit_t[:4])\n",
    "print(cit_t[-4:])"
   ],
   "metadata": {
    "collapsed": false,
    "pycharm": {
     "name": "#%%\n"
    }
   }
  },
  {
   "cell_type": "code",
   "execution_count": 33,
   "outputs": [
    {
     "data": {
      "text/plain": "(array([ 14.,  48., 171., 224., 341., 419., 596., 354., 141.,  44.]),\n array([71.4092 , 73.06898, 74.72876, 76.38854, 78.04832, 79.7081 ,\n        81.36788, 83.02766, 84.68744, 86.34722, 88.007  ]),\n <BarContainer object of 10 artists>)"
     },
     "execution_count": 33,
     "metadata": {},
     "output_type": "execute_result"
    },
    {
     "data": {
      "text/plain": "<Figure size 432x288 with 1 Axes>",
      "image/png": "[encoded data removed]"
     },
     "metadata": {
      "needs_background": "light"
     },
     "output_type": "display_data"
    }
   ],
   "source": [
    "import matplotlib.pyplot as plt\n",
    "\n",
    "plt.hist(cit_temp)"
   ],
   "metadata": {
    "collapsed": false,
    "pycharm": {
     "name": "#%%\n"
    }
   }
  },
  {
   "cell_type": "code",
   "execution_count": 34,
   "outputs": [
    {
     "data": {
      "text/plain": "(array([ 14.,  48., 171., 224., 341., 419., 596., 354., 141.,  44.]),\n array([21.894 , 22.8161, 23.7382, 24.6603, 25.5824, 26.5045, 27.4266,\n        28.3487, 29.2708, 30.1929, 31.115 ]),\n <BarContainer object of 10 artists>)"
     },
     "execution_count": 34,
     "metadata": {},
     "output_type": "execute_result"
    },
    {
     "data": {
      "text/plain": "<Figure size 432x288 with 1 Axes>",
      "image/png": "[encoded data removed]"
     },
     "metadata": {
      "needs_background": "light"
     },
     "output_type": "display_data"
    }
   ],
   "source": [
    "def kv_to_c(temp):\n",
    "    return (temp - 32)/1.8\n",
    "\n",
    "cit_temp = [kv_to_c(x) for x in cit_temp]\n",
    "\n",
    "plt.hist(cit_temp)"
   ],
   "metadata": {
    "collapsed": false,
    "pycharm": {
     "name": "#%%\n"
    }
   }
  },
  {
   "cell_type": "code",
   "execution_count": null,
   "outputs": [],
   "source": [],
   "metadata": {
    "collapsed": false,
    "pycharm": {
     "name": "#%%\n"
    }
   }
  }
 ],
 "metadata": {
  "kernelspec": {
   "display_name": "Python 3",
   "language": "python",
   "name": "python3"
  },
  "language_info": {
   "codemirror_mode": {
    "name": "ipython",
    "version": 2
   },
   "file_extension": ".py",
   "mimetype": "text/x-python",
   "name": "python",
   "nbconvert_exporter": "python",
   "pygments_lexer": "ipython2",
   "version": "2.7.6"
  }
 },
 "nbformat": 4,
 "nbformat_minor": 0
}