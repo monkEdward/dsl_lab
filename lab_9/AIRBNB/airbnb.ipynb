{
 "cells": [
  {
   "cell_type": "code",
   "execution_count": 1,
   "metadata": {
    "collapsed": true
   },
   "outputs": [],
   "source": [
    "import os\n",
    "import numpy as np\n",
    "import pandas as pd\n",
    "import seaborn as sns\n",
    "import matplotlib.pyplot as plt\n",
    "from datetime import date\n",
    "\n",
    "from scipy.stats import zscore\n",
    "# from scipy.io import wavfile\n",
    "\n",
    "from sklearn.model_selection import KFold\n",
    "from sklearn.model_selection import ParameterGrid\n",
    "from sklearn.model_selection import GridSearchCV\n",
    "from sklearn.model_selection import train_test_split\n",
    "\n",
    "from sklearn.ensemble import RandomForestClassifier\n",
    "\n",
    "from sklearn.feature_extraction.text import TfidfVectorizer\n",
    "\n",
    "from sklearn.metrics import accuracy_score,\\\n",
    "                            confusion_matrix, \\\n",
    "                            precision_score, \\\n",
    "                            recall_score, \\\n",
    "                            f1_score, \\\n",
    "                            classification_report\n",
    "\n",
    "\n",
    "from sklearn.preprocessing import FunctionTransformer, PolynomialFeatures\n",
    "from sklearn.compose import make_column_transformer\n",
    "from sklearn.ensemble import RandomForestRegressor\n",
    "from sklearn.linear_model import LinearRegression\n",
    "from sklearn.neural_network import MLPRegressor\n",
    "from sklearn.pipeline import make_pipeline\n",
    "from sklearn.linear_model import Ridge\n",
    "from sklearn.svm import SVR\n",
    "\n",
    "from sklearn.metrics import mean_squared_error, \\\n",
    "                            r2_score\n",
    "\n",
    "from prettytable import PrettyTable"
   ]
  },
  {
   "cell_type": "code",
   "execution_count": 2,
   "outputs": [],
   "source": [
    "data_path = ['./NYC_Airbnb/development.csv', './NYC_Airbnb/evaluation.csv']\n",
    "\n",
    "def load_data(data_path, phase):\n",
    "\n",
    "    if phase == 'dev':\n",
    "        data_path = data_path[0]\n",
    "        dataset = pd.read_csv(data_path, low_memory=False)\n",
    "\n",
    "    elif phase == 'eval':\n",
    "        data_path = data_path[1]\n",
    "        dataset = pd.read_csv(data_path, low_memory=False)\n",
    "\n",
    "    else:\n",
    "        print('Phase not valid')\n",
    "        raise Exception\n",
    "\n",
    "    return dataset"
   ],
   "metadata": {
    "collapsed": false,
    "pycharm": {
     "name": "#%%\n"
    }
   }
  },
  {
   "cell_type": "code",
   "execution_count": 3,
   "outputs": [
    {
     "name": "stdout",
     "output_type": "stream",
     "text": [
      "<class 'pandas.core.frame.DataFrame'>\n",
      "RangeIndex: 39116 entries, 0 to 39115\n",
      "Data columns (total 16 columns):\n",
      " #   Column                          Non-Null Count  Dtype  \n",
      "---  ------                          --------------  -----  \n",
      " 0   id                              39116 non-null  int64  \n",
      " 1   name                            39103 non-null  object \n",
      " 2   host_id                         39116 non-null  int64  \n",
      " 3   host_name                       39097 non-null  object \n",
      " 4   neighbourhood_group             39116 non-null  object \n",
      " 5   neighbourhood                   39116 non-null  object \n",
      " 6   latitude                        39116 non-null  float64\n",
      " 7   longitude                       39116 non-null  float64\n",
      " 8   room_type                       39116 non-null  object \n",
      " 9   price                           39116 non-null  int64  \n",
      " 10  minimum_nights                  39116 non-null  int64  \n",
      " 11  number_of_reviews               39116 non-null  int64  \n",
      " 12  last_review                     31075 non-null  object \n",
      " 13  reviews_per_month               31075 non-null  float64\n",
      " 14  calculated_host_listings_count  39116 non-null  int64  \n",
      " 15  availability_365                39116 non-null  int64  \n",
      "dtypes: float64(3), int64(7), object(6)\n",
      "memory usage: 4.8+ MB\n"
     ]
    }
   ],
   "source": [
    "df = load_data(data_path=data_path, phase='dev')\n",
    "df.info()"
   ],
   "metadata": {
    "collapsed": false,
    "pycharm": {
     "name": "#%%\n"
    }
   }
  },
  {
   "cell_type": "code",
   "execution_count": 33,
   "outputs": [
    {
     "data": {
      "text/plain": "(True, True)"
     },
     "execution_count": 33,
     "metadata": {},
     "output_type": "execute_result"
    }
   ],
   "source": [
    "(df[df[\"number_of_reviews\"]==0].index == df[df[\"last_review\"].isna()].index).all(),\\\n",
    "(df[df[\"number_of_reviews\"]==0].index == df[df[\"reviews_per_month\"].isna()].index).all()"
   ],
   "metadata": {
    "collapsed": false,
    "pycharm": {
     "name": "#%%\n"
    }
   }
  },
  {
   "cell_type": "code",
   "execution_count": 34,
   "outputs": [],
   "source": [
    "\n",
    "df[\"reviews_per_month\"].fillna(0, inplace=True) # with inplace, we make the changes directly to df"
   ],
   "metadata": {
    "collapsed": false,
    "pycharm": {
     "name": "#%%\n"
    }
   }
  },
  {
   "cell_type": "code",
   "execution_count": 35,
   "outputs": [],
   "source": [
    "# Now, for the next part, we need to convert any non-numerical (i.e. categorical) feature into a\n",
    "# numerical one. This is because machine learning models work on numeric data and cannot digest\n",
    "# non-numeric data without some kind of transformation.\n",
    "# From our previous assessment we have identified three categorical features that need to be transformed\n",
    "# into numerical ones: neighbourhood_group, neighbourhood, room_type.\n",
    "\n",
    "df_1h = pd.get_dummies(df, columns=['neighbourhood_group', 'neighbourhood', 'room_type'])"
   ],
   "metadata": {
    "collapsed": false,
    "pycharm": {
     "name": "#%%\n"
    }
   }
  },
  {
   "cell_type": "code",
   "execution_count": 36,
   "outputs": [
    {
     "data": {
      "text/plain": "((39116, 16), (39116, 242))"
     },
     "execution_count": 36,
     "metadata": {},
     "output_type": "execute_result"
    }
   ],
   "source": [
    "df.shape, df_1h.shape\n"
   ],
   "metadata": {
    "collapsed": false,
    "pycharm": {
     "name": "#%%\n"
    }
   }
  },
  {
   "cell_type": "code",
   "execution_count": 37,
   "outputs": [],
   "source": [
    "# drop unused columns\n",
    "df_dropped = df_1h.drop(columns=[\"host_id\", \"name\", \"host_name\", \"last_review\"])\n",
    "\n",
    "# define the mask for the training/validation samples (those with a price, the others\n",
    "# will belong to the test set)\n",
    "train_valid_mask = ~df_dropped[\"price\"].isna()\n",
    "# extract the feature names (for later use)\n",
    "feature_names = df_dropped[train_valid_mask].drop(columns=[\"price\"]).columns\n",
    "\n",
    "X = df_dropped.drop(columns=[\"price\"]).values\n",
    "y = df_dropped[\"price\"].values\n",
    "\n",
    "X_train_valid = X[train_valid_mask]\n",
    "y_train_valid = y[train_valid_mask]\n",
    "\n",
    "# X_test = X[~train_valid_mask]\n",
    "# y_test = y[~train_valid_mask]\n",
    "\n",
    "X_train, X_valid, y_train, y_valid = train_test_split(X_train_valid, y_train_valid, shuffle=True, random_state=42)"
   ],
   "metadata": {
    "collapsed": false,
    "pycharm": {
     "name": "#%%\n"
    }
   }
  },
  {
   "cell_type": "code",
   "execution_count": 38,
   "outputs": [
    {
     "data": {
      "text/plain": "0.07970260075670399"
     },
     "execution_count": 38,
     "metadata": {},
     "output_type": "execute_result"
    }
   ],
   "source": [
    "reg = RandomForestRegressor(100, random_state=42)\n",
    "reg.fit(X_train , y_train)\n",
    "\n",
    "r2_score(y_valid, reg.predict(X_valid))"
   ],
   "metadata": {
    "collapsed": false,
    "pycharm": {
     "name": "#%%\n"
    }
   }
  },
  {
   "cell_type": "code",
   "execution_count": 39,
   "outputs": [
    {
     "data": {
      "text/plain": "[('longitude', 0.16722396394712963),\n ('latitude', 0.15237493276830008),\n ('id', 0.12773199310440395),\n ('availability_365', 0.0828964022053185),\n ('minimum_nights', 0.07481450509500819),\n ('room_type_Entire home/apt', 0.06307473812272037),\n ('reviews_per_month', 0.056779475371180124),\n ('number_of_reviews', 0.042375717277390784),\n ('calculated_host_listings_count', 0.040358813643678076),\n ('neighbourhood_Astoria', 0.0388253160973694),\n ('neighbourhood_Battery Park City', 0.02003548983077795),\n ('neighbourhood_Upper West Side', 0.012632956723725651),\n ('neighbourhood_Lower East Side', 0.01260413646717635),\n ('neighbourhood_Bedford-Stuyvesant', 0.010109874159663483),\n ('neighbourhood_Clinton Hill', 0.008159296530672946),\n ('neighbourhood_Randall Manor', 0.006261593201417485),\n ('neighbourhood_Midtown', 0.004723979930257032),\n ('neighbourhood_Tribeca', 0.0043147048958018),\n ('neighbourhood_Chelsea', 0.004101135814081659),\n ('neighbourhood_Williamsburg', 0.004078839790463962),\n ('neighbourhood_Greenwich Village', 0.0037111990019197375),\n ('neighbourhood_Bay Ridge', 0.0036131109540238947),\n ('neighbourhood_East Village', 0.003392972031921395),\n ('neighbourhood_Gramercy', 0.003248755366638389),\n ('neighbourhood_West Village', 0.003117216424669561),\n ('neighbourhood_group_Manhattan', 0.002956673797918563),\n ('neighbourhood_Theater District', 0.0028638347750170367),\n ('neighbourhood_Upper East Side', 0.0026492474291165097),\n ('neighbourhood_Prospect Heights', 0.0024557326625629858),\n ('neighbourhood_Riverdale', 0.002451299508972745),\n ('neighbourhood_Flatiron District', 0.0024007042662487926),\n ('neighbourhood_SoHo', 0.002379071538774208),\n ('neighbourhood_East Harlem', 0.002367835342526737),\n ('neighbourhood_group_Queens', 0.002063593684097043),\n ('neighbourhood_Prospect-Lefferts Gardens', 0.0017792996922400216),\n ('neighbourhood_group_Brooklyn', 0.0015621120928948514),\n (\"neighbourhood_Hell's Kitchen\", 0.0015331899003590147),\n ('neighbourhood_Forest Hills', 0.0015313979525914108),\n ('neighbourhood_Murray Hill', 0.0015115976478610766),\n ('neighbourhood_Cypress Hills', 0.001149883126181276),\n ('neighbourhood_Sunset Park', 0.0010974824366121422),\n ('neighbourhood_East Flatbush', 0.0010495481307944614),\n ('neighbourhood_Financial District', 0.0010339224289434696),\n ('neighbourhood_Long Island City', 0.0010179621771670311),\n ('neighbourhood_Brighton Beach', 0.000836969818766215),\n ('neighbourhood_Flatlands', 0.0007816241678312241),\n ('neighbourhood_Sea Gate', 0.0007656531598286079),\n ('neighbourhood_NoHo', 0.0006231158308361497),\n ('neighbourhood_Crown Heights', 0.000619578795744438),\n ('neighbourhood_Cobble Hill', 0.0005976717085609582),\n ('neighbourhood_Kips Bay', 0.0005887122070612474),\n ('neighbourhood_Chinatown', 0.0004929970925076262),\n ('neighbourhood_Roosevelt Island', 0.0004631391582775985),\n ('neighbourhood_Park Slope', 0.0004161892028411374),\n ('room_type_Private room', 0.0003323271796090418),\n ('room_type_Shared room', 0.00031809273781746393),\n ('neighbourhood_Flatbush', 0.00031457714469113686),\n ('neighbourhood_Arverne', 0.0003125800165901779),\n ('neighbourhood_Fort Greene', 0.00030937717442529105),\n ('neighbourhood_Briarwood', 0.00027367572783465076),\n ('neighbourhood_Gowanus', 0.00026291101662066367),\n ('neighbourhood_Brooklyn Heights', 0.0002576650179415593),\n ('neighbourhood_Woodhaven', 0.00024997426560283544),\n ('neighbourhood_Little Italy', 0.0002492724005443471),\n ('neighbourhood_Jamaica', 0.00024924881654909276),\n (\"neighbourhood_Prince's Bay\", 0.0002401847635977793),\n ('neighbourhood_Greenpoint', 0.00023899197223669892),\n ('neighbourhood_Bushwick', 0.00022705210881346003),\n ('neighbourhood_Harlem', 0.00022625606268230063),\n ('neighbourhood_Boerum Hill', 0.0002016616750273911),\n ('neighbourhood_Nolita', 0.00019396733810935296),\n ('neighbourhood_Morningside Heights', 0.00019037121373174023),\n ('neighbourhood_Far Rockaway', 0.00015483468983061216),\n ('neighbourhood_Civic Center', 0.00015066999510308013),\n ('neighbourhood_Canarsie', 0.00011986673106740044),\n ('neighbourhood_Westchester Square', 0.00011172758980577954),\n ('neighbourhood_Red Hook', 0.0001071062648495063),\n ('neighbourhood_Carroll Gardens', 9.088182644550318e-05),\n ('neighbourhood_Stuyvesant Town', 8.456207968375139e-05),\n ('neighbourhood_Elmhurst', 8.44564811431026e-05),\n ('neighbourhood_Woodside', 8.354185866381649e-05),\n ('neighbourhood_Mott Haven', 6.817118585599431e-05),\n ('neighbourhood_Washington Heights', 6.668068292015226e-05),\n ('neighbourhood_Windsor Terrace', 6.463627498404908e-05),\n ('neighbourhood_South Slope', 5.622746539388568e-05),\n ('neighbourhood_St. Albans', 5.254883432617246e-05),\n ('neighbourhood_East New York', 5.089772455196498e-05),\n ('neighbourhood_Vinegar Hill', 5.074264448865992e-05),\n ('neighbourhood_Pelham Gardens', 4.9686466294257816e-05),\n ('neighbourhood_Clason Point', 4.60319398578775e-05),\n ('neighbourhood_Arrochar', 4.48928312095722e-05),\n ('neighbourhood_Oakwood', 4.474248900404255e-05),\n ('neighbourhood_Jamaica Estates', 4.4364971097218004e-05),\n ('neighbourhood_Todt Hill', 3.8598307400990464e-05),\n ('neighbourhood_Ditmars Steinway', 3.521122931320968e-05),\n ('neighbourhood_Sheepshead Bay', 3.306565434969679e-05),\n ('neighbourhood_Kensington', 3.0706249049798946e-05),\n ('neighbourhood_Downtown Brooklyn', 3.0238560314182812e-05),\n ('neighbourhood_Flushing', 2.9444223244444803e-05),\n ('neighbourhood_Allerton', 2.942301856276767e-05),\n ('neighbourhood_Spuyten Duyvil', 2.9100819730888345e-05),\n ('neighbourhood_Jackson Heights', 2.7830907720135483e-05),\n ('neighbourhood_Rego Park', 2.767594289304983e-05),\n ('neighbourhood_group_Bronx', 2.7607709826504224e-05),\n ('neighbourhood_Shore Acres', 2.6821566958145172e-05),\n ('neighbourhood_DUMBO', 2.466355617926648e-05),\n ('neighbourhood_South Ozone Park', 2.4166020944563346e-05),\n ('neighbourhood_Richmond Hill', 2.359532601562098e-05),\n ('neighbourhood_Whitestone', 2.169356291234133e-05),\n ('neighbourhood_Ridgewood', 2.144684725323745e-05),\n ('neighbourhood_Castleton Corners', 2.0862382095794056e-05),\n ('neighbourhood_Rockaway Beach', 2.03844524895888e-05),\n ('neighbourhood_Jamaica Hills', 2.004560932820476e-05),\n ('neighbourhood_Wakefield', 1.8472941282746346e-05),\n ('neighbourhood_Marble Hill', 1.6982544285502873e-05),\n ('neighbourhood_Williamsbridge', 1.6409054549311572e-05),\n ('neighbourhood_Sunnyside', 1.6354955426182746e-05),\n ('neighbourhood_Throgs Neck', 1.54121858394156e-05),\n ('neighbourhood_Springfield Gardens', 1.5309286780418188e-05),\n ('neighbourhood_Bayside', 1.4901362643629939e-05),\n ('neighbourhood_Longwood', 1.4283578745943942e-05),\n ('neighbourhood_Grymes Hill', 1.4151333981835183e-05),\n ('neighbourhood_Coney Island', 1.3656288973965172e-05),\n ('neighbourhood_Corona', 1.3177431589984037e-05),\n ('neighbourhood_Holliswood', 1.3123706728088655e-05),\n ('neighbourhood_Claremont Village', 1.2931707326927177e-05),\n ('neighbourhood_Inwood', 1.275206913830104e-05),\n ('neighbourhood_Parkchester', 1.2696203439533642e-05),\n ('neighbourhood_Glendale', 1.2497486248193698e-05),\n ('neighbourhood_Kingsbridge', 1.247213234017158e-05),\n ('neighbourhood_Fresh Meadows', 1.2063974694239095e-05),\n ('neighbourhood_South Beach', 1.1844644980804199e-05),\n ('neighbourhood_Pelham Bay', 1.1827967308359194e-05),\n ('neighbourhood_Maspeth', 1.1614327317173058e-05),\n ('neighbourhood_Kew Gardens', 1.1107678674862676e-05),\n ('neighbourhood_Cambria Heights', 1.1022374732704697e-05),\n ('neighbourhood_Gravesend', 1.0789133377333693e-05),\n ('neighbourhood_East Elmhurst', 1.0417168486016035e-05),\n ('neighbourhood_Eastchester', 9.630860985396947e-06),\n ('neighbourhood_Two Bridges', 8.770918413746982e-06),\n ('neighbourhood_Borough Park', 8.629266818939074e-06),\n ('neighbourhood_Morrisania', 8.304183684950289e-06),\n ('neighbourhood_Midwood', 7.929448740873128e-06),\n ('neighbourhood_Laurelton', 7.721792354841434e-06),\n ('neighbourhood_Willowbrook', 7.692510144751924e-06),\n ('neighbourhood_Mount Hope', 6.695855121225342e-06),\n ('neighbourhood_group_Staten Island', 6.383457439388422e-06),\n ('neighbourhood_Kew Gardens Hills', 6.278222899123957e-06),\n ('neighbourhood_Port Richmond', 6.053412105507493e-06),\n ('neighbourhood_Howard Beach', 5.903195233594073e-06),\n ('neighbourhood_Concourse', 5.859484997247262e-06),\n ('neighbourhood_Brownsville', 5.756269442718552e-06),\n ('neighbourhood_St. George', 5.725224688892416e-06),\n ('neighbourhood_West Brighton', 5.665144705879463e-06),\n ('neighbourhood_Morris Heights', 5.578798830518411e-06),\n ('neighbourhood_Belle Harbor', 5.531713407185791e-06),\n ('neighbourhood_Stapleton', 5.501482467889806e-06),\n ('neighbourhood_Mill Basin', 5.372565165618453e-06),\n ('neighbourhood_Norwood', 4.970043373991957e-06),\n ('neighbourhood_Bensonhurst', 4.459530472905342e-06),\n ('neighbourhood_Eltingville', 4.418046939675514e-06),\n ('neighbourhood_Dyker Heights', 4.381975046892382e-06),\n ('neighbourhood_Queens Village', 4.2932468202172595e-06),\n ('neighbourhood_Middle Village', 4.290757727454068e-06),\n ('neighbourhood_East Morrisania', 4.030508078962557e-06),\n ('neighbourhood_Columbia St', 3.998020247761938e-06),\n ('neighbourhood_Belmont', 3.801410638151933e-06),\n ('neighbourhood_Edgemere', 3.6591615884985323e-06),\n ('neighbourhood_Navy Yard', 3.6181924026920184e-06),\n ('neighbourhood_Hollis', 3.548000525317934e-06),\n ('neighbourhood_Breezy Point', 3.3227006717442476e-06),\n ('neighbourhood_Ozone Park', 3.306825234923765e-06),\n ('neighbourhood_Port Morris', 3.2266708031831976e-06),\n ('neighbourhood_Tompkinsville', 3.0738999829195005e-06),\n ('neighbourhood_Fordham', 2.9226537767472224e-06),\n ('neighbourhood_Bay Terrace', 2.860335409859008e-06),\n ('neighbourhood_Schuylerville', 2.7718176949656344e-06),\n ('neighbourhood_Highbridge', 2.589692548317952e-06),\n ('neighbourhood_Rosedale', 2.526406141475722e-06),\n ('neighbourhood_Edenwald', 2.5245220709437687e-06),\n ('neighbourhood_Fort Hamilton', 2.166409645984716e-06),\n ('neighbourhood_Bellerose', 1.9775165919476557e-06),\n ('neighbourhood_University Heights', 1.9681222645236935e-06),\n ('neighbourhood_Huguenot', 1.873840660918704e-06),\n ('neighbourhood_Olinville', 1.5926359146418543e-06),\n ('neighbourhood_Bergen Beach', 1.542191855168806e-06),\n ('neighbourhood_Rosebank', 1.2447071824396011e-06),\n ('neighbourhood_Manhattan Beach', 1.2090698687236668e-06),\n ('neighbourhood_Morris Park', 1.0388480808707685e-06),\n ('neighbourhood_Bayswater', 9.852420151363164e-07),\n ('neighbourhood_Concourse Village', 9.644725417738955e-07),\n ('neighbourhood_Clifton', 9.052050809767399e-07),\n ('neighbourhood_Hunts Point', 8.640434633862809e-07),\n ('neighbourhood_Concord', 8.433275846499009e-07),\n ('neighbourhood_North Riverdale', 7.661525039021492e-07),\n ('neighbourhood_Bath Beach', 7.559086097757031e-07),\n ('neighbourhood_Great Kills', 7.30940742259749e-07),\n ('neighbourhood_College Point', 6.828641696266127e-07),\n ('neighbourhood_Fieldston', 6.153996055807227e-07),\n ('neighbourhood_West Farms', 5.905876307452759e-07),\n ('neighbourhood_City Island', 5.73836696222717e-07),\n ('neighbourhood_Soundview', 5.663467155281125e-07),\n ('neighbourhood_Bronxdale', 4.854382368156198e-07),\n ('neighbourhood_Bay Terrace, Staten Island', 4.853311499891832e-07),\n ('neighbourhood_New Springville', 4.848155774380171e-07),\n ('neighbourhood_Mariners Harbor', 4.655167543200211e-07),\n ('neighbourhood_Van Nest', 4.5552584548287434e-07),\n ('neighbourhood_Melrose', 4.470590639514377e-07),\n ('neighbourhood_Emerson Hill', 4.0386087551483405e-07),\n ('neighbourhood_Howland Hook', 3.723044257248582e-07),\n ('neighbourhood_Mount Eden', 3.678357213243632e-07),\n ('neighbourhood_Dongan Hills', 3.6120658717616914e-07),\n ('neighbourhood_Unionport', 3.0017399434335185e-07),\n ('neighbourhood_Woodlawn', 2.796152999352144e-07),\n ('neighbourhood_Tottenville', 2.1174439736671837e-07),\n ('neighbourhood_Douglaston', 2.0396028717379855e-07),\n ('neighbourhood_Graniteville', 1.8047585943460244e-07),\n ('neighbourhood_Grant City', 1.772865710994657e-07),\n ('neighbourhood_Midland Beach', 1.513247467258167e-07),\n ('neighbourhood_Castle Hill', 1.4922996769475575e-07),\n ('neighbourhood_Baychester', 1.1311159696020801e-07),\n ('neighbourhood_Lighthouse Hill', 9.701404051555596e-08),\n ('neighbourhood_New Dorp Beach', 8.017808714277524e-08),\n ('neighbourhood_Tremont', 6.655833481913631e-08),\n ('neighbourhood_New Dorp', 3.5596245942717295e-08),\n ('neighbourhood_Co-op City', 2.8029490842873635e-08),\n ('neighbourhood_Little Neck', 2.1695425373822467e-08),\n ('neighbourhood_Westerleigh', 1.76920005800868e-08),\n ('neighbourhood_Arden Heights', 1.649745193266186e-08),\n (\"neighbourhood_Bull's Head\", 1.537729400969904e-08),\n ('neighbourhood_Silver Lake', 1.3689864713337854e-08),\n ('neighbourhood_New Brighton', 4.172896778646421e-09),\n ('neighbourhood_Rossville', 2.1533177999605467e-09),\n ('neighbourhood_Fort Wadsworth', 0.0),\n ('neighbourhood_Neponsit', 0.0),\n ('neighbourhood_Richmondtown', 0.0),\n ('neighbourhood_Woodrow', 0.0)]"
     },
     "execution_count": 39,
     "metadata": {},
     "output_type": "execute_result"
    }
   ],
   "source": [
    "sorted(zip(feature_names, reg.feature_importances_), key=lambda x: x[1], reverse=True)"
   ],
   "metadata": {
    "collapsed": false,
    "pycharm": {
     "name": "#%%\n"
    }
   }
  },
  {
   "cell_type": "markdown",
   "source": [
    "Interestingly, the model assigns a high feature importance to the latitudes and longitudes, and a\n",
    "much lower importance to the neighbourhood information. This means that the model extracts\n",
    "more meaningful information from the “raw” data (as previously discussed), and makes little to\n",
    "no use of the neighbourhood information.\n",
    "Considering that the majority of the columns in our dataset has been generated from neighbourhood\n",
    "information (by 1-hot encoding the original columns), it is reasonable to discard those\n",
    "columns altogether. By doing that, the random forest will not have as many “noisy” features to\n",
    "select from at each split. As a consequence it will be more likely that, at each split, more useful\n",
    "features will be available, thus building better trees.\n",
    "We can redo the entire preprocessing step as follows:"
   ],
   "metadata": {
    "collapsed": false,
    "pycharm": {
     "name": "#%% md\n"
    }
   }
  },
  {
   "cell_type": "code",
   "execution_count": 40,
   "outputs": [
    {
     "data": {
      "text/plain": "0.1162855504260838"
     },
     "execution_count": 40,
     "metadata": {},
     "output_type": "execute_result"
    }
   ],
   "source": [
    "# Only encode \"room_type\"\n",
    "df_1h = pd.get_dummies(df, columns=['room_type'])\n",
    "\n",
    "# discard \"neighbourhood\" and \"neighbourhood_group\"\n",
    "df_dropped = df_1h.drop(columns=[\"neighbourhood_group\",\"neighbourhood\",\"host_id\", \"name\", \"host_name\", \"last_review\"])\n",
    "\n",
    "train_valid_mask = ~df_dropped[\"price\"].isna()\n",
    "\n",
    "feature_names = df_dropped[train_valid_mask].drop(columns=[\"price\"]).columns\n",
    "\n",
    "X = df_dropped.drop(columns=[\"price\"]).values\n",
    "y = df_dropped[\"price\"].values\n",
    "\n",
    "X_train_valid = X[train_valid_mask]\n",
    "y_train_valid = y[train_valid_mask]\n",
    "\n",
    "# X_test = X[~train_valid_mask]\n",
    "# y_test = y[~train_valid_mask]\n",
    "\n",
    "X_train, X_valid, y_train, y_valid = train_test_split(X_train_valid, y_train_valid, shuffle=True, random_state=42)\n",
    "\n",
    "reg = RandomForestRegressor(100, random_state=42)\n",
    "reg.fit(X_train, y_train)\n",
    "\n",
    "r2_score(y_valid, reg.predict(X_valid))"
   ],
   "metadata": {
    "collapsed": false,
    "pycharm": {
     "name": "#%%\n"
    }
   }
  },
  {
   "cell_type": "code",
   "execution_count": 41,
   "outputs": [
    {
     "data": {
      "text/plain": "[('longitude', 0.23848913987918202),\n ('id', 0.1944035055823323),\n ('latitude', 0.18207323673033954),\n ('availability_365', 0.08610408843715538),\n ('minimum_nights', 0.08542812228591133),\n ('room_type_Entire home/apt', 0.06307473812272034),\n ('reviews_per_month', 0.06197904085057712),\n ('calculated_host_listings_count', 0.05088126055940794),\n ('number_of_reviews', 0.03690226048213828),\n ('room_type_Private room', 0.00037693522989826103),\n ('room_type_Shared room', 0.00028767184033743796)]"
     },
     "execution_count": 41,
     "metadata": {},
     "output_type": "execute_result"
    }
   ],
   "source": [
    "\n",
    "sorted(zip(feature_names, reg.feature_importances_), key=lambda x: x[1],reverse=True)"
   ],
   "metadata": {
    "collapsed": false,
    "pycharm": {
     "name": "#%%\n"
    }
   }
  },
  {
   "cell_type": "markdown",
   "source": [
    "We can now see that the model is giving even more importance to the latitude and longitude. This\n",
    "is because we have removed any other source of location information.\n",
    "Now, let us try to re-introduce two of the features we previously discarded: id and host_id. We\n",
    "will first introduce the first one, then the second one, then both together. For each configuration\n",
    "of features we will train a separate model and assess how it behaves. If our initial hypotheses are\n",
    "correct, these two features should not have a particular impact on our model’s performance"
   ],
   "metadata": {
    "collapsed": false,
    "pycharm": {
     "name": "#%% md\n"
    }
   }
  },
  {
   "cell_type": "code",
   "execution_count": 42,
   "outputs": [
    {
     "name": "stdout",
     "output_type": "stream",
     "text": [
      "['id'] 0.08385550018096222\n",
      "['host_id'] 0.13692655210347704\n",
      "['id', 'host_id'] 0.1043008455575859\n"
     ]
    }
   ],
   "source": [
    "\n",
    "for include_features in [[\"id\"], [\"host_id\"], [\"id\", \"host_id\"]]:\n",
    "    df_1h = pd.get_dummies(df, columns=['room_type'])\n",
    "\n",
    "    # Extract the \"id\" information\n",
    "    if \"id\" in include_features:\n",
    "        df_1h[\"id\"] = df_1h.index\n",
    "    df_dropped = df_1h.drop(columns=[\"neighbourhood_group\",\"neighbourhood\", \"name\", \"host_name\", \"last_review\"])\n",
    "\n",
    "    # if \"host_id\" should not be kept, it is discarded\n",
    "    if \"host_id\" not in include_features:\n",
    "        df_dropped = df_dropped.drop(columns=[\"host_id\"])\n",
    "\n",
    "    train_valid_mask = ~df_dropped[\"price\"].isna()\n",
    "\n",
    "    feature_names = df_dropped[train_valid_mask].drop(columns=[\"price\"]).columns\n",
    "\n",
    "    X = df_dropped.drop(columns=[\"price\"]).values\n",
    "    y = df_dropped[\"price\"].values\n",
    "\n",
    "    X_train_valid = X[train_valid_mask]\n",
    "    y_train_valid = y[train_valid_mask]\n",
    "\n",
    "    # X_test = X[~train_valid_mask]\n",
    "    # y_test = y[~train_valid_mask]\n",
    "\n",
    "    X_train, X_valid, y_train, y_valid = train_test_split(X_train_valid, y_train_valid, shuffle=True, random_state=42)\n",
    "\n",
    "    reg = RandomForestRegressor(100, random_state=42)\n",
    "    reg.fit(X_train, y_train)\n",
    "\n",
    "    print(include_features, r2_score(y_valid, reg.predict(X_valid)))"
   ],
   "metadata": {
    "collapsed": false,
    "pycharm": {
     "name": "#%%\n"
    }
   }
  },
  {
   "cell_type": "code",
   "execution_count": 43,
   "outputs": [
    {
     "data": {
      "text/plain": "[('longitude', 0.21488045414599827),\n ('host_id', 0.19339035781321365),\n ('latitude', 0.1383893491388881),\n ('id', 0.10739261621014184),\n ('minimum_nights', 0.07956772018890616),\n ('availability_365', 0.07705175351026355),\n ('room_type_Entire home/apt', 0.06307473812272034),\n ('calculated_host_listings_count', 0.04477211867690946),\n ('reviews_per_month', 0.04431090224494947),\n ('number_of_reviews', 0.03614330795840609),\n ('room_type_Shared room', 0.0005238879454123916),\n ('room_type_Private room', 0.0005027940441908334)]"
     },
     "execution_count": 43,
     "metadata": {},
     "output_type": "execute_result"
    }
   ],
   "source": [
    "sorted(zip(feature_names, reg.feature_importances_), key=lambda x: x[1],\n",
    "reverse=True)"
   ],
   "metadata": {
    "collapsed": false,
    "pycharm": {
     "name": "#%%\n"
    }
   }
  },
  {
   "cell_type": "code",
   "execution_count": 44,
   "outputs": [],
   "source": [
    "months = (df_1h[\"number_of_reviews\"] / df_1h[\"reviews_per_month\"])\n",
    "months = months.fillna(months.mean())"
   ],
   "metadata": {
    "collapsed": false,
    "pycharm": {
     "name": "#%%\n"
    }
   }
  },
  {
   "cell_type": "code",
   "execution_count": 45,
   "outputs": [
    {
     "data": {
      "text/plain": "(0.0015422307379890398, -0.4443239608192033)"
     },
     "execution_count": 45,
     "metadata": {},
     "output_type": "execute_result"
    }
   ],
   "source": [
    "\n",
    "np.corrcoef([months, df.index])[0][1], np.corrcoef([months, df[\"host_id\"]])[0][1]"
   ],
   "metadata": {
    "collapsed": false,
    "pycharm": {
     "name": "#%%\n"
    }
   }
  },
  {
   "cell_type": "code",
   "execution_count": 47,
   "outputs": [
    {
     "data": {
      "text/plain": "0.20556805399325084"
     },
     "execution_count": 47,
     "metadata": {},
     "output_type": "execute_result"
    }
   ],
   "source": [
    "# We also know that many of the entries in our dataset have received no reviews. For all these\n",
    "# entries, it will be impossible for us to work out the post’s age. More specifically, we can compute\n",
    "# the fraction of posts with no reviews as follows:\n",
    "\n",
    "len( df_1h[df_1h[\"number_of_reviews\"] == 0])/len(df_1h)"
   ],
   "metadata": {
    "collapsed": false,
    "pycharm": {
     "name": "#%%\n"
    }
   }
  },
  {
   "cell_type": "markdown",
   "source": [
    "Approximately 20% of the entries in our dataset cannot be assigned a “timestamp”, if not through\n",
    "their id. On the other hand, we do have the timestamp information, in terms of id, for all entries.\n",
    "For this reason, we will be keeping both id and host_id in our dataset. Do keep in mind, though,\n",
    "that in many (most) cases, ids will not be informative in the least (especially when you also have\n",
    "reliable information on creation dates, or when ids are generated randomly).\n",
    "Finally, we can consider exploring the title of posts (name attribute). This is a natural language\n",
    "string which may contain useful information we have been sitting on this whole time.\n",
    "We can process the textual data using sklearn’s TfidfVectorizer, which will split each title into\n",
    "tokens and remove stopwords. We can consider using a binary feature for each of the most popular\n",
    "words, since we will only consider the presence/absence of terms as relevant (binary term\n",
    "frequency, with no inverse document frequency).\n"
   ],
   "metadata": {
    "collapsed": false,
    "pycharm": {
     "name": "#%% md\n"
    }
   }
  },
  {
   "cell_type": "code",
   "execution_count": 49,
   "outputs": [],
   "source": [
    "vectorizer = TfidfVectorizer(stop_words=\"english\", binary=True, use_idf=False, norm=False)\n",
    "# word presence matrix (i-th row, j-th col => 1 if j-th word is contained in i-th title)\n",
    "wpm = vectorizer.fit_transform(df_1h[\"name\"].fillna(\"\"))"
   ],
   "metadata": {
    "collapsed": false,
    "pycharm": {
     "name": "#%%\n"
    }
   }
  },
  {
   "cell_type": "code",
   "execution_count": 50,
   "outputs": [],
   "source": [
    "N = 150\n",
    "freq = sorted(zip(vectorizer.get_feature_names(), wpm.sum(axis=0).tolist()[0]), key=lambda x: x[1], reverse=True)[:N]"
   ],
   "metadata": {
    "collapsed": false,
    "pycharm": {
     "name": "#%%\n"
    }
   }
  },
  {
   "cell_type": "code",
   "execution_count": 51,
   "outputs": [
    {
     "data": {
      "text/plain": "[('room', 8146.0),\n ('bedroom', 6483.0),\n ('private', 5826.0),\n ('apartment', 5399.0),\n ('cozy', 4077.0),\n ('apt', 3836.0),\n ('brooklyn', 3341.0),\n ('studio', 3286.0),\n ('spacious', 3054.0),\n ('manhattan', 2882.0),\n ('park', 2498.0),\n ('east', 2448.0),\n ('sunny', 2346.0),\n ('williamsburg', 2188.0),\n ('beautiful', 2011.0),\n ('near', 1923.0),\n ('nyc', 1882.0),\n ('village', 1875.0),\n ('heart', 1686.0),\n ('loft', 1681.0),\n ('large', 1659.0),\n ('bed', 1623.0),\n ('modern', 1460.0),\n ('central', 1453.0),\n ('luxury', 1366.0),\n ('bright', 1361.0),\n ('home', 1291.0),\n ('new', 1284.0),\n ('1br', 1282.0),\n ('west', 1272.0),\n ('location', 1253.0),\n ('bushwick', 1168.0),\n ('charming', 1082.0),\n ('upper', 1068.0),\n ('br', 1020.0),\n ('midtown', 1010.0),\n ('quiet', 984.0),\n ('brownstone', 973.0),\n ('clean', 933.0),\n ('great', 923.0),\n ('harlem', 914.0),\n ('square', 894.0),\n ('close', 833.0),\n ('subway', 825.0),\n ('garden', 811.0),\n ('bath', 808.0),\n ('huge', 808.0),\n ('heights', 760.0),\n ('times', 727.0),\n ('duplex', 687.0),\n ('prime', 670.0),\n ('city', 657.0),\n ('min', 651.0),\n ('2br', 648.0),\n ('amazing', 638.0),\n ('house', 629.0),\n ('view', 601.0),\n ('chelsea', 593.0),\n ('suite', 578.0),\n ('train', 571.0),\n ('renovated', 549.0),\n ('lovely', 547.0),\n ('space', 538.0),\n ('big', 532.0),\n ('bathroom', 523.0),\n ('york', 502.0),\n ('best', 501.0),\n ('soho', 501.0),\n ('astoria', 499.0),\n ('comfy', 493.0),\n ('gorgeous', 493.0),\n ('hill', 487.0),\n ('slope', 487.0),\n ('entire', 483.0),\n ('floor', 479.0),\n ('prospect', 478.0),\n ('jfk', 476.0),\n ('comfortable', 462.0),\n ('greenpoint', 457.0),\n ('kitchen', 428.0),\n ('views', 417.0),\n ('mins', 414.0),\n ('place', 409.0),\n ('perfect', 408.0),\n ('balcony', 401.0),\n ('townhouse', 400.0),\n ('artist', 393.0),\n ('away', 389.0),\n ('minutes', 381.0),\n ('backyard', 379.0),\n ('building', 366.0),\n ('gym', 366.0),\n ('cute', 361.0),\n ('doorman', 359.0),\n ('ny', 359.0),\n ('oasis', 358.0),\n ('rooftop', 357.0),\n ('uws', 355.0),\n ('queen', 351.0),\n ('shared', 350.0),\n ('bk', 345.0),\n ('sonder', 344.0),\n ('lower', 340.0),\n ('terrace', 340.0),\n ('nice', 336.0),\n ('15', 331.0),\n ('queens', 331.0),\n ('furnished', 330.0),\n ('stuy', 330.0),\n ('historic', 328.0),\n ('bdrm', 320.0),\n ('chic', 320.0),\n ('penthouse', 320.0),\n ('sq', 308.0),\n ('stylish', 308.0),\n ('les', 305.0),\n ('light', 305.0),\n ('street', 305.0),\n ('downtown', 304.0),\n ('ues', 296.0),\n ('steps', 294.0),\n ('convenient', 286.0),\n ('newly', 284.0),\n ('filled', 282.0),\n ('lga', 281.0),\n ('living', 275.0),\n ('master', 274.0),\n ('crown', 273.0),\n ('gem', 273.0),\n ('stay', 270.0),\n ('family', 260.0),\n ('block', 255.0),\n ('columbia', 254.0),\n ('bedstuy', 253.0),\n ('clinton', 247.0),\n ('sun', 242.0),\n ('brand', 241.0),\n ('20', 239.0),\n ('area', 239.0),\n ('condo', 238.0),\n ('friendly', 236.0),\n ('center', 235.0),\n ('st', 233.0),\n ('walk', 232.0),\n ('bedrooms', 231.0),\n ('3br', 229.0),\n ('stunning', 229.0),\n ('neighborhood', 225.0),\n ('greene', 221.0),\n ('10', 217.0)]"
     },
     "execution_count": 51,
     "metadata": {},
     "output_type": "execute_result"
    }
   ],
   "source": [
    "freq\n"
   ],
   "metadata": {
    "collapsed": false,
    "pycharm": {
     "name": "#%%\n"
    }
   }
  },
  {
   "cell_type": "markdown",
   "source": [
    "As you can see, the most frequent words can also be quite useful for extracting additional information\n",
    "such as spaces available (e.g. balcony, backyard), place conditions (e.g. renovated, modern,\n",
    "sunny) and even information on the possible price ranges (e.g. luxury).\n",
    "Our wpm matrix already contains binary values based on whether words are present or not. We\n",
    "can use this matrix, with only the N most frequent columns, to build an additional DataFrame to\n",
    "be attached to the original one."
   ],
   "metadata": {
    "collapsed": false,
    "pycharm": {
     "name": "#%% md\n"
    }
   }
  },
  {
   "cell_type": "code",
   "execution_count": 52,
   "outputs": [],
   "source": [
    "# mask to be used to filter columns in wpm (only keeps the ones for the 100 most frequent words)\n",
    "\n",
    "words = [ word for word, _ in freq ]\n",
    "\n",
    "mask = [ w in words for w in vectorizer.get_feature_names() ]\n",
    "\n",
    "words_ = [ w for w in vectorizer.get_feature_names() if w in words ]\n",
    "words_df = pd.DataFrame(data=wpm[:, np.array(mask)].toarray(), columns=[f\"word_{word}\" for word in words_], index=df_1h.index)"
   ],
   "metadata": {
    "collapsed": false,
    "pycharm": {
     "name": "#%%\n"
    }
   }
  },
  {
   "cell_type": "code",
   "execution_count": 53,
   "outputs": [
    {
     "data": {
      "text/plain": "0.1503997321706172"
     },
     "execution_count": 53,
     "metadata": {},
     "output_type": "execute_result"
    }
   ],
   "source": [
    "# Only encode \"room_type\"\n",
    "df_1h = pd.get_dummies(df, columns=['room_type'])\n",
    "df_1h = df_1h.join(pd.DataFrame(data=wpm[:, np.array(mask)].toarray(), columns=[f\"word_{word}\" for word in words_], index=df_1h.index))\n",
    "\n",
    "# discard \"neighbourhood\" and \"neighbourhood_group\"\n",
    "df_dropped = df_1h.drop(columns=[\"neighbourhood_group\",\"neighbourhood\", \"name\", \"host_name\", \"last_review\"])\n",
    "df_dropped[\"id\"] = df_dropped.index\n",
    "\n",
    "train_valid_mask = ~df_dropped[\"price\"].isna()\n",
    "\n",
    "feature_names = df_dropped[train_valid_mask].drop(columns=[\"price\"]).columns\n",
    "\n",
    "X = df_dropped.drop(columns=[\"price\"]).values\n",
    "y = df_dropped[\"price\"].values\n",
    "\n",
    "X_train_valid = X[train_valid_mask]\n",
    "y_train_valid = y[train_valid_mask]\n",
    "\n",
    "X_test = X[~train_valid_mask]\n",
    "y_test = y[~train_valid_mask]\n",
    "\n",
    "X_train, X_valid, y_train, y_valid = train_test_split(X_train_valid, y_train_valid, shuffle=True, random_state=42)\n",
    "\n",
    "reg = RandomForestRegressor(100, random_state=42)\n",
    "reg.fit(X_train, y_train)\n",
    "\n",
    "r2_score(y_valid, reg.predict(X_valid))"
   ],
   "metadata": {
    "collapsed": false,
    "pycharm": {
     "name": "#%%\n"
    }
   }
  },
  {
   "cell_type": "code",
   "execution_count": null,
   "outputs": [],
   "source": [
    "\n",
    "param_grid = {\n",
    "\"n_estimators\": [100, 250, 500],\n",
    "\"criterion\": [\"mse\", \"mae\"],\n",
    "\"max_features\": [\"auto\", \"sqrt\", \"log2\"],\n",
    "\"random_state\": [42], # always use the samet random seed\n",
    "\"n_jobs\": [-1], # for parallelization\n",
    "}\n",
    "gs = GridSearchCV(RandomForestRegressor(), param_grid, scoring=\"r2\", n_jobs=-1, cv=5)\n",
    "\n",
    "gs.fit(X_train_valid, y_train_valid)\n",
    "gs.best_score_"
   ],
   "metadata": {
    "collapsed": false,
    "pycharm": {
     "name": "#%%\n",
     "is_executing": true
    }
   }
  },
  {
   "cell_type": "code",
   "execution_count": null,
   "outputs": [],
   "source": [],
   "metadata": {
    "collapsed": false,
    "pycharm": {
     "name": "#%%\n"
    }
   }
  }
 ],
 "metadata": {
  "kernelspec": {
   "name": "pycharm-9f4e7ab1",
   "language": "python",
   "display_name": "PyCharm (gpt_eval_repl)"
  },
  "language_info": {
   "codemirror_mode": {
    "name": "ipython",
    "version": 2
   },
   "file_extension": ".py",
   "mimetype": "text/x-python",
   "name": "python",
   "nbconvert_exporter": "python",
   "pygments_lexer": "ipython2",
   "version": "2.7.6"
  }
 },
 "nbformat": 4,
 "nbformat_minor": 0
}