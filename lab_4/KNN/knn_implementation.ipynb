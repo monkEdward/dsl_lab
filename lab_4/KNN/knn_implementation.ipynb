{
 "cells": [
  {
   "cell_type": "code",
   "execution_count": 16,
   "metadata": {
    "collapsed": true
   },
   "outputs": [],
   "source": [
    "import numpy as np\n",
    "import pandas as pd\n",
    "from collections import Counter, defaultdict"
   ]
  },
  {
   "cell_type": "code",
   "execution_count": 2,
   "outputs": [
    {
     "data": {
      "text/plain": "150"
     },
     "execution_count": 2,
     "metadata": {},
     "output_type": "execute_result"
    }
   ],
   "source": [
    "df = pd.read_csv(\"https://archive.ics.uci.edu/ml/machine-learning-databases/iris/iris.data\", header=None)\n",
    "len(df)"
   ],
   "metadata": {
    "collapsed": false,
    "pycharm": {
     "name": "#%%\n"
    }
   }
  },
  {
   "cell_type": "code",
   "execution_count": 3,
   "outputs": [
    {
     "data": {
      "text/plain": "array([[5.1, 3.5, 1.4, 0.2, 'Iris-setosa'],\n       [4.9, 3.0, 1.4, 0.2, 'Iris-setosa'],\n       [4.7, 3.2, 1.3, 0.2, 'Iris-setosa'],\n       [4.6, 3.1, 1.5, 0.2, 'Iris-setosa'],\n       [5.0, 3.6, 1.4, 0.2, 'Iris-setosa'],\n       [5.4, 3.9, 1.7, 0.4, 'Iris-setosa'],\n       [4.6, 3.4, 1.4, 0.3, 'Iris-setosa'],\n       [5.0, 3.4, 1.5, 0.2, 'Iris-setosa'],\n       [4.4, 2.9, 1.4, 0.2, 'Iris-setosa'],\n       [4.9, 3.1, 1.5, 0.1, 'Iris-setosa'],\n       [5.4, 3.7, 1.5, 0.2, 'Iris-setosa'],\n       [4.8, 3.4, 1.6, 0.2, 'Iris-setosa'],\n       [4.8, 3.0, 1.4, 0.1, 'Iris-setosa'],\n       [4.3, 3.0, 1.1, 0.1, 'Iris-setosa'],\n       [5.8, 4.0, 1.2, 0.2, 'Iris-setosa'],\n       [5.7, 4.4, 1.5, 0.4, 'Iris-setosa'],\n       [5.4, 3.9, 1.3, 0.4, 'Iris-setosa'],\n       [5.1, 3.5, 1.4, 0.3, 'Iris-setosa'],\n       [5.7, 3.8, 1.7, 0.3, 'Iris-setosa'],\n       [5.1, 3.8, 1.5, 0.3, 'Iris-setosa'],\n       [5.4, 3.4, 1.7, 0.2, 'Iris-setosa'],\n       [5.1, 3.7, 1.5, 0.4, 'Iris-setosa'],\n       [4.6, 3.6, 1.0, 0.2, 'Iris-setosa'],\n       [5.1, 3.3, 1.7, 0.5, 'Iris-setosa'],\n       [4.8, 3.4, 1.9, 0.2, 'Iris-setosa'],\n       [5.0, 3.0, 1.6, 0.2, 'Iris-setosa'],\n       [5.0, 3.4, 1.6, 0.4, 'Iris-setosa'],\n       [5.2, 3.5, 1.5, 0.2, 'Iris-setosa'],\n       [5.2, 3.4, 1.4, 0.2, 'Iris-setosa'],\n       [4.7, 3.2, 1.6, 0.2, 'Iris-setosa'],\n       [4.8, 3.1, 1.6, 0.2, 'Iris-setosa'],\n       [5.4, 3.4, 1.5, 0.4, 'Iris-setosa'],\n       [5.2, 4.1, 1.5, 0.1, 'Iris-setosa'],\n       [5.5, 4.2, 1.4, 0.2, 'Iris-setosa'],\n       [4.9, 3.1, 1.5, 0.1, 'Iris-setosa'],\n       [5.0, 3.2, 1.2, 0.2, 'Iris-setosa'],\n       [5.5, 3.5, 1.3, 0.2, 'Iris-setosa'],\n       [4.9, 3.1, 1.5, 0.1, 'Iris-setosa'],\n       [4.4, 3.0, 1.3, 0.2, 'Iris-setosa'],\n       [5.1, 3.4, 1.5, 0.2, 'Iris-setosa'],\n       [5.0, 3.5, 1.3, 0.3, 'Iris-setosa'],\n       [4.5, 2.3, 1.3, 0.3, 'Iris-setosa'],\n       [4.4, 3.2, 1.3, 0.2, 'Iris-setosa'],\n       [5.0, 3.5, 1.6, 0.6, 'Iris-setosa'],\n       [5.1, 3.8, 1.9, 0.4, 'Iris-setosa'],\n       [4.8, 3.0, 1.4, 0.3, 'Iris-setosa'],\n       [5.1, 3.8, 1.6, 0.2, 'Iris-setosa'],\n       [4.6, 3.2, 1.4, 0.2, 'Iris-setosa'],\n       [5.3, 3.7, 1.5, 0.2, 'Iris-setosa'],\n       [5.0, 3.3, 1.4, 0.2, 'Iris-setosa'],\n       [7.0, 3.2, 4.7, 1.4, 'Iris-versicolor'],\n       [6.4, 3.2, 4.5, 1.5, 'Iris-versicolor'],\n       [6.9, 3.1, 4.9, 1.5, 'Iris-versicolor'],\n       [5.5, 2.3, 4.0, 1.3, 'Iris-versicolor'],\n       [6.5, 2.8, 4.6, 1.5, 'Iris-versicolor'],\n       [5.7, 2.8, 4.5, 1.3, 'Iris-versicolor'],\n       [6.3, 3.3, 4.7, 1.6, 'Iris-versicolor'],\n       [4.9, 2.4, 3.3, 1.0, 'Iris-versicolor'],\n       [6.6, 2.9, 4.6, 1.3, 'Iris-versicolor'],\n       [5.2, 2.7, 3.9, 1.4, 'Iris-versicolor'],\n       [5.0, 2.0, 3.5, 1.0, 'Iris-versicolor'],\n       [5.9, 3.0, 4.2, 1.5, 'Iris-versicolor'],\n       [6.0, 2.2, 4.0, 1.0, 'Iris-versicolor'],\n       [6.1, 2.9, 4.7, 1.4, 'Iris-versicolor'],\n       [5.6, 2.9, 3.6, 1.3, 'Iris-versicolor'],\n       [6.7, 3.1, 4.4, 1.4, 'Iris-versicolor'],\n       [5.6, 3.0, 4.5, 1.5, 'Iris-versicolor'],\n       [5.8, 2.7, 4.1, 1.0, 'Iris-versicolor'],\n       [6.2, 2.2, 4.5, 1.5, 'Iris-versicolor'],\n       [5.6, 2.5, 3.9, 1.1, 'Iris-versicolor'],\n       [5.9, 3.2, 4.8, 1.8, 'Iris-versicolor'],\n       [6.1, 2.8, 4.0, 1.3, 'Iris-versicolor'],\n       [6.3, 2.5, 4.9, 1.5, 'Iris-versicolor'],\n       [6.1, 2.8, 4.7, 1.2, 'Iris-versicolor'],\n       [6.4, 2.9, 4.3, 1.3, 'Iris-versicolor'],\n       [6.6, 3.0, 4.4, 1.4, 'Iris-versicolor'],\n       [6.8, 2.8, 4.8, 1.4, 'Iris-versicolor'],\n       [6.7, 3.0, 5.0, 1.7, 'Iris-versicolor'],\n       [6.0, 2.9, 4.5, 1.5, 'Iris-versicolor'],\n       [5.7, 2.6, 3.5, 1.0, 'Iris-versicolor'],\n       [5.5, 2.4, 3.8, 1.1, 'Iris-versicolor'],\n       [5.5, 2.4, 3.7, 1.0, 'Iris-versicolor'],\n       [5.8, 2.7, 3.9, 1.2, 'Iris-versicolor'],\n       [6.0, 2.7, 5.1, 1.6, 'Iris-versicolor'],\n       [5.4, 3.0, 4.5, 1.5, 'Iris-versicolor'],\n       [6.0, 3.4, 4.5, 1.6, 'Iris-versicolor'],\n       [6.7, 3.1, 4.7, 1.5, 'Iris-versicolor'],\n       [6.3, 2.3, 4.4, 1.3, 'Iris-versicolor'],\n       [5.6, 3.0, 4.1, 1.3, 'Iris-versicolor'],\n       [5.5, 2.5, 4.0, 1.3, 'Iris-versicolor'],\n       [5.5, 2.6, 4.4, 1.2, 'Iris-versicolor'],\n       [6.1, 3.0, 4.6, 1.4, 'Iris-versicolor'],\n       [5.8, 2.6, 4.0, 1.2, 'Iris-versicolor'],\n       [5.0, 2.3, 3.3, 1.0, 'Iris-versicolor'],\n       [5.6, 2.7, 4.2, 1.3, 'Iris-versicolor'],\n       [5.7, 3.0, 4.2, 1.2, 'Iris-versicolor'],\n       [5.7, 2.9, 4.2, 1.3, 'Iris-versicolor'],\n       [6.2, 2.9, 4.3, 1.3, 'Iris-versicolor'],\n       [5.1, 2.5, 3.0, 1.1, 'Iris-versicolor'],\n       [5.7, 2.8, 4.1, 1.3, 'Iris-versicolor'],\n       [6.3, 3.3, 6.0, 2.5, 'Iris-virginica'],\n       [5.8, 2.7, 5.1, 1.9, 'Iris-virginica'],\n       [7.1, 3.0, 5.9, 2.1, 'Iris-virginica'],\n       [6.3, 2.9, 5.6, 1.8, 'Iris-virginica'],\n       [6.5, 3.0, 5.8, 2.2, 'Iris-virginica'],\n       [7.6, 3.0, 6.6, 2.1, 'Iris-virginica'],\n       [4.9, 2.5, 4.5, 1.7, 'Iris-virginica'],\n       [7.3, 2.9, 6.3, 1.8, 'Iris-virginica'],\n       [6.7, 2.5, 5.8, 1.8, 'Iris-virginica'],\n       [7.2, 3.6, 6.1, 2.5, 'Iris-virginica'],\n       [6.5, 3.2, 5.1, 2.0, 'Iris-virginica'],\n       [6.4, 2.7, 5.3, 1.9, 'Iris-virginica'],\n       [6.8, 3.0, 5.5, 2.1, 'Iris-virginica'],\n       [5.7, 2.5, 5.0, 2.0, 'Iris-virginica'],\n       [5.8, 2.8, 5.1, 2.4, 'Iris-virginica'],\n       [6.4, 3.2, 5.3, 2.3, 'Iris-virginica'],\n       [6.5, 3.0, 5.5, 1.8, 'Iris-virginica'],\n       [7.7, 3.8, 6.7, 2.2, 'Iris-virginica'],\n       [7.7, 2.6, 6.9, 2.3, 'Iris-virginica'],\n       [6.0, 2.2, 5.0, 1.5, 'Iris-virginica'],\n       [6.9, 3.2, 5.7, 2.3, 'Iris-virginica'],\n       [5.6, 2.8, 4.9, 2.0, 'Iris-virginica'],\n       [7.7, 2.8, 6.7, 2.0, 'Iris-virginica'],\n       [6.3, 2.7, 4.9, 1.8, 'Iris-virginica'],\n       [6.7, 3.3, 5.7, 2.1, 'Iris-virginica'],\n       [7.2, 3.2, 6.0, 1.8, 'Iris-virginica'],\n       [6.2, 2.8, 4.8, 1.8, 'Iris-virginica'],\n       [6.1, 3.0, 4.9, 1.8, 'Iris-virginica'],\n       [6.4, 2.8, 5.6, 2.1, 'Iris-virginica'],\n       [7.2, 3.0, 5.8, 1.6, 'Iris-virginica'],\n       [7.4, 2.8, 6.1, 1.9, 'Iris-virginica'],\n       [7.9, 3.8, 6.4, 2.0, 'Iris-virginica'],\n       [6.4, 2.8, 5.6, 2.2, 'Iris-virginica'],\n       [6.3, 2.8, 5.1, 1.5, 'Iris-virginica'],\n       [6.1, 2.6, 5.6, 1.4, 'Iris-virginica'],\n       [7.7, 3.0, 6.1, 2.3, 'Iris-virginica'],\n       [6.3, 3.4, 5.6, 2.4, 'Iris-virginica'],\n       [6.4, 3.1, 5.5, 1.8, 'Iris-virginica'],\n       [6.0, 3.0, 4.8, 1.8, 'Iris-virginica'],\n       [6.9, 3.1, 5.4, 2.1, 'Iris-virginica'],\n       [6.7, 3.1, 5.6, 2.4, 'Iris-virginica'],\n       [6.9, 3.1, 5.1, 2.3, 'Iris-virginica'],\n       [5.8, 2.7, 5.1, 1.9, 'Iris-virginica'],\n       [6.8, 3.2, 5.9, 2.3, 'Iris-virginica'],\n       [6.7, 3.3, 5.7, 2.5, 'Iris-virginica'],\n       [6.7, 3.0, 5.2, 2.3, 'Iris-virginica'],\n       [6.3, 2.5, 5.0, 1.9, 'Iris-virginica'],\n       [6.5, 3.0, 5.2, 2.0, 'Iris-virginica'],\n       [6.2, 3.4, 5.4, 2.3, 'Iris-virginica'],\n       [5.9, 3.0, 5.1, 1.8, 'Iris-virginica']], dtype=object)"
     },
     "execution_count": 3,
     "metadata": {},
     "output_type": "execute_result"
    }
   ],
   "source": [
    "df.values"
   ],
   "metadata": {
    "collapsed": false,
    "pycharm": {
     "name": "#%%\n"
    }
   }
  },
  {
   "cell_type": "code",
   "execution_count": 4,
   "outputs": [
    {
     "data": {
      "text/plain": "((150, 4), (150,))"
     },
     "execution_count": 4,
     "metadata": {},
     "output_type": "execute_result"
    }
   ],
   "source": [
    "X = df.values[:, :4].astype(float) # all rows (:), columns 0 -> 3 (:4)\n",
    "y = df.values[:, 4]\n",
    "\n",
    "X.shape, y.shape"
   ],
   "metadata": {
    "collapsed": false,
    "pycharm": {
     "name": "#%%\n"
    }
   }
  },
  {
   "cell_type": "code",
   "execution_count": 5,
   "outputs": [
    {
     "data": {
      "text/plain": "array([ True, False, False,  True,  True, False,  True,  True, False,\n        True,  True,  True,  True,  True,  True,  True,  True, False,\n        True, False,  True,  True,  True, False,  True,  True,  True,\n        True,  True, False,  True,  True,  True,  True,  True,  True,\n        True,  True,  True,  True,  True,  True,  True,  True,  True,\n       False,  True, False,  True,  True,  True, False, False,  True,\n       False,  True,  True, False,  True,  True,  True,  True,  True,\n        True, False,  True,  True,  True, False,  True, False,  True,\n       False,  True, False, False,  True,  True,  True, False, False,\n        True,  True,  True,  True,  True,  True, False,  True,  True,\n        True,  True, False,  True,  True,  True,  True, False,  True,\n        True,  True,  True,  True,  True,  True,  True,  True,  True,\n       False,  True,  True,  True,  True,  True,  True,  True,  True,\n        True,  True,  True,  True,  True,  True,  True,  True,  True,\n        True, False,  True, False,  True,  True,  True,  True,  True,\n        True,  True,  True,  True, False,  True,  True,  True,  True,\n       False,  True,  True,  True,  True,  True])"
     },
     "execution_count": 5,
     "metadata": {},
     "output_type": "execute_result"
    }
   ],
   "source": [
    "mask = np.array([True] * 120 + [False] * 30)\n",
    "np.random.shuffle(mask)\n",
    "mask"
   ],
   "metadata": {
    "collapsed": false,
    "pycharm": {
     "name": "#%%\n"
    }
   }
  },
  {
   "cell_type": "code",
   "execution_count": 6,
   "outputs": [],
   "source": [
    "X_train = X[mask]\n",
    "X_test = X[~mask]\n",
    "\n",
    "y_train = y[mask]\n",
    "y_test = y[~mask]"
   ],
   "metadata": {
    "collapsed": false,
    "pycharm": {
     "name": "#%%\n"
    }
   }
  },
  {
   "cell_type": "code",
   "execution_count": 9,
   "outputs": [
    {
     "data": {
      "text/plain": "(Counter({'Iris-setosa': 40, 'Iris-versicolor': 35, 'Iris-virginica': 45}),\n Counter({'Iris-setosa': 10, 'Iris-versicolor': 15, 'Iris-virginica': 5}))"
     },
     "execution_count": 9,
     "metadata": {},
     "output_type": "execute_result"
    }
   ],
   "source": [
    "Counter(y_train), Counter(y_test)"
   ],
   "metadata": {
    "collapsed": false,
    "pycharm": {
     "name": "#%%\n"
    }
   }
  },
  {
   "cell_type": "code",
   "execution_count": 19,
   "outputs": [],
   "source": [
    "def majority_voting(votes):\n",
    "    count = Counter(votes)\n",
    "    return count.most_common(1)[0][0] # most_common(n) returns a list with the n most recurring votes (n=1 -> top vote)\n",
    "\n",
    "def _weighted_majority_voting(votes, weights):\n",
    "    # we now compute `count` as a sum of weights\n",
    "    # (no longer through Counter -- which effectively\n",
    "    # weighted all votes as \"1\")\n",
    "    count = defaultdict(lambda: 0)\n",
    "    for vote, weight in zip(votes, weights):\n",
    "        count[vote] += weight\n",
    "    return max(count.items(), key=lambda x: x[1])[0] # return the max value (use a custom key extractor)\n",
    "\n",
    "class KNearestNeighbors:\n",
    "\n",
    "    def __init__(self, k, distance_metric=\"euclidean\", weights='uniform'):\n",
    "        self.k = k\n",
    "        self.distance_metric = distance_metric\n",
    "        self.weights = weights\n",
    "\n",
    "    def fit(self, X_train, y_train):\n",
    "        self.X_train = X_train\n",
    "        self.y_train = y_train\n",
    "\n",
    "        self.X_train_reshaped = np.expand_dims(self.X_train, 1)\n",
    "        self.X_train_norm = ((self.X_train**2).sum(axis=1)**.5).reshape(-1,1)\n",
    "\n",
    "    def _euclidean(self, X_test):\n",
    "        X_diff = self.X_train_reshaped - X_test\n",
    "        dist_matrix = ((X_diff**2).sum(axis=2))**.5\n",
    "        return dist_matrix\n",
    "\n",
    "    def _cosine(self, X_test):\n",
    "        X_test_norm = ((X_test**2).sum(axis=1)**.5).T\n",
    "        dot_prods = X_train @ X_test.T\n",
    "        dist_matrix = 1 - abs(dot_prods / self.X_train_norm.reshape(-1,1) / X_test_norm)\n",
    "        return dist_matrix\n",
    "\n",
    "    def _manhattan(self, X_test):\n",
    "        X_diff = self.X_train_reshaped - X_test\n",
    "        dist_matrix = abs(X_diff).sum(axis=2)\n",
    "        return dist_matrix\n",
    "\n",
    "    def predict(self, X_test):\n",
    "        if self.distance_metric == \"euclidean\":\n",
    "            dist_matrix = self._euclidean(X_test)\n",
    "        elif self.distance_metric == \"cosine\":\n",
    "            dist_matrix = self._cosine(X_test)\n",
    "        elif self.distance_metric == \"manhattan\":\n",
    "            dist_matrix = self._manhattan(X_test)\n",
    "        else:\n",
    "            raise Exception(\"Unknown distance metric\")\n",
    "        knn = dist_matrix.argsort(axis=0)[:self.k, :].T\n",
    "        y_pred = np.array([ majority_voting(self.y_train[knn][i]) for i in range(len(self.y_train[knn])) ])\n",
    "        return y_pred\n",
    "\n",
    "    def predict_weighted(self, X_test):\n",
    "        if self.distance_metric == \"euclidean\":\n",
    "            dist_matrix = self._euclidean(X_test)\n",
    "        elif self.distance_metric == \"cosine\":\n",
    "            dist_matrix = self._cosine(X_test)\n",
    "        elif self.distance_metric == \"manhattan\":\n",
    "            dist_matrix = self._manhattan(X_test)\n",
    "        else:\n",
    "            raise Exception(\"Unknown distance metric\")\n",
    "\n",
    "        knn = dist_matrix.argsort(axis=0)[:self.k, :].T\n",
    "        if self.weights == \"uniform\":\n",
    "            y_pred = np.array([ majority_voting(self.y_train[knn][i]) for i in range(len(self.y_train[knn])) ])\n",
    "        elif self.weights == \"distance\":\n",
    "            weights = 1/(np.take_along_axis(dist_matrix, knn.T, 0)+1e-5)\n",
    "            y_pred = np.array([ _weighted_majority_voting(y_train[knn][i], weights[:, i]) for i in range(len(y_train[knn])) ])\n",
    "        return y_pred"
   ],
   "metadata": {
    "collapsed": false,
    "pycharm": {
     "name": "#%%\n"
    }
   }
  },
  {
   "cell_type": "code",
   "execution_count": 12,
   "outputs": [],
   "source": [
    "knn_model = KNearestNeighbors(3, \"cosine\")\n",
    "knn_model.fit(X_train, y_train)\n",
    "y_pred = knn_model.predict(X_test)"
   ],
   "metadata": {
    "collapsed": false,
    "pycharm": {
     "name": "#%%\n"
    }
   }
  },
  {
   "cell_type": "code",
   "execution_count": 13,
   "outputs": [
    {
     "data": {
      "text/plain": "array(['Iris-setosa', 'Iris-setosa', 'Iris-setosa', 'Iris-setosa',\n       'Iris-setosa', 'Iris-setosa', 'Iris-setosa', 'Iris-setosa',\n       'Iris-setosa', 'Iris-setosa', 'Iris-versicolor', 'Iris-versicolor',\n       'Iris-versicolor', 'Iris-versicolor', 'Iris-versicolor',\n       'Iris-versicolor', 'Iris-versicolor', 'Iris-virginica',\n       'Iris-versicolor', 'Iris-versicolor', 'Iris-versicolor',\n       'Iris-versicolor', 'Iris-versicolor', 'Iris-versicolor',\n       'Iris-versicolor', 'Iris-virginica', 'Iris-virginica',\n       'Iris-virginica', 'Iris-virginica', 'Iris-virginica'], dtype='<U15')"
     },
     "execution_count": 13,
     "metadata": {},
     "output_type": "execute_result"
    }
   ],
   "source": [
    "y_pred"
   ],
   "metadata": {
    "collapsed": false,
    "pycharm": {
     "name": "#%%\n"
    }
   }
  },
  {
   "cell_type": "code",
   "execution_count": 14,
   "outputs": [],
   "source": [
    "def accuracy_score(y_true, y_pred):\n",
    "    return (y_true==y_pred).sum()/len(y_true)\n"
   ],
   "metadata": {
    "collapsed": false,
    "pycharm": {
     "name": "#%%\n"
    }
   }
  },
  {
   "cell_type": "code",
   "execution_count": 15,
   "outputs": [
    {
     "data": {
      "text/plain": "0.9666666666666667"
     },
     "execution_count": 15,
     "metadata": {},
     "output_type": "execute_result"
    }
   ],
   "source": [
    "accuracy_score(y_test, y_pred)\n"
   ],
   "metadata": {
    "collapsed": false,
    "pycharm": {
     "name": "#%%\n"
    }
   }
  },
  {
   "cell_type": "code",
   "execution_count": 22,
   "outputs": [
    {
     "data": {
      "text/plain": "0.9"
     },
     "execution_count": 22,
     "metadata": {},
     "output_type": "execute_result"
    }
   ],
   "source": [
    "knn_model = KNearestNeighbors(120, \"euclidean\", \"distance\")\n",
    "knn_model.fit(X_train, y_train)\n",
    "y_pred = knn_model.predict_weighted(X_test)\n",
    "accuracy_score(y_test, y_pred)"
   ],
   "metadata": {
    "collapsed": false,
    "pycharm": {
     "name": "#%%\n"
    }
   }
  },
  {
   "cell_type": "code",
   "execution_count": null,
   "outputs": [],
   "source": [],
   "metadata": {
    "collapsed": false,
    "pycharm": {
     "name": "#%%\n"
    }
   }
  }
 ],
 "metadata": {
  "kernelspec": {
   "display_name": "Python 3",
   "language": "python",
   "name": "python3"
  },
  "language_info": {
   "codemirror_mode": {
    "name": "ipython",
    "version": 2
   },
   "file_extension": ".py",
   "mimetype": "text/x-python",
   "name": "python",
   "nbconvert_exporter": "python",
   "pygments_lexer": "ipython2",
   "version": "2.7.6"
  }
 },
 "nbformat": 4,
 "nbformat_minor": 0
}