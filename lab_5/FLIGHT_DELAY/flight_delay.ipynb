{
 "cells": [
  {
   "cell_type": "code",
   "execution_count": 26,
   "outputs": [],
   "source": [
    "import pandas as pd\n",
    "from datetime import datetime, date\n",
    "import matplotlib.pyplot as plt\n",
    "import seaborn as sns"
   ],
   "metadata": {
    "collapsed": false,
    "pycharm": {
     "name": "#%%\n"
    }
   }
  },
  {
   "cell_type": "code",
   "execution_count": 2,
   "outputs": [],
   "source": [
    "raw_dataset = pd.read_csv('./DATASET/Flights.csv', parse_dates=['FL_DATE'], low_memory=False).rename(columns=str.lower)"
   ],
   "metadata": {
    "collapsed": false,
    "pycharm": {
     "name": "#%%\n"
    }
   }
  },
  {
   "cell_type": "code",
   "execution_count": 3,
   "outputs": [
    {
     "name": "stdout",
     "output_type": "stream",
     "text": [
      "<class 'pandas.core.frame.DataFrame'>\n",
      "RangeIndex: 450017 entries, 0 to 450016\n",
      "Data columns (total 33 columns):\n",
      " #   Column                 Non-Null Count   Dtype         \n",
      "---  ------                 --------------   -----         \n",
      " 0   fl_date                450017 non-null  datetime64[ns]\n",
      " 1   unique_carrier         450017 non-null  object        \n",
      " 2   airline_id             450017 non-null  int64         \n",
      " 3   tail_num               449378 non-null  object        \n",
      " 4   fl_num                 450017 non-null  int64         \n",
      " 5   origin_airport_id      450017 non-null  int64         \n",
      " 6   origin_airport_seq_id  450017 non-null  int64         \n",
      " 7   origin_city_market_id  450017 non-null  int64         \n",
      " 8   origin                 450017 non-null  object        \n",
      " 9   origin_city_name       450017 non-null  object        \n",
      " 10  dest_airport_id        450017 non-null  int64         \n",
      " 11  dest_airport_seq_id    450017 non-null  int64         \n",
      " 12  dest_city_market_id    450017 non-null  int64         \n",
      " 13  dest                   450017 non-null  object        \n",
      " 14  dest_city_name         450017 non-null  object        \n",
      " 15  crs_dep_time           450017 non-null  int64         \n",
      " 16  dep_time               441476 non-null  float64       \n",
      " 17  dep_delay              441476 non-null  float64       \n",
      " 18  taxi_out               441244 non-null  float64       \n",
      " 19  wheels_off             441244 non-null  float64       \n",
      " 20  wheels_on              440746 non-null  float64       \n",
      " 21  taxi_in                440746 non-null  float64       \n",
      " 22  crs_arr_time           450017 non-null  int64         \n",
      " 23  arr_time               440746 non-null  float64       \n",
      " 24  arr_delay              439645 non-null  float64       \n",
      " 25  cancelled              450017 non-null  float64       \n",
      " 26  cancellation_code      8886 non-null    object        \n",
      " 27  carrier_delay          97699 non-null   float64       \n",
      " 28  weather_delay          97699 non-null   float64       \n",
      " 29  nas_delay              97699 non-null   float64       \n",
      " 30  security_delay         97699 non-null   float64       \n",
      " 31  late_aircraft_delay    97699 non-null   float64       \n",
      " 32  unnamed: 32            0 non-null       float64       \n",
      "dtypes: datetime64[ns](1), float64(15), int64(10), object(7)\n",
      "memory usage: 113.3+ MB\n"
     ]
    }
   ],
   "source": [
    "raw_dataset.info()"
   ],
   "metadata": {
    "collapsed": false,
    "pycharm": {
     "name": "#%%\n"
    }
   }
  },
  {
   "cell_type": "code",
   "execution_count": 4,
   "outputs": [
    {
     "data": {
      "text/plain": "          airline_id         fl_num  origin_airport_id  origin_airport_seq_id  \\\ncount  450017.000000  450017.000000      450017.000000           4.500170e+05   \nmean    19900.483275    2079.643193       12698.267568           1.269830e+06   \nstd       385.381448    1722.700045        1534.326936           1.534324e+05   \nmin     19393.000000       1.000000       10135.000000           1.013503e+06   \n25%     19690.000000     679.000000       11292.000000           1.129202e+06   \n50%     19805.000000    1602.000000       12892.000000           1.289204e+06   \n75%     20304.000000    3034.000000       14057.000000           1.405702e+06   \nmax     21171.000000    7439.000000       16218.000000           1.621801e+06   \n\n       origin_city_market_id  dest_airport_id  dest_airport_seq_id  \\\ncount          450017.000000    450017.000000         4.500170e+05   \nmean            31738.603264     12698.024626         1.269805e+06   \nstd              1286.063689      1534.246611         1.534244e+05   \nmin             30070.000000     10135.000000         1.013503e+06   \n25%             30647.000000     11292.000000         1.129202e+06   \n50%             31454.000000     12892.000000         1.289204e+06   \n75%             32467.000000     14057.000000         1.405702e+06   \nmax             35991.000000     16218.000000         1.621801e+06   \n\n       dest_city_market_id   crs_dep_time       dep_time  ...   crs_arr_time  \\\ncount        450017.000000  450017.000000  441476.000000  ...  450017.000000   \nmean          31738.404640    1327.757407    1333.947392  ...    1506.278285   \nstd            1285.791081     481.548320     494.957196  ...     501.853851   \nmin           30070.000000       5.000000       1.000000  ...       1.000000   \n25%           30647.000000     917.000000     921.000000  ...    1120.000000   \n50%           31454.000000    1321.000000    1330.000000  ...    1529.000000   \n75%           32467.000000    1730.000000    1738.000000  ...    1921.000000   \nmax           35991.000000    2359.000000    2400.000000  ...    2359.000000   \n\n            arr_time      arr_delay      cancelled  carrier_delay  \\\ncount  440746.000000  439645.000000  450017.000000   97699.000000   \nmean     1487.332958       6.954484       0.019746      20.308836   \nstd       523.821795      49.595992       0.139126      60.649157   \nmin         1.000000     -98.000000       0.000000       0.000000   \n25%      1108.000000     -15.000000       0.000000       0.000000   \n50%      1521.000000      -5.000000       0.000000       0.000000   \n75%      1921.000000      11.000000       0.000000      17.000000   \nmax      2400.000000    1944.000000       1.000000    1934.000000   \n\n       weather_delay     nas_delay  security_delay  late_aircraft_delay  \\\ncount   97699.000000  97699.000000    97699.000000         97699.000000   \nmean        3.368857     15.742495        0.079745            24.947492   \nstd        27.809756     32.328181        2.896287            47.850860   \nmin         0.000000      0.000000        0.000000             0.000000   \n25%         0.000000      0.000000        0.000000             0.000000   \n50%         0.000000      4.000000        0.000000             3.000000   \n75%         0.000000     20.000000        0.000000            31.000000   \nmax      1934.000000   1457.000000      653.000000          1392.000000   \n\n       unnamed: 32  \ncount          0.0  \nmean           NaN  \nstd            NaN  \nmin            NaN  \n25%            NaN  \n50%            NaN  \n75%            NaN  \nmax            NaN  \n\n[8 rows x 25 columns]",
      "text/html": "<div>\n<style scoped>\n    .dataframe tbody tr th:only-of-type {\n        vertical-align: middle;\n    }\n\n    .dataframe tbody tr th {\n        vertical-align: top;\n    }\n\n    .dataframe thead th {\n        text-align: right;\n    }\n</style>\n<table border=\"1\" class=\"dataframe\">\n  <thead>\n    <tr style=\"text-align: right;\">\n      <th></th>\n      <th>airline_id</th>\n      <th>fl_num</th>\n      <th>origin_airport_id</th>\n      <th>origin_airport_seq_id</th>\n      <th>origin_city_market_id</th>\n      <th>dest_airport_id</th>\n      <th>dest_airport_seq_id</th>\n      <th>dest_city_market_id</th>\n      <th>crs_dep_time</th>\n      <th>dep_time</th>\n      <th>...</th>\n      <th>crs_arr_time</th>\n      <th>arr_time</th>\n      <th>arr_delay</th>\n      <th>cancelled</th>\n      <th>carrier_delay</th>\n      <th>weather_delay</th>\n      <th>nas_delay</th>\n      <th>security_delay</th>\n      <th>late_aircraft_delay</th>\n      <th>unnamed: 32</th>\n    </tr>\n  </thead>\n  <tbody>\n    <tr>\n      <th>count</th>\n      <td>450017.000000</td>\n      <td>450017.000000</td>\n      <td>450017.000000</td>\n      <td>4.500170e+05</td>\n      <td>450017.000000</td>\n      <td>450017.000000</td>\n      <td>4.500170e+05</td>\n      <td>450017.000000</td>\n      <td>450017.000000</td>\n      <td>441476.000000</td>\n      <td>...</td>\n      <td>450017.000000</td>\n      <td>440746.000000</td>\n      <td>439645.000000</td>\n      <td>450017.000000</td>\n      <td>97699.000000</td>\n      <td>97699.000000</td>\n      <td>97699.000000</td>\n      <td>97699.000000</td>\n      <td>97699.000000</td>\n      <td>0.0</td>\n    </tr>\n    <tr>\n      <th>mean</th>\n      <td>19900.483275</td>\n      <td>2079.643193</td>\n      <td>12698.267568</td>\n      <td>1.269830e+06</td>\n      <td>31738.603264</td>\n      <td>12698.024626</td>\n      <td>1.269805e+06</td>\n      <td>31738.404640</td>\n      <td>1327.757407</td>\n      <td>1333.947392</td>\n      <td>...</td>\n      <td>1506.278285</td>\n      <td>1487.332958</td>\n      <td>6.954484</td>\n      <td>0.019746</td>\n      <td>20.308836</td>\n      <td>3.368857</td>\n      <td>15.742495</td>\n      <td>0.079745</td>\n      <td>24.947492</td>\n      <td>NaN</td>\n    </tr>\n    <tr>\n      <th>std</th>\n      <td>385.381448</td>\n      <td>1722.700045</td>\n      <td>1534.326936</td>\n      <td>1.534324e+05</td>\n      <td>1286.063689</td>\n      <td>1534.246611</td>\n      <td>1.534244e+05</td>\n      <td>1285.791081</td>\n      <td>481.548320</td>\n      <td>494.957196</td>\n      <td>...</td>\n      <td>501.853851</td>\n      <td>523.821795</td>\n      <td>49.595992</td>\n      <td>0.139126</td>\n      <td>60.649157</td>\n      <td>27.809756</td>\n      <td>32.328181</td>\n      <td>2.896287</td>\n      <td>47.850860</td>\n      <td>NaN</td>\n    </tr>\n    <tr>\n      <th>min</th>\n      <td>19393.000000</td>\n      <td>1.000000</td>\n      <td>10135.000000</td>\n      <td>1.013503e+06</td>\n      <td>30070.000000</td>\n      <td>10135.000000</td>\n      <td>1.013503e+06</td>\n      <td>30070.000000</td>\n      <td>5.000000</td>\n      <td>1.000000</td>\n      <td>...</td>\n      <td>1.000000</td>\n      <td>1.000000</td>\n      <td>-98.000000</td>\n      <td>0.000000</td>\n      <td>0.000000</td>\n      <td>0.000000</td>\n      <td>0.000000</td>\n      <td>0.000000</td>\n      <td>0.000000</td>\n      <td>NaN</td>\n    </tr>\n    <tr>\n      <th>25%</th>\n      <td>19690.000000</td>\n      <td>679.000000</td>\n      <td>11292.000000</td>\n      <td>1.129202e+06</td>\n      <td>30647.000000</td>\n      <td>11292.000000</td>\n      <td>1.129202e+06</td>\n      <td>30647.000000</td>\n      <td>917.000000</td>\n      <td>921.000000</td>\n      <td>...</td>\n      <td>1120.000000</td>\n      <td>1108.000000</td>\n      <td>-15.000000</td>\n      <td>0.000000</td>\n      <td>0.000000</td>\n      <td>0.000000</td>\n      <td>0.000000</td>\n      <td>0.000000</td>\n      <td>0.000000</td>\n      <td>NaN</td>\n    </tr>\n    <tr>\n      <th>50%</th>\n      <td>19805.000000</td>\n      <td>1602.000000</td>\n      <td>12892.000000</td>\n      <td>1.289204e+06</td>\n      <td>31454.000000</td>\n      <td>12892.000000</td>\n      <td>1.289204e+06</td>\n      <td>31454.000000</td>\n      <td>1321.000000</td>\n      <td>1330.000000</td>\n      <td>...</td>\n      <td>1529.000000</td>\n      <td>1521.000000</td>\n      <td>-5.000000</td>\n      <td>0.000000</td>\n      <td>0.000000</td>\n      <td>0.000000</td>\n      <td>4.000000</td>\n      <td>0.000000</td>\n      <td>3.000000</td>\n      <td>NaN</td>\n    </tr>\n    <tr>\n      <th>75%</th>\n      <td>20304.000000</td>\n      <td>3034.000000</td>\n      <td>14057.000000</td>\n      <td>1.405702e+06</td>\n      <td>32467.000000</td>\n      <td>14057.000000</td>\n      <td>1.405702e+06</td>\n      <td>32467.000000</td>\n      <td>1730.000000</td>\n      <td>1738.000000</td>\n      <td>...</td>\n      <td>1921.000000</td>\n      <td>1921.000000</td>\n      <td>11.000000</td>\n      <td>0.000000</td>\n      <td>17.000000</td>\n      <td>0.000000</td>\n      <td>20.000000</td>\n      <td>0.000000</td>\n      <td>31.000000</td>\n      <td>NaN</td>\n    </tr>\n    <tr>\n      <th>max</th>\n      <td>21171.000000</td>\n      <td>7439.000000</td>\n      <td>16218.000000</td>\n      <td>1.621801e+06</td>\n      <td>35991.000000</td>\n      <td>16218.000000</td>\n      <td>1.621801e+06</td>\n      <td>35991.000000</td>\n      <td>2359.000000</td>\n      <td>2400.000000</td>\n      <td>...</td>\n      <td>2359.000000</td>\n      <td>2400.000000</td>\n      <td>1944.000000</td>\n      <td>1.000000</td>\n      <td>1934.000000</td>\n      <td>1934.000000</td>\n      <td>1457.000000</td>\n      <td>653.000000</td>\n      <td>1392.000000</td>\n      <td>NaN</td>\n    </tr>\n  </tbody>\n</table>\n<p>8 rows × 25 columns</p>\n</div>"
     },
     "execution_count": 4,
     "metadata": {},
     "output_type": "execute_result"
    }
   ],
   "source": [
    "raw_dataset.describe()"
   ],
   "metadata": {
    "collapsed": false,
    "pycharm": {
     "name": "#%%\n"
    }
   }
  },
  {
   "cell_type": "code",
   "execution_count": 5,
   "outputs": [
    {
     "data": {
      "text/plain": "fl_date                    31\nunique_carrier             12\nairline_id                 12\ntail_num                 4390\nfl_num                   6393\norigin_airport_id         298\norigin_airport_seq_id     298\norigin_city_market_id     277\norigin                    298\norigin_city_name          294\ndest_airport_id           297\ndest_airport_seq_id       297\ndest_city_market_id       276\ndest                      297\ndest_city_name            293\ncrs_dep_time             1186\ndep_time                 1427\ndep_delay                 896\ntaxi_out                  165\nwheels_off               1429\nwheels_on                1440\ntaxi_in                   168\ncrs_arr_time             1323\narr_time                 1440\narr_delay                 893\ncancelled                   2\ncancellation_code           4\ncarrier_delay             683\nweather_delay             392\nnas_delay                 383\nsecurity_delay             71\nlate_aircraft_delay       471\nunnamed: 32                 0\ndtype: int64"
     },
     "execution_count": 5,
     "metadata": {},
     "output_type": "execute_result"
    }
   ],
   "source": [
    "raw_dataset.nunique()"
   ],
   "metadata": {
    "collapsed": false,
    "pycharm": {
     "name": "#%%\n"
    }
   }
  },
  {
   "cell_type": "code",
   "execution_count": 6,
   "outputs": [
    {
     "name": "stdout",
     "output_type": "stream",
     "text": [
      "2017-01-01 00:00:00 \n",
      " 2017-01-31 00:00:00\n"
     ]
    }
   ],
   "source": [
    "print(raw_dataset.fl_date.min(),'\\n',raw_dataset.fl_date.max())"
   ],
   "metadata": {
    "collapsed": false,
    "pycharm": {
     "name": "#%%\n"
    }
   }
  },
  {
   "cell_type": "code",
   "execution_count": 7,
   "outputs": [],
   "source": [
    "raw_dataset = raw_dataset.drop('unnamed: 32', axis=1)"
   ],
   "metadata": {
    "collapsed": false,
    "pycharm": {
     "name": "#%%\n"
    }
   }
  },
  {
   "cell_type": "code",
   "execution_count": 8,
   "outputs": [],
   "source": [
    "#2.3\n",
    "raw_dataset = raw_dataset[raw_dataset.cancelled == 0]"
   ],
   "metadata": {
    "collapsed": false,
    "pycharm": {
     "name": "#%%\n"
    }
   }
  },
  {
   "cell_type": "code",
   "execution_count": 9,
   "outputs": [
    {
     "name": "stdout",
     "output_type": "stream",
     "text": [
      "First ten airports: ['JFK' 'LAX' 'DFW' 'OGG' 'HNL' 'SFO' 'ORD' 'MIA' 'IAH' 'BOS']. Size: 298\n"
     ]
    }
   ],
   "source": [
    "distinct_airports = pd.concat([raw_dataset[\"origin\"], raw_dataset[\"dest\"]])\n",
    "print(f\"First ten airports: {distinct_airports.unique()[:10]}. Size: {distinct_airports.unique().size}\")"
   ],
   "metadata": {
    "collapsed": false,
    "pycharm": {
     "name": "#%%\n"
    }
   }
  },
  {
   "cell_type": "code",
   "execution_count": 10,
   "outputs": [
    {
     "data": {
      "text/plain": "unique_carrier\nAA     72152\nAS     14454\nB6     24077\nDL     69031\nEV     33878\nF9      7598\nHA      6258\nNK     12129\nOO     48266\nUA     42171\nVX      5645\nWN    105472\nName: fl_date, dtype: int64"
     },
     "execution_count": 10,
     "metadata": {},
     "output_type": "execute_result"
    }
   ],
   "source": [
    "#2.4\n",
    "ds_by_carrier = raw_dataset.groupby('unique_carrier')\n",
    "ds_by_carrier.fl_date.count()"
   ],
   "metadata": {
    "collapsed": false,
    "pycharm": {
     "name": "#%%\n"
    }
   }
  },
  {
   "cell_type": "code",
   "execution_count": 11,
   "outputs": [
    {
     "data": {
      "text/plain": "                dep_delay  arr_delay  carrier_delay  weather_delay  nas_delay  \\\nunique_carrier                                                                  \nAA               7.466917   3.307004      18.736410       2.352168  15.370026   \nAS               5.220769   3.311553      11.736505       3.820850  18.615047   \nB6              14.132533   8.423231      20.297641       1.436562  15.223725   \nDL              13.512205   4.305279      30.858959       9.572160  16.836252   \nEV              17.687791  13.173011      36.329407       1.368504  15.794439   \nF9              16.566333  12.076791      16.748299       0.870295  19.070295   \nHA               2.916427   3.617181      29.941714       0.897143   0.251429   \nNK              11.680600   8.993642       9.080825       0.732499  43.840041   \nOO              15.194941  12.528524      23.495640       4.633053  15.186582   \nUA              13.614095   4.911975      21.436417       2.568226  21.186162   \nVX              17.792383  15.565912       9.308965       3.342583  25.093917   \nWN              10.961914   6.764571      11.737663       2.176463   9.701419   \n\n                security_delay  late_aircraft_delay  \nunique_carrier                                       \nAA                    0.178156            18.742267  \nAS                    0.169028            19.189946  \nB6                    0.312820            29.282627  \nDL                    0.033901            21.964020  \nEV                    0.000000            31.725109  \nF9                    0.000000            31.091610  \nHA                    0.122286            14.113143  \nNK                    0.035171            12.137978  \nOO                    0.100759            31.316244  \nUA                    0.016759            24.592458  \nVX                    0.041622            24.715582  \nWN                    0.031890            25.658966  ",
      "text/html": "<div>\n<style scoped>\n    .dataframe tbody tr th:only-of-type {\n        vertical-align: middle;\n    }\n\n    .dataframe tbody tr th {\n        vertical-align: top;\n    }\n\n    .dataframe thead th {\n        text-align: right;\n    }\n</style>\n<table border=\"1\" class=\"dataframe\">\n  <thead>\n    <tr style=\"text-align: right;\">\n      <th></th>\n      <th>dep_delay</th>\n      <th>arr_delay</th>\n      <th>carrier_delay</th>\n      <th>weather_delay</th>\n      <th>nas_delay</th>\n      <th>security_delay</th>\n      <th>late_aircraft_delay</th>\n    </tr>\n    <tr>\n      <th>unique_carrier</th>\n      <th></th>\n      <th></th>\n      <th></th>\n      <th></th>\n      <th></th>\n      <th></th>\n      <th></th>\n    </tr>\n  </thead>\n  <tbody>\n    <tr>\n      <th>AA</th>\n      <td>7.466917</td>\n      <td>3.307004</td>\n      <td>18.736410</td>\n      <td>2.352168</td>\n      <td>15.370026</td>\n      <td>0.178156</td>\n      <td>18.742267</td>\n    </tr>\n    <tr>\n      <th>AS</th>\n      <td>5.220769</td>\n      <td>3.311553</td>\n      <td>11.736505</td>\n      <td>3.820850</td>\n      <td>18.615047</td>\n      <td>0.169028</td>\n      <td>19.189946</td>\n    </tr>\n    <tr>\n      <th>B6</th>\n      <td>14.132533</td>\n      <td>8.423231</td>\n      <td>20.297641</td>\n      <td>1.436562</td>\n      <td>15.223725</td>\n      <td>0.312820</td>\n      <td>29.282627</td>\n    </tr>\n    <tr>\n      <th>DL</th>\n      <td>13.512205</td>\n      <td>4.305279</td>\n      <td>30.858959</td>\n      <td>9.572160</td>\n      <td>16.836252</td>\n      <td>0.033901</td>\n      <td>21.964020</td>\n    </tr>\n    <tr>\n      <th>EV</th>\n      <td>17.687791</td>\n      <td>13.173011</td>\n      <td>36.329407</td>\n      <td>1.368504</td>\n      <td>15.794439</td>\n      <td>0.000000</td>\n      <td>31.725109</td>\n    </tr>\n    <tr>\n      <th>F9</th>\n      <td>16.566333</td>\n      <td>12.076791</td>\n      <td>16.748299</td>\n      <td>0.870295</td>\n      <td>19.070295</td>\n      <td>0.000000</td>\n      <td>31.091610</td>\n    </tr>\n    <tr>\n      <th>HA</th>\n      <td>2.916427</td>\n      <td>3.617181</td>\n      <td>29.941714</td>\n      <td>0.897143</td>\n      <td>0.251429</td>\n      <td>0.122286</td>\n      <td>14.113143</td>\n    </tr>\n    <tr>\n      <th>NK</th>\n      <td>11.680600</td>\n      <td>8.993642</td>\n      <td>9.080825</td>\n      <td>0.732499</td>\n      <td>43.840041</td>\n      <td>0.035171</td>\n      <td>12.137978</td>\n    </tr>\n    <tr>\n      <th>OO</th>\n      <td>15.194941</td>\n      <td>12.528524</td>\n      <td>23.495640</td>\n      <td>4.633053</td>\n      <td>15.186582</td>\n      <td>0.100759</td>\n      <td>31.316244</td>\n    </tr>\n    <tr>\n      <th>UA</th>\n      <td>13.614095</td>\n      <td>4.911975</td>\n      <td>21.436417</td>\n      <td>2.568226</td>\n      <td>21.186162</td>\n      <td>0.016759</td>\n      <td>24.592458</td>\n    </tr>\n    <tr>\n      <th>VX</th>\n      <td>17.792383</td>\n      <td>15.565912</td>\n      <td>9.308965</td>\n      <td>3.342583</td>\n      <td>25.093917</td>\n      <td>0.041622</td>\n      <td>24.715582</td>\n    </tr>\n    <tr>\n      <th>WN</th>\n      <td>10.961914</td>\n      <td>6.764571</td>\n      <td>11.737663</td>\n      <td>2.176463</td>\n      <td>9.701419</td>\n      <td>0.031890</td>\n      <td>25.658966</td>\n    </tr>\n  </tbody>\n</table>\n</div>"
     },
     "execution_count": 11,
     "metadata": {},
     "output_type": "execute_result"
    }
   ],
   "source": [
    "def get_cols():\n",
    "    return ['dep_delay', 'arr_delay', 'carrier_delay', 'weather_delay', 'nas_delay',\n",
    "       'security_delay', 'late_aircraft_delay']\n",
    "\n",
    "mean_carriers = ds_by_carrier[get_cols()].mean()\n",
    "mean_carriers"
   ],
   "metadata": {
    "collapsed": false,
    "pycharm": {
     "name": "#%%\n"
    }
   }
  },
  {
   "cell_type": "code",
   "execution_count": 12,
   "outputs": [
    {
     "data": {
      "text/plain": "unique_carrier\nAA     9.450421\nAS     8.866243\nB6    12.729877\nDL    13.868968\nEV    16.582609\nF9    13.774803\nHA     7.408475\nNK    12.357251\nOO    14.636535\nUA    12.618013\nVX    13.694423\nWN     9.576127\ndtype: float64"
     },
     "execution_count": 12,
     "metadata": {},
     "output_type": "execute_result"
    }
   ],
   "source": [
    "mean_carriers.mean(axis=1)"
   ],
   "metadata": {
    "collapsed": false,
    "pycharm": {
     "name": "#%%\n"
    }
   }
  },
  {
   "cell_type": "code",
   "execution_count": 13,
   "outputs": [],
   "source": [
    "raw_dataset['week_day'] = raw_dataset.fl_date.dt.dayofweek"
   ],
   "metadata": {
    "collapsed": false,
    "pycharm": {
     "name": "#%%\n"
    }
   }
  },
  {
   "cell_type": "code",
   "execution_count": 14,
   "outputs": [
    {
     "data": {
      "text/plain": "0    -4.0\n1     8.0\n2    -9.0\n3    20.0\n4    42.0\nName: delta_delay, dtype: float64"
     },
     "execution_count": 14,
     "metadata": {},
     "output_type": "execute_result"
    }
   ],
   "source": [
    "raw_dataset['delta_delay'] = raw_dataset['arr_delay'] - raw_dataset['dep_delay']\n",
    "raw_dataset.delta_delay.head()"
   ],
   "metadata": {
    "collapsed": false,
    "pycharm": {
     "name": "#%%\n"
    }
   }
  },
  {
   "cell_type": "code",
   "execution_count": 15,
   "outputs": [
    {
     "data": {
      "text/plain": "<AxesSubplot:title={'center':'arr_delay'}, xlabel='week_day'>"
     },
     "execution_count": 15,
     "metadata": {},
     "output_type": "execute_result"
    },
    {
     "data": {
      "text/plain": "<Figure size 432x288 with 1 Axes>",
      "image/png": "[encoded data removed]"
     },
     "metadata": {
      "needs_background": "light"
     },
     "output_type": "display_data"
    }
   ],
   "source": [
    "raw_dataset.boxplot(by='week_day', column='arr_delay')"
   ],
   "metadata": {
    "collapsed": false,
    "pycharm": {
     "name": "#%%\n"
    }
   }
  },
  {
   "cell_type": "code",
   "execution_count": 16,
   "outputs": [
    {
     "data": {
      "text/plain": "<AxesSubplot:title={'center':'arr_delay'}, xlabel='week_day'>"
     },
     "execution_count": 16,
     "metadata": {},
     "output_type": "execute_result"
    },
    {
     "data": {
      "text/plain": "<Figure size 432x288 with 1 Axes>",
      "image/png": "[encoded data removed]"
     },
     "metadata": {
      "needs_background": "light"
     },
     "output_type": "display_data"
    }
   ],
   "source": [
    "raw_dataset.boxplot(by='week_day', column='arr_delay', showfliers=False)"
   ],
   "metadata": {
    "collapsed": false,
    "pycharm": {
     "name": "#%%\n"
    }
   }
  },
  {
   "cell_type": "code",
   "execution_count": 18,
   "outputs": [
    {
     "data": {
      "text/plain": "<Figure size 432x288 with 1 Axes>",
      "image/png": "[encoded data removed]"
     },
     "metadata": {
      "needs_background": "light"
     },
     "output_type": "display_data"
    }
   ],
   "source": [
    "# Consider the weekend days only, compute, for each carrier, the mean arrival delay. Now consider\n",
    "# the working days and compute, for each carrier, the mean arrival time.\n",
    "# Then, compare the delays in working days and in weekends for each company.\n",
    "# • Are you able to identify companies that are delayed only in weekends or only in working days?\n",
    "# Why?\n",
    "\n",
    "we_delay = raw_dataset.loc[raw_dataset.week_day > 4].groupby('unique_carrier').arr_delay.mean()\n",
    "wd_delay = raw_dataset.loc[raw_dataset.week_day <= 4].groupby('unique_carrier').arr_delay.mean()\n",
    "\n",
    "we_delay.name = \"weekend delay\"\n",
    "wd_delay.name = \"working days delay\"\n",
    "ax = pd.concat([wd_delay, we_delay], axis=1).plot.bar()\n",
    "ax.grid(True)"
   ],
   "metadata": {
    "collapsed": false,
    "pycharm": {
     "name": "#%%\n"
    }
   }
  },
  {
   "cell_type": "code",
   "execution_count": 19,
   "outputs": [
    {
     "data": {
      "text/plain": "                                       airline_id tail_num  fl_num  \\\nunique_carrier origin dest fl_date                                   \nAA             ABQ    DFW  2017-01-01       19805   N4XSAA    1282   \n                           2017-01-01       19805   N3NRAA    2611   \n                           2017-01-01       19805   N4WNAA    2402   \n                           2017-01-02       19805   N4XKAA    2611   \n                           2017-01-02       19805   N4XBAA    2402   \n\n                                       origin_airport_id  \nunique_carrier origin dest fl_date                        \nAA             ABQ    DFW  2017-01-01              10140  \n                           2017-01-01              10140  \n                           2017-01-01              10140  \n                           2017-01-02              10140  \n                           2017-01-02              10140  ",
      "text/html": "<div>\n<style scoped>\n    .dataframe tbody tr th:only-of-type {\n        vertical-align: middle;\n    }\n\n    .dataframe tbody tr th {\n        vertical-align: top;\n    }\n\n    .dataframe thead th {\n        text-align: right;\n    }\n</style>\n<table border=\"1\" class=\"dataframe\">\n  <thead>\n    <tr style=\"text-align: right;\">\n      <th></th>\n      <th></th>\n      <th></th>\n      <th></th>\n      <th>airline_id</th>\n      <th>tail_num</th>\n      <th>fl_num</th>\n      <th>origin_airport_id</th>\n    </tr>\n    <tr>\n      <th>unique_carrier</th>\n      <th>origin</th>\n      <th>dest</th>\n      <th>fl_date</th>\n      <th></th>\n      <th></th>\n      <th></th>\n      <th></th>\n    </tr>\n  </thead>\n  <tbody>\n    <tr>\n      <th rowspan=\"5\" valign=\"top\">AA</th>\n      <th rowspan=\"5\" valign=\"top\">ABQ</th>\n      <th rowspan=\"5\" valign=\"top\">DFW</th>\n      <th>2017-01-01</th>\n      <td>19805</td>\n      <td>N4XSAA</td>\n      <td>1282</td>\n      <td>10140</td>\n    </tr>\n    <tr>\n      <th>2017-01-01</th>\n      <td>19805</td>\n      <td>N3NRAA</td>\n      <td>2611</td>\n      <td>10140</td>\n    </tr>\n    <tr>\n      <th>2017-01-01</th>\n      <td>19805</td>\n      <td>N4WNAA</td>\n      <td>2402</td>\n      <td>10140</td>\n    </tr>\n    <tr>\n      <th>2017-01-02</th>\n      <td>19805</td>\n      <td>N4XKAA</td>\n      <td>2611</td>\n      <td>10140</td>\n    </tr>\n    <tr>\n      <th>2017-01-02</th>\n      <td>19805</td>\n      <td>N4XBAA</td>\n      <td>2402</td>\n      <td>10140</td>\n    </tr>\n  </tbody>\n</table>\n</div>"
     },
     "execution_count": 19,
     "metadata": {},
     "output_type": "execute_result"
    }
   ],
   "source": [
    "# Create a Pandas DataFrame with amulti-index composed of the columns: unique_carrier, origin,\n",
    "# dest, fl_date.\n",
    "\n",
    "multi_df = raw_dataset.set_index(['unique_carrier', 'origin', 'dest', 'fl_date']).sort_index()\n",
    "multi_df[multi_df.columns[:4]].head()"
   ],
   "metadata": {
    "collapsed": false,
    "pycharm": {
     "name": "#%%\n"
    }
   }
  },
  {
   "cell_type": "code",
   "execution_count": 20,
   "outputs": [
    {
     "data": {
      "text/plain": "                                       dep_time  dep_delay\nunique_carrier origin dest fl_date                        \nAA             LAX    ATL  2017-01-01    1051.0       16.0\n                           2017-01-01    1747.0      137.0\n                           2017-01-02    1548.0       18.0\n                           2017-01-02    2230.0       40.0\n                           2017-01-02    1055.0       20.0\n...                                         ...        ...\nDL             LAX    TPA  2017-01-26    1146.0        1.0\n                           2017-01-27    1137.0       -3.0\n                           2017-01-29    1149.0        4.0\n                           2017-01-30    1142.0       -3.0\n                           2017-01-31    1206.0       21.0\n\n[5437 rows x 2 columns]",
      "text/html": "<div>\n<style scoped>\n    .dataframe tbody tr th:only-of-type {\n        vertical-align: middle;\n    }\n\n    .dataframe tbody tr th {\n        vertical-align: top;\n    }\n\n    .dataframe thead th {\n        text-align: right;\n    }\n</style>\n<table border=\"1\" class=\"dataframe\">\n  <thead>\n    <tr style=\"text-align: right;\">\n      <th></th>\n      <th></th>\n      <th></th>\n      <th></th>\n      <th>dep_time</th>\n      <th>dep_delay</th>\n    </tr>\n    <tr>\n      <th>unique_carrier</th>\n      <th>origin</th>\n      <th>dest</th>\n      <th>fl_date</th>\n      <th></th>\n      <th></th>\n    </tr>\n  </thead>\n  <tbody>\n    <tr>\n      <th rowspan=\"5\" valign=\"top\">AA</th>\n      <th rowspan=\"5\" valign=\"top\">LAX</th>\n      <th rowspan=\"5\" valign=\"top\">ATL</th>\n      <th>2017-01-01</th>\n      <td>1051.0</td>\n      <td>16.0</td>\n    </tr>\n    <tr>\n      <th>2017-01-01</th>\n      <td>1747.0</td>\n      <td>137.0</td>\n    </tr>\n    <tr>\n      <th>2017-01-02</th>\n      <td>1548.0</td>\n      <td>18.0</td>\n    </tr>\n    <tr>\n      <th>2017-01-02</th>\n      <td>2230.0</td>\n      <td>40.0</td>\n    </tr>\n    <tr>\n      <th>2017-01-02</th>\n      <td>1055.0</td>\n      <td>20.0</td>\n    </tr>\n    <tr>\n      <th>...</th>\n      <th>...</th>\n      <th>...</th>\n      <th>...</th>\n      <td>...</td>\n      <td>...</td>\n    </tr>\n    <tr>\n      <th rowspan=\"5\" valign=\"top\">DL</th>\n      <th rowspan=\"5\" valign=\"top\">LAX</th>\n      <th rowspan=\"5\" valign=\"top\">TPA</th>\n      <th>2017-01-26</th>\n      <td>1146.0</td>\n      <td>1.0</td>\n    </tr>\n    <tr>\n      <th>2017-01-27</th>\n      <td>1137.0</td>\n      <td>-3.0</td>\n    </tr>\n    <tr>\n      <th>2017-01-29</th>\n      <td>1149.0</td>\n      <td>4.0</td>\n    </tr>\n    <tr>\n      <th>2017-01-30</th>\n      <td>1142.0</td>\n      <td>-3.0</td>\n    </tr>\n    <tr>\n      <th>2017-01-31</th>\n      <td>1206.0</td>\n      <td>21.0</td>\n    </tr>\n  </tbody>\n</table>\n<p>5437 rows × 2 columns</p>\n</div>"
     },
     "execution_count": 20,
     "metadata": {},
     "output_type": "execute_result"
    }
   ],
   "source": [
    "\n",
    "# For each flight operated by American Airlines (AA) and Delta Airlines (DL), taken off from the Los\n",
    "# Angeles International Airport (LAX) and for each date, display the departure time and delay.\n",
    "\n",
    "multi_df.loc[(['AA', 'DL'], ['LAX']), ['dep_time', 'dep_delay']]"
   ],
   "metadata": {
    "collapsed": false,
    "pycharm": {
     "name": "#%%\n"
    }
   }
  },
  {
   "cell_type": "code",
   "execution_count": 21,
   "outputs": [
    {
     "data": {
      "text/plain": "fl_num\n1        0.000000\n2       60.000000\n4       11.625000\n5        2.875000\n7       16.750000\n          ...    \n6344    47.000000\n6354    60.000000\n6522    49.666667\n6563    -8.000000\n6710    10.000000\nName: arr_delay, Length: 1105, dtype: float64"
     },
     "execution_count": 21,
     "metadata": {},
     "output_type": "execute_result"
    }
   ],
   "source": [
    "\n",
    "# For each flight that flew in the first week of the month, with LAX as destination airport, compute the\n",
    "# mean arrival delay.\n",
    "\n",
    "''' Let's break down the problem. We first detect all the interested records. To do so, we can exploit the datetime type to filter on dates.'''\n",
    "\n",
    "# fw_df = multi_df.loc[(:, :, 'LAX', '2017-01-01':'2017-01-08'), :] # not allowed\n",
    "fw_df = multi_df.loc[(slice(None), slice(None), 'LAX', slice('2017-01-01','2017-01-08')), :]\n",
    "\n",
    "# The first line of the previous cell is commented out, since the character : cannot be used to access\n",
    "# index levels. If you want to use it anyway, pandas provides the IndexSlice object that handles the\n",
    "# translation for you. The previous result would be obtained via:\n",
    "\n",
    "fw_df = multi_df.loc[pd.IndexSlice[:, :, 'LAX', '2017-01-01':'2017-01-08'], :]\n",
    "fw_df.groupby('fl_num')['arr_delay'].mean()"
   ],
   "metadata": {
    "collapsed": false,
    "pycharm": {
     "name": "#%%\n"
    }
   }
  },
  {
   "cell_type": "code",
   "execution_count": 24,
   "outputs": [
    {
     "data": {
      "text/plain": "week_day            0      1      2      3      4      5      6\nunique_carrier                                                 \nAA              12035  11457   9651   9854   9820   7905  11430\nAS               2440   2261   1806   1935   1953   1762   2297\nB6               4063   3942   3143   3258   3169   2643   3859\nDL              12157  11512   9248   9695   9521   6492  10406\nEV               5935   5649   4627   4923   4774   2905   5065\nF9               1239   1214    976    983    986    955   1245\nHA                987    966    791    802    864    826   1022\nNK               1954   1970   1616   1610   1563   1470   1946\nOO               8321   7912   6413   6631   6667   4913   7409\nUA               7498   6883   5384   5956   5920   3964   6566\nVX                986    914    741    791    792    522    899\nWN              17913  17855  14260  14220  14012  11168  16044",
      "text/html": "<div>\n<style scoped>\n    .dataframe tbody tr th:only-of-type {\n        vertical-align: middle;\n    }\n\n    .dataframe tbody tr th {\n        vertical-align: top;\n    }\n\n    .dataframe thead th {\n        text-align: right;\n    }\n</style>\n<table border=\"1\" class=\"dataframe\">\n  <thead>\n    <tr style=\"text-align: right;\">\n      <th>week_day</th>\n      <th>0</th>\n      <th>1</th>\n      <th>2</th>\n      <th>3</th>\n      <th>4</th>\n      <th>5</th>\n      <th>6</th>\n    </tr>\n    <tr>\n      <th>unique_carrier</th>\n      <th></th>\n      <th></th>\n      <th></th>\n      <th></th>\n      <th></th>\n      <th></th>\n      <th></th>\n    </tr>\n  </thead>\n  <tbody>\n    <tr>\n      <th>AA</th>\n      <td>12035</td>\n      <td>11457</td>\n      <td>9651</td>\n      <td>9854</td>\n      <td>9820</td>\n      <td>7905</td>\n      <td>11430</td>\n    </tr>\n    <tr>\n      <th>AS</th>\n      <td>2440</td>\n      <td>2261</td>\n      <td>1806</td>\n      <td>1935</td>\n      <td>1953</td>\n      <td>1762</td>\n      <td>2297</td>\n    </tr>\n    <tr>\n      <th>B6</th>\n      <td>4063</td>\n      <td>3942</td>\n      <td>3143</td>\n      <td>3258</td>\n      <td>3169</td>\n      <td>2643</td>\n      <td>3859</td>\n    </tr>\n    <tr>\n      <th>DL</th>\n      <td>12157</td>\n      <td>11512</td>\n      <td>9248</td>\n      <td>9695</td>\n      <td>9521</td>\n      <td>6492</td>\n      <td>10406</td>\n    </tr>\n    <tr>\n      <th>EV</th>\n      <td>5935</td>\n      <td>5649</td>\n      <td>4627</td>\n      <td>4923</td>\n      <td>4774</td>\n      <td>2905</td>\n      <td>5065</td>\n    </tr>\n    <tr>\n      <th>F9</th>\n      <td>1239</td>\n      <td>1214</td>\n      <td>976</td>\n      <td>983</td>\n      <td>986</td>\n      <td>955</td>\n      <td>1245</td>\n    </tr>\n    <tr>\n      <th>HA</th>\n      <td>987</td>\n      <td>966</td>\n      <td>791</td>\n      <td>802</td>\n      <td>864</td>\n      <td>826</td>\n      <td>1022</td>\n    </tr>\n    <tr>\n      <th>NK</th>\n      <td>1954</td>\n      <td>1970</td>\n      <td>1616</td>\n      <td>1610</td>\n      <td>1563</td>\n      <td>1470</td>\n      <td>1946</td>\n    </tr>\n    <tr>\n      <th>OO</th>\n      <td>8321</td>\n      <td>7912</td>\n      <td>6413</td>\n      <td>6631</td>\n      <td>6667</td>\n      <td>4913</td>\n      <td>7409</td>\n    </tr>\n    <tr>\n      <th>UA</th>\n      <td>7498</td>\n      <td>6883</td>\n      <td>5384</td>\n      <td>5956</td>\n      <td>5920</td>\n      <td>3964</td>\n      <td>6566</td>\n    </tr>\n    <tr>\n      <th>VX</th>\n      <td>986</td>\n      <td>914</td>\n      <td>741</td>\n      <td>791</td>\n      <td>792</td>\n      <td>522</td>\n      <td>899</td>\n    </tr>\n    <tr>\n      <th>WN</th>\n      <td>17913</td>\n      <td>17855</td>\n      <td>14260</td>\n      <td>14220</td>\n      <td>14012</td>\n      <td>11168</td>\n      <td>16044</td>\n    </tr>\n  </tbody>\n</table>\n</div>"
     },
     "execution_count": 24,
     "metadata": {},
     "output_type": "execute_result"
    }
   ],
   "source": [
    "\n",
    "# Generate a pivot table containing the number of departed flights for each carrier and for each day\n",
    "# of the week and show it.\n",
    "# Compute now the pairwise correlation between the carriers and show it on a heatmap.\n",
    "# • What does this correlation matrix represent?\n",
    "# 5\n",
    "# • Can you find any carrier with different flight plans?\n",
    "\n",
    "cfd = pd.pivot_table(raw_dataset, values='fl_num', index='unique_carrier', columns='week_day', aggfunc='count')\n",
    "cfd"
   ],
   "metadata": {
    "collapsed": false,
    "pycharm": {
     "name": "#%%\n"
    }
   }
  },
  {
   "cell_type": "code",
   "execution_count": 27,
   "outputs": [
    {
     "data": {
      "text/plain": "<Figure size 720x720 with 2 Axes>",
      "image/png": "[encoded data removed]"
     },
     "metadata": {
      "needs_background": "light"
     },
     "output_type": "display_data"
    }
   ],
   "source": [
    "\n",
    "plt.figure(figsize=(10,10))\n",
    "_ = sns.heatmap(cfd.T.corr())"
   ],
   "metadata": {
    "collapsed": false,
    "pycharm": {
     "name": "#%%\n"
    }
   }
  },
  {
   "cell_type": "code",
   "execution_count": 29,
   "outputs": [
    {
     "data": {
      "text/plain": "<Figure size 720x720 with 2 Axes>",
      "image/png": "[encoded data removed]"
     },
     "metadata": {
      "needs_background": "light"
     },
     "output_type": "display_data"
    }
   ],
   "source": [
    "# Generate a pivot table containing the average arrival delay, for each carrier and for each day of the\n",
    "# week and show it.\n",
    "# Compute now the pairwise correlation between the carriers and show it on a heatmap.\n",
    "# • What does this correlation matrix represent?\n",
    "# • Can you find any carrier with different delay behaviors?\n",
    "\n",
    "plt.figure(figsize=(10,10))\n",
    "_ = sns.heatmap(pd.pivot_table(raw_dataset, values='arr_delay', index='unique_carrier', columns='week_day', aggfunc='mean').T.corr())"
   ],
   "metadata": {
    "collapsed": false,
    "pycharm": {
     "name": "#%%\n"
    }
   }
  },
  {
   "cell_type": "code",
   "execution_count": 32,
   "outputs": [
    {
     "data": {
      "text/plain": "week_day               0          1          2          3         4         5  \\\nunique_carrier                                                                  \nAA             -3.576209  -4.621619  -4.601184  -4.091436 -3.553686 -4.558771   \nAS             -1.690789  -1.625446  -1.889198  -2.130705 -2.624551 -3.453872   \nDL             -8.913563 -10.211625 -10.544913 -10.604603 -9.623199 -5.979988   \nHA              0.258359   0.307772   0.759189   0.390762  0.746528  1.330508   \n\nweek_day               6  \nunique_carrier            \nAA             -3.747053  \nAS              0.542632  \nDL             -7.001644  \nHA              1.207066  ",
      "text/html": "<div>\n<style scoped>\n    .dataframe tbody tr th:only-of-type {\n        vertical-align: middle;\n    }\n\n    .dataframe tbody tr th {\n        vertical-align: top;\n    }\n\n    .dataframe thead th {\n        text-align: right;\n    }\n</style>\n<table border=\"1\" class=\"dataframe\">\n  <thead>\n    <tr style=\"text-align: right;\">\n      <th>week_day</th>\n      <th>0</th>\n      <th>1</th>\n      <th>2</th>\n      <th>3</th>\n      <th>4</th>\n      <th>5</th>\n      <th>6</th>\n    </tr>\n    <tr>\n      <th>unique_carrier</th>\n      <th></th>\n      <th></th>\n      <th></th>\n      <th></th>\n      <th></th>\n      <th></th>\n      <th></th>\n    </tr>\n  </thead>\n  <tbody>\n    <tr>\n      <th>AA</th>\n      <td>-3.576209</td>\n      <td>-4.621619</td>\n      <td>-4.601184</td>\n      <td>-4.091436</td>\n      <td>-3.553686</td>\n      <td>-4.558771</td>\n      <td>-3.747053</td>\n    </tr>\n    <tr>\n      <th>AS</th>\n      <td>-1.690789</td>\n      <td>-1.625446</td>\n      <td>-1.889198</td>\n      <td>-2.130705</td>\n      <td>-2.624551</td>\n      <td>-3.453872</td>\n      <td>0.542632</td>\n    </tr>\n    <tr>\n      <th>DL</th>\n      <td>-8.913563</td>\n      <td>-10.211625</td>\n      <td>-10.544913</td>\n      <td>-10.604603</td>\n      <td>-9.623199</td>\n      <td>-5.979988</td>\n      <td>-7.001644</td>\n    </tr>\n    <tr>\n      <th>HA</th>\n      <td>0.258359</td>\n      <td>0.307772</td>\n      <td>0.759189</td>\n      <td>0.390762</td>\n      <td>0.746528</td>\n      <td>1.330508</td>\n      <td>1.207066</td>\n    </tr>\n  </tbody>\n</table>\n</div>"
     },
     "execution_count": 32,
     "metadata": {},
     "output_type": "execute_result"
    }
   ],
   "source": [
    "\n",
    "# Using a pivot table, for the carriers HA, DL, AA and AS compute the average deltadelay for each\n",
    "# day of the week. Then, display the results on a line plot, having a line per carrier and the weekday\n",
    "# on the x-axis\n",
    "\n",
    "mask = raw_dataset.unique_carrier.isin([\"HA\", \"DL\", \"AA\", \"AS\"])\n",
    "dcw = pd.pivot_table(raw_dataset.loc[mask], values='delta_delay', index='unique_carrier', columns='week_day', aggfunc='mean')\n",
    "dcw"
   ],
   "metadata": {
    "collapsed": false,
    "pycharm": {
     "name": "#%%\n"
    }
   }
  },
  {
   "cell_type": "code",
   "execution_count": null,
   "outputs": [],
   "source": [],
   "metadata": {
    "collapsed": false,
    "pycharm": {
     "name": "#%%\n"
    }
   }
  }
 ],
 "metadata": {
  "kernelspec": {
   "display_name": "Python 3",
   "language": "python",
   "name": "python3"
  },
  "language_info": {
   "codemirror_mode": {
    "name": "ipython",
    "version": 2
   },
   "file_extension": ".py",
   "mimetype": "text/x-python",
   "name": "python",
   "nbconvert_exporter": "python",
   "pygments_lexer": "ipython2",
   "version": "2.7.6"
  }
 },
 "nbformat": 4,
 "nbformat_minor": 0
}