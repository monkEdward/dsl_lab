{
 "cells": [
  {
   "cell_type": "code",
   "execution_count": 102,
   "metadata": {
    "collapsed": true
   },
   "outputs": [],
   "source": [
    "import os\n",
    "import numpy as np\n",
    "import pandas as pd\n",
    "import seaborn as sns\n",
    "import matplotlib.pyplot as plt\n",
    "from datetime import date\n",
    "from collections import Counter\n",
    "\n",
    "from sklearn.model_selection import KFold\n",
    "from sklearn.model_selection import ParameterGrid\n",
    "from sklearn.model_selection import GridSearchCV\n",
    "from sklearn.model_selection import train_test_split\n",
    "\n",
    "from sklearn.preprocessing import FunctionTransformer, PolynomialFeatures\n",
    "from sklearn.compose import make_column_transformer\n",
    "from sklearn.ensemble import RandomForestRegressor\n",
    "from sklearn.linear_model import LinearRegression\n",
    "from sklearn.neural_network import MLPRegressor\n",
    "from sklearn.pipeline import make_pipeline\n",
    "from sklearn.linear_model import Ridge\n",
    "from sklearn.svm import SVR\n",
    "\n",
    "from sklearn.feature_extraction.text import TfidfVectorizer\n",
    "\n",
    "from sklearn.metrics import accuracy_score,\\\n",
    "                            confusion_matrix, \\\n",
    "                            precision_score, \\\n",
    "                            recall_score, \\\n",
    "                            f1_score, \\\n",
    "                            classification_report\n",
    "\n",
    "from sklearn.metrics import r2_score, \\\n",
    "                            mean_squared_error\n",
    "\n",
    "\n",
    "from prettytable import PrettyTable"
   ]
  },
  {
   "cell_type": "code",
   "execution_count": 103,
   "outputs": [
    {
     "name": "stdout",
     "output_type": "stream",
     "text": [
      "<class 'pandas.core.frame.DataFrame'>\n",
      "RangeIndex: 120744 entries, 0 to 120743\n",
      "Data columns (total 9 columns):\n",
      " #   Column       Non-Null Count   Dtype  \n",
      "---  ------       --------------   -----  \n",
      " 0   country      120739 non-null  object \n",
      " 1   description  120744 non-null  object \n",
      " 2   designation  84226 non-null   object \n",
      " 3   province     120739 non-null  object \n",
      " 4   region_1     100736 non-null  object \n",
      " 5   region_2     48736 non-null   object \n",
      " 6   variety      120744 non-null  object \n",
      " 7   winery       120744 non-null  object \n",
      " 8   quality      120744 non-null  float64\n",
      "dtypes: float64(1), object(8)\n",
      "memory usage: 8.3+ MB\n"
     ]
    }
   ],
   "source": [
    "dataset = pd.read_csv('./dev.tsv', sep='\\t', low_memory=False)\n",
    "dataset.info()"
   ],
   "metadata": {
    "collapsed": false,
    "pycharm": {
     "name": "#%%\n"
    }
   }
  },
  {
   "cell_type": "code",
   "execution_count": 104,
   "outputs": [
    {
     "data": {
      "text/plain": "             quality\ncount  120744.000000\nmean       46.277852\nstd        11.924781\nmin         0.000000\n25%        38.000000\n50%        46.000000\n75%        55.000000\nmax       100.000000",
      "text/html": "<div>\n<style scoped>\n    .dataframe tbody tr th:only-of-type {\n        vertical-align: middle;\n    }\n\n    .dataframe tbody tr th {\n        vertical-align: top;\n    }\n\n    .dataframe thead th {\n        text-align: right;\n    }\n</style>\n<table border=\"1\" class=\"dataframe\">\n  <thead>\n    <tr style=\"text-align: right;\">\n      <th></th>\n      <th>quality</th>\n    </tr>\n  </thead>\n  <tbody>\n    <tr>\n      <th>count</th>\n      <td>120744.000000</td>\n    </tr>\n    <tr>\n      <th>mean</th>\n      <td>46.277852</td>\n    </tr>\n    <tr>\n      <th>std</th>\n      <td>11.924781</td>\n    </tr>\n    <tr>\n      <th>min</th>\n      <td>0.000000</td>\n    </tr>\n    <tr>\n      <th>25%</th>\n      <td>38.000000</td>\n    </tr>\n    <tr>\n      <th>50%</th>\n      <td>46.000000</td>\n    </tr>\n    <tr>\n      <th>75%</th>\n      <td>55.000000</td>\n    </tr>\n    <tr>\n      <th>max</th>\n      <td>100.000000</td>\n    </tr>\n  </tbody>\n</table>\n</div>"
     },
     "execution_count": 104,
     "metadata": {},
     "output_type": "execute_result"
    }
   ],
   "source": [
    "dataset.describe()\n"
   ],
   "metadata": {
    "collapsed": false,
    "pycharm": {
     "name": "#%%\n"
    }
   }
  },
  {
   "cell_type": "code",
   "execution_count": 105,
   "outputs": [
    {
     "data": {
      "text/plain": "    country                                        description  \\\n0    France  A creamed pear wine, with an attractive tang o...   \n1        US  Simple and dry, this Cabernet has modest black...   \n2        US  This lovely wine captures the floral, perfumed...   \n3  Portugal  The aromas are the thing here, as so often wit...   \n4     Italy  This is an interesting, outright strange wine ...   \n\n            designation        province           region_1           region_2  \\\n0  Brut Blanc de Blancs          Alsace   Crémant d'Alsace                NaN   \n1                   NaN      California        Paso Robles      Central Coast   \n2                   NaN          Oregon  Willamette Valley  Willamette Valley   \n3                   NaN      Alentejano                NaN                NaN   \n4                  Natì  Southern Italy          Pompeiano                NaN   \n\n              variety              winery  quality  \n0         Pinot Blanc     Lucien Albrecht     45.0  \n1  Cabernet Sauvignon         Castle Rock     31.0  \n2      Gewürztraminer      Château Bianca     35.0  \n3    Touriga Nacional  Herdade do Esporão     41.0  \n4       Coda di Volpe          Sorrentino     37.0  ",
      "text/html": "<div>\n<style scoped>\n    .dataframe tbody tr th:only-of-type {\n        vertical-align: middle;\n    }\n\n    .dataframe tbody tr th {\n        vertical-align: top;\n    }\n\n    .dataframe thead th {\n        text-align: right;\n    }\n</style>\n<table border=\"1\" class=\"dataframe\">\n  <thead>\n    <tr style=\"text-align: right;\">\n      <th></th>\n      <th>country</th>\n      <th>description</th>\n      <th>designation</th>\n      <th>province</th>\n      <th>region_1</th>\n      <th>region_2</th>\n      <th>variety</th>\n      <th>winery</th>\n      <th>quality</th>\n    </tr>\n  </thead>\n  <tbody>\n    <tr>\n      <th>0</th>\n      <td>France</td>\n      <td>A creamed pear wine, with an attractive tang o...</td>\n      <td>Brut Blanc de Blancs</td>\n      <td>Alsace</td>\n      <td>Crémant d'Alsace</td>\n      <td>NaN</td>\n      <td>Pinot Blanc</td>\n      <td>Lucien Albrecht</td>\n      <td>45.0</td>\n    </tr>\n    <tr>\n      <th>1</th>\n      <td>US</td>\n      <td>Simple and dry, this Cabernet has modest black...</td>\n      <td>NaN</td>\n      <td>California</td>\n      <td>Paso Robles</td>\n      <td>Central Coast</td>\n      <td>Cabernet Sauvignon</td>\n      <td>Castle Rock</td>\n      <td>31.0</td>\n    </tr>\n    <tr>\n      <th>2</th>\n      <td>US</td>\n      <td>This lovely wine captures the floral, perfumed...</td>\n      <td>NaN</td>\n      <td>Oregon</td>\n      <td>Willamette Valley</td>\n      <td>Willamette Valley</td>\n      <td>Gewürztraminer</td>\n      <td>Château Bianca</td>\n      <td>35.0</td>\n    </tr>\n    <tr>\n      <th>3</th>\n      <td>Portugal</td>\n      <td>The aromas are the thing here, as so often wit...</td>\n      <td>NaN</td>\n      <td>Alentejano</td>\n      <td>NaN</td>\n      <td>NaN</td>\n      <td>Touriga Nacional</td>\n      <td>Herdade do Esporão</td>\n      <td>41.0</td>\n    </tr>\n    <tr>\n      <th>4</th>\n      <td>Italy</td>\n      <td>This is an interesting, outright strange wine ...</td>\n      <td>Natì</td>\n      <td>Southern Italy</td>\n      <td>Pompeiano</td>\n      <td>NaN</td>\n      <td>Coda di Volpe</td>\n      <td>Sorrentino</td>\n      <td>37.0</td>\n    </tr>\n  </tbody>\n</table>\n</div>"
     },
     "execution_count": 105,
     "metadata": {},
     "output_type": "execute_result"
    }
   ],
   "source": [
    "dataset.head(5)"
   ],
   "metadata": {
    "collapsed": false,
    "pycharm": {
     "name": "#%%\n"
    }
   }
  },
  {
   "cell_type": "code",
   "execution_count": 106,
   "outputs": [
    {
     "data": {
      "text/plain": "country            5\ndescription        0\ndesignation    36518\nprovince           5\nregion_1       20008\nregion_2       72008\nvariety            0\nwinery             0\nquality            0\ndtype: int64"
     },
     "execution_count": 106,
     "metadata": {},
     "output_type": "execute_result"
    }
   ],
   "source": [
    "dataset.isna().sum()"
   ],
   "metadata": {
    "collapsed": false,
    "pycharm": {
     "name": "#%%\n"
    }
   }
  },
  {
   "cell_type": "code",
   "execution_count": 107,
   "outputs": [
    {
     "data": {
      "text/plain": "120744"
     },
     "execution_count": 107,
     "metadata": {},
     "output_type": "execute_result"
    }
   ],
   "source": [
    "mask = dataset.country.isna()\n",
    "len(mask)"
   ],
   "metadata": {
    "collapsed": false,
    "pycharm": {
     "name": "#%%\n"
    }
   }
  },
  {
   "cell_type": "code",
   "execution_count": 108,
   "outputs": [
    {
     "data": {
      "text/plain": "      country                                        description  \\\n28353     NaN  From first sniff to last, the nose never makes...   \n48154     NaN  From first sniff to last, the nose never makes...   \n76257     NaN  From first sniff to last, the nose never makes...   \n88206     NaN  Delicate white flowers and a spin of lemon pee...   \n92096     NaN  A blend of 60% Syrah, 30% Cabernet Sauvignon a...   \n\n        designation province region_1 region_2     variety     winery  quality  \n28353  Piedra Feliz      NaN      NaN      NaN  Pinot Noir    Chilcas     37.0  \n48154  Piedra Feliz      NaN      NaN      NaN  Pinot Noir    Chilcas     37.0  \n76257  Piedra Feliz      NaN      NaN      NaN  Pinot Noir    Chilcas     37.0  \n88206     Askitikos      NaN      NaN      NaN   Assyrtiko   Tsililis     38.0  \n92096          Shah      NaN      NaN      NaN   Red Blend  Büyülübağ     49.0  ",
      "text/html": "<div>\n<style scoped>\n    .dataframe tbody tr th:only-of-type {\n        vertical-align: middle;\n    }\n\n    .dataframe tbody tr th {\n        vertical-align: top;\n    }\n\n    .dataframe thead th {\n        text-align: right;\n    }\n</style>\n<table border=\"1\" class=\"dataframe\">\n  <thead>\n    <tr style=\"text-align: right;\">\n      <th></th>\n      <th>country</th>\n      <th>description</th>\n      <th>designation</th>\n      <th>province</th>\n      <th>region_1</th>\n      <th>region_2</th>\n      <th>variety</th>\n      <th>winery</th>\n      <th>quality</th>\n    </tr>\n  </thead>\n  <tbody>\n    <tr>\n      <th>28353</th>\n      <td>NaN</td>\n      <td>From first sniff to last, the nose never makes...</td>\n      <td>Piedra Feliz</td>\n      <td>NaN</td>\n      <td>NaN</td>\n      <td>NaN</td>\n      <td>Pinot Noir</td>\n      <td>Chilcas</td>\n      <td>37.0</td>\n    </tr>\n    <tr>\n      <th>48154</th>\n      <td>NaN</td>\n      <td>From first sniff to last, the nose never makes...</td>\n      <td>Piedra Feliz</td>\n      <td>NaN</td>\n      <td>NaN</td>\n      <td>NaN</td>\n      <td>Pinot Noir</td>\n      <td>Chilcas</td>\n      <td>37.0</td>\n    </tr>\n    <tr>\n      <th>76257</th>\n      <td>NaN</td>\n      <td>From first sniff to last, the nose never makes...</td>\n      <td>Piedra Feliz</td>\n      <td>NaN</td>\n      <td>NaN</td>\n      <td>NaN</td>\n      <td>Pinot Noir</td>\n      <td>Chilcas</td>\n      <td>37.0</td>\n    </tr>\n    <tr>\n      <th>88206</th>\n      <td>NaN</td>\n      <td>Delicate white flowers and a spin of lemon pee...</td>\n      <td>Askitikos</td>\n      <td>NaN</td>\n      <td>NaN</td>\n      <td>NaN</td>\n      <td>Assyrtiko</td>\n      <td>Tsililis</td>\n      <td>38.0</td>\n    </tr>\n    <tr>\n      <th>92096</th>\n      <td>NaN</td>\n      <td>A blend of 60% Syrah, 30% Cabernet Sauvignon a...</td>\n      <td>Shah</td>\n      <td>NaN</td>\n      <td>NaN</td>\n      <td>NaN</td>\n      <td>Red Blend</td>\n      <td>Büyülübağ</td>\n      <td>49.0</td>\n    </tr>\n  </tbody>\n</table>\n</div>"
     },
     "execution_count": 108,
     "metadata": {},
     "output_type": "execute_result"
    }
   ],
   "source": [
    "dataset[mask]"
   ],
   "metadata": {
    "collapsed": false,
    "pycharm": {
     "name": "#%%\n"
    }
   }
  },
  {
   "cell_type": "code",
   "execution_count": 109,
   "outputs": [],
   "source": [
    "piedra = dataset[dataset.winery == 'Chilcas']\n",
    "Tsililis = dataset[dataset.winery == 'Tsililis']\n",
    "buyulu = dataset[dataset.winery == 'Büyülübağ']"
   ],
   "metadata": {
    "collapsed": false,
    "pycharm": {
     "name": "#%%\n"
    }
   }
  },
  {
   "cell_type": "code",
   "execution_count": 110,
   "outputs": [
    {
     "name": "stdout",
     "output_type": "stream",
     "text": [
      "1\n",
      "1\n",
      "0\n"
     ]
    }
   ],
   "source": [
    "print(piedra.country.nunique())\n",
    "print(Tsililis.country.nunique())\n",
    "print(buyulu.country.nunique())"
   ],
   "metadata": {
    "collapsed": false,
    "pycharm": {
     "name": "#%%\n"
    }
   }
  },
  {
   "cell_type": "code",
   "execution_count": 111,
   "outputs": [
    {
     "data": {
      "text/plain": "country           48\ndescription    85005\ndesignation    27800\nprovince         444\nregion_1        1206\nregion_2          18\nvariety          603\nwinery         14105\nquality           86\ndtype: int64"
     },
     "execution_count": 111,
     "metadata": {},
     "output_type": "execute_result"
    }
   ],
   "source": [
    "dataset.nunique()"
   ],
   "metadata": {
    "collapsed": false,
    "pycharm": {
     "name": "#%%\n"
    }
   }
  },
  {
   "cell_type": "code",
   "execution_count": 112,
   "outputs": [
    {
     "data": {
      "text/plain": "country            5\ndescription        0\ndesignation    36518\nprovince           5\nregion_1       20008\nregion_2       72008\nvariety            0\nwinery             0\nquality            0\ndtype: int64"
     },
     "execution_count": 112,
     "metadata": {},
     "output_type": "execute_result"
    }
   ],
   "source": [
    "dataset.isna().sum()"
   ],
   "metadata": {
    "collapsed": false,
    "pycharm": {
     "name": "#%%\n"
    }
   }
  },
  {
   "cell_type": "code",
   "execution_count": 113,
   "outputs": [
    {
     "data": {
      "text/plain": "120744"
     },
     "execution_count": 113,
     "metadata": {},
     "output_type": "execute_result"
    }
   ],
   "source": [
    "dataset.__len__()"
   ],
   "metadata": {
    "collapsed": false,
    "pycharm": {
     "name": "#%%\n"
    }
   }
  },
  {
   "cell_type": "code",
   "execution_count": 114,
   "outputs": [],
   "source": [
    "sns.set_theme(style=\"ticks\")\n"
   ],
   "metadata": {
    "collapsed": false,
    "pycharm": {
     "name": "#%%\n"
    }
   }
  },
  {
   "cell_type": "code",
   "execution_count": 115,
   "outputs": [
    {
     "data": {
      "text/plain": "<seaborn.axisgrid.FacetGrid at 0x1b01bb9c9a0>"
     },
     "execution_count": 115,
     "metadata": {},
     "output_type": "execute_result"
    },
    {
     "data": {
      "text/plain": "<Figure size 431.6x360 with 1 Axes>",
      "image/png": "[encoded data removed]"
     },
     "metadata": {},
     "output_type": "display_data"
    }
   ],
   "source": [
    "sns.displot(data= dataset)"
   ],
   "metadata": {
    "collapsed": false,
    "pycharm": {
     "name": "#%%\n"
    }
   }
  },
  {
   "cell_type": "code",
   "execution_count": 116,
   "outputs": [],
   "source": [
    "ds = dataset[['country', 'region_1', 'region_2', 'province']]"
   ],
   "metadata": {
    "collapsed": false,
    "pycharm": {
     "name": "#%%\n"
    }
   }
  },
  {
   "cell_type": "code",
   "execution_count": 117,
   "outputs": [],
   "source": [
    "count_nan = ds.isna().sum(axis=1)\n",
    "# (df[df[\"number_of_reviews\"]==0].index == df[df[\"last_review\"].isna()].index).all()"
   ],
   "metadata": {
    "collapsed": false,
    "pycharm": {
     "name": "#%%\n"
    }
   }
  },
  {
   "cell_type": "code",
   "execution_count": 118,
   "outputs": [
    {
     "name": "stdout",
     "output_type": "stream",
     "text": [
      "Counter({1: 52000, 0: 48736, 2: 20003, 4: 5})\n"
     ]
    }
   ],
   "source": [
    "print(Counter(count_nan))"
   ],
   "metadata": {
    "collapsed": false,
    "pycharm": {
     "name": "#%%\n"
    }
   }
  },
  {
   "cell_type": "code",
   "execution_count": 119,
   "outputs": [
    {
     "data": {
      "text/plain": "Int64Index([28353, 48154, 76257, 88206, 92096], dtype='int64')"
     },
     "execution_count": 119,
     "metadata": {},
     "output_type": "execute_result"
    }
   ],
   "source": [
    "ind = dataset[count_nan == 4].index\n",
    "ind"
   ],
   "metadata": {
    "collapsed": false,
    "pycharm": {
     "name": "#%%\n"
    }
   }
  },
  {
   "cell_type": "code",
   "execution_count": 120,
   "outputs": [],
   "source": [
    "dataset = dataset.drop(dataset.index[ind])"
   ],
   "metadata": {
    "collapsed": false,
    "pycharm": {
     "name": "#%%\n"
    }
   }
  },
  {
   "cell_type": "code",
   "execution_count": 121,
   "outputs": [
    {
     "name": "stdout",
     "output_type": "stream",
     "text": [
      "country            0\n",
      "description        0\n",
      "designation    36518\n",
      "province           0\n",
      "region_1       20003\n",
      "region_2       72003\n",
      "variety            0\n",
      "winery             0\n",
      "quality            0\n",
      "dtype: int64\n",
      "120739\n"
     ]
    }
   ],
   "source": [
    "print(dataset.isna().sum())\n",
    "print(dataset.__len__())\n",
    "\n"
   ],
   "metadata": {
    "collapsed": false,
    "pycharm": {
     "name": "#%%\n"
    }
   }
  },
  {
   "cell_type": "markdown",
   "source": [
    "since region_2 has most of its data null/non present we decide to drop this column"
   ],
   "metadata": {
    "collapsed": false,
    "pycharm": {
     "name": "#%% md\n"
    }
   }
  },
  {
   "cell_type": "code",
   "execution_count": 122,
   "outputs": [
    {
     "data": {
      "text/plain": "country            0\ndescription        0\ndesignation    36518\nprovince           0\nregion_1       20003\nvariety            0\nwinery             0\nquality            0\ndtype: int64"
     },
     "execution_count": 122,
     "metadata": {},
     "output_type": "execute_result"
    }
   ],
   "source": [
    "dataset = dataset.drop(columns=['region_2'])\n",
    "dataset.isna().sum()"
   ],
   "metadata": {
    "collapsed": false,
    "pycharm": {
     "name": "#%%\n"
    }
   }
  },
  {
   "cell_type": "markdown",
   "source": [
    "removing designation and region_1 as well, keeping them for possible use later\n",
    "\n",
    "\n"
   ],
   "metadata": {
    "collapsed": false,
    "pycharm": {
     "name": "#%% md\n"
    }
   }
  },
  {
   "cell_type": "code",
   "execution_count": 124,
   "outputs": [],
   "source": [
    "later_use = dataset[['designation', 'region_1']]\n",
    "dataset.drop(columns=['designation', 'region_1'] ,inplace=True)"
   ],
   "metadata": {
    "collapsed": false,
    "pycharm": {
     "name": "#%%\n"
    }
   }
  },
  {
   "cell_type": "code",
   "execution_count": 125,
   "outputs": [
    {
     "name": "stdout",
     "output_type": "stream",
     "text": [
      "<class 'pandas.core.frame.DataFrame'>\n",
      "Int64Index: 120739 entries, 0 to 120743\n",
      "Data columns (total 6 columns):\n",
      " #   Column       Non-Null Count   Dtype  \n",
      "---  ------       --------------   -----  \n",
      " 0   country      120739 non-null  object \n",
      " 1   description  120739 non-null  object \n",
      " 2   province     120739 non-null  object \n",
      " 3   variety      120739 non-null  object \n",
      " 4   winery       120739 non-null  object \n",
      " 5   quality      120739 non-null  float64\n",
      "dtypes: float64(1), object(5)\n",
      "memory usage: 6.4+ MB\n",
      "None\n",
      "country        0\n",
      "description    0\n",
      "province       0\n",
      "variety        0\n",
      "winery         0\n",
      "quality        0\n",
      "dtype: int64\n"
     ]
    }
   ],
   "source": [
    "print(dataset.info())\n",
    "print(dataset.isna().sum())\n",
    "\n"
   ],
   "metadata": {
    "collapsed": false,
    "pycharm": {
     "name": "#%%\n"
    }
   }
  },
  {
   "cell_type": "markdown",
   "source": [
    "# Preprocessing Categorical Data\n"
   ],
   "metadata": {
    "collapsed": false,
    "pycharm": {
     "name": "#%% md\n"
    }
   }
  },
  {
   "cell_type": "code",
   "execution_count": 136,
   "outputs": [
    {
     "data": {
      "text/plain": "[{'France': 16835,\n  'US': 49908,\n  'Portugal': 4228,\n  'Italy': 18848,\n  'New Zealand': 2646,\n  'Argentina': 4519,\n  'Chile': 4647,\n  'Austria': 2447,\n  'South Africa': 1796,\n  'Australia': 3949,\n  'Germany': 1963,\n  'Spain': 6657,\n  'Greece': 711,\n  'Canada': 153,\n  'Croatia': 72,\n  'Moldova': 51,\n  'Israel': 499,\n  'Turkey': 39,\n  'Egypt': 3,\n  'Slovakia': 3,\n  'Hungary': 187,\n  'Serbia': 10,\n  'Mexico': 47,\n  'Romania': 115,\n  'Bulgaria': 63,\n  'Georgia': 36,\n  'Slovenia': 71,\n  'Morocco': 10,\n  'Lithuania': 5,\n  'Lebanon': 31,\n  'Macedonia': 14,\n  'Brazil': 21,\n  'Cyprus': 25,\n  'Czech Republic': 6,\n  'Luxembourg': 7,\n  'Uruguay': 81,\n  'Ukraine': 4,\n  'Japan': 2,\n  'India': 5,\n  'US-France': 1,\n  'England': 7,\n  'China': 3,\n  'South Korea': 4,\n  'Tunisia': 1,\n  'Bosnia and Herzegovina': 3,\n  'Switzerland': 3,\n  'Montenegro': 2,\n  'Albania': 1},\n {'Alsace': 1357,\n  'California': 35572,\n  'Oregon': 3661,\n  'Alentejano': 694,\n  'Southern Italy': 1183,\n  'Marlborough': 1304,\n  'Tuscany': 5843,\n  'Mendoza Province': 3795,\n  'Washington': 7818,\n  'Rapel Valley': 198,\n  'Carnuntum': 51,\n  'Bordeaux': 4866,\n  'Champagne': 1089,\n  'Languedoc-Roussillon': 857,\n  'Curicó Valley': 259,\n  'Limarí Valley': 165,\n  'Stellenbosch': 570,\n  'Steiermark': 7,\n  'Northeastern Italy': 1580,\n  'Aconcagua Valley': 152,\n  'Piedmont': 3279,\n  'Provence': 810,\n  'Sicily & Sardinia': 2025,\n  'Colchagua Valley': 975,\n  'Veneto': 3186,\n  'Burgenland': 617,\n  'Lisboa': 255,\n  'Central Italy': 1222,\n  'Burgundy': 3447,\n  'South Australia': 2401,\n  'Mosel-Saar-Ruwer': 426,\n  'Catalonia': 1070,\n  'Rhône Valley': 1082,\n  'Vinho Verde': 327,\n  'Northern Spain': 3930,\n  'Casablanca Valley': 621,\n  'Wagram-Donauland': 63,\n  'Tejo': 335,\n  'Maipo Valley': 721,\n  'Idaho': 117,\n  'Victoria': 489,\n  'Central Valley': 413,\n  'France Other': 233,\n  'Martinborough': 204,\n  'Atalanti Valley': 16,\n  'Galicia': 447,\n  'Maule Valley': 427,\n  'New York': 1945,\n  'Western Australia': 377,\n  'Casablanca & Leyda Valleys': 2,\n  'British Columbia': 73,\n  'Rheingau': 301,\n  'Southwest France': 1267,\n  'Other': 724,\n  'Constantia': 28,\n  'Mosel': 633,\n  'Douro': 855,\n  'Wachau': 308,\n  'Península de Setúbal': 82,\n  'Nemea': 78,\n  'Central Spain': 611,\n  'Kutjevo': 6,\n  'Nahe': 56,\n  'Australia Other': 440,\n  'Loire Valley': 1403,\n  'Port': 730,\n  'Moldova': 39,\n  'San Antonio': 46,\n  'Greece': 63,\n  'Pfalz': 198,\n  'Virginia': 414,\n  'Spanish Islands': 25,\n  'Elgin': 42,\n  'Western Cape': 397,\n  'Beaujolais': 424,\n  'Northwestern Italy': 7,\n  'America': 23,\n  'Central Otago': 290,\n  'Kremstal': 246,\n  'Vin de Pays de Velvendo': 3,\n  'Tasmania': 38,\n  'Ontario': 77,\n  'Dão': 218,\n  'Ribatejo': 53,\n  'Istria': 23,\n  'Levante': 369,\n  'Rheinhessen': 231,\n  'Corinth': 15,\n  'Judean Hills': 99,\n  'Kamptal': 263,\n  \"Hawke's Bay\": 348,\n  'Elqui Valley': 41,\n  'Robertson': 108,\n  'Turkey': 14,\n  'Waipara Valley': 22,\n  'Lombardy': 476,\n  'Coastal Region': 230,\n  'Egypt': 3,\n  'Waipara': 81,\n  'Pennsylvania': 46,\n  'Muzla': 3,\n  'Gisborne': 52,\n  'Cachapoal Valley': 173,\n  'Südoststeiermark': 48,\n  'Niederösterreich': 386,\n  'Bío Bío Valley': 50,\n  'Mantinia': 31,\n  'Paarl': 109,\n  'Estremadura': 77,\n  'Leyda Valley': 132,\n  'Bairrada': 138,\n  'Ohio': 28,\n  'Breedekloof': 9,\n  'Peloponnese': 85,\n  'Weinviertel': 41,\n  'Thermenregion': 97,\n  'Neusiedlersee': 30,\n  'South Africa': 11,\n  'Patras': 13,\n  'Lontué Valley': 44,\n  'Galilee': 272,\n  'New South Wales': 202,\n  'Andalucia': 168,\n  'Mount Athos': 8,\n  'Nelson': 129,\n  'Kumeu': 47,\n  'Molina': 12,\n  'New Mexico': 72,\n  'Swartland': 54,\n  'South Island': 10,\n  'Weinland Österreich': 9,\n  'Villány': 49,\n  'Wairarapa': 21,\n  'Terras do Sado': 19,\n  'Bucelas': 25,\n  'Upper Galilee': 30,\n  'Wagram': 15,\n  'Württemberg': 12,\n  'Italy Other': 47,\n  'Tokaji': 58,\n  'Ribatejano': 21,\n  'Fruška Gora': 1,\n  'Colorado': 23,\n  'Alentejo': 111,\n  'Setubal': 34,\n  'Santorini': 66,\n  'Overberg': 5,\n  'Franken': 39,\n  'Valle de Guadalupe': 42,\n  'Baden': 54,\n  'Peumo': 43,\n  'Washington-Oregon': 2,\n  'Attica': 11,\n  'Macedonia': 16,\n  'Dealu Mare': 44,\n  'Waiheke Island': 9,\n  'Thracian Valley': 35,\n  'Georgia': 9,\n  'Negev Hills': 13,\n  'Arizona': 36,\n  'Terras do Dão': 2,\n  'Spain Other': 37,\n  'Madeira': 20,\n  'Obidos': 6,\n  'Eger': 10,\n  'Vermont': 2,\n  'Mittelburgenland': 38,\n  'Durbanville': 25,\n  'Štajerska': 17,\n  'Texas': 30,\n  'Zenata': 6,\n  'Chile': 17,\n  'New Zealand': 20,\n  'Crete': 29,\n  'Franschhoek': 32,\n  'Transmontanas': 2,\n  'Rapel Valley-Casablanca Valley': 5,\n  'Shomron': 22,\n  'Marlborough & Hawkes Bay': 2,\n  'Ismarikos': 3,\n  'Lithuania': 5,\n  'Galil': 20,\n  'Minho': 20,\n  'Austria': 15,\n  'Cahul': 9,\n  'Südsteiermark': 54,\n  'New Jersey': 22,\n  'North Carolina': 14,\n  'Bekaa Valley': 29,\n  'Puente Alto': 17,\n  'Tikves': 14,\n  'Ohiti Valley': 3,\n  'Buin': 4,\n  'Wairau Valley': 10,\n  'Itata Valley': 4,\n  'Ankara': 3,\n  'Korčula': 5,\n  'Missouri': 45,\n  'Halkidiki': 14,\n  'Brazil': 5,\n  'Portuguese Table Wine': 12,\n  'Cephalonia': 10,\n  'Florina': 6,\n  'Letrinon': 2,\n  'Canterbury': 28,\n  'Michigan': 22,\n  'North Dalmatia': 12,\n  'Kathikas': 10,\n  'Santa Catarina': 2,\n  'Moravia': 6,\n  'Commandaria': 8,\n  'Vienna': 47,\n  'Donauland': 16,\n  'Naoussa': 30,\n  'Dealurile Munteniei': 7,\n  'Vinho Licoroso': 2,\n  'Simonsberg-Stellenbosch': 50,\n  'Tulbagh': 4,\n  'Neszmély': 15,\n  'Tokaj': 20,\n  'Murfatlar': 8,\n  'Beiras': 37,\n  'Brda': 13,\n  'Vinho Espumante de Qualidade': 31,\n  'Israel': 11,\n  'Drama': 46,\n  'Neusiedlersee-Hügelland': 37,\n  'Rio Claro': 7,\n  'Retsina': 4,\n  'Župa': 8,\n  'Moselle Luxembourgeoise': 7,\n  'Traisental': 17,\n  'Uruguay': 16,\n  'Peljesac': 12,\n  'Ukraine': 4,\n  'Bulgaria': 16,\n  'Trás-os-Montes': 6,\n  'Aegean': 12,\n  'Portugal': 8,\n  'Samos': 10,\n  'Canelones': 18,\n  'Beotia': 7,\n  'Loncomilla Valley': 30,\n  'Wiener Gemischter Satz': 5,\n  'Palmela': 20,\n  'East Coast': 17,\n  'Primorska': 3,\n  'Kakheti': 25,\n  'Epanomi': 19,\n  'Awatere Valley': 23,\n  'Rapsani': 6,\n  'Lemnos': 1,\n  'Viile Timisului': 11,\n  'Podunavlje': 5,\n  'Sopron': 9,\n  'Lolol Valley': 20,\n  'Wellington': 27,\n  'Duriense': 19,\n  'Kyoto': 2,\n  'Nashik': 5,\n  'Philadelphia': 3,\n  'Juanico': 16,\n  'Montevideo': 2,\n  'Santa Barbara County-Condrieu': 1,\n  'Pirque': 17,\n  'Hemel en Aarde': 8,\n  'Thessalikos': 7,\n  'Ilias': 6,\n  'England': 7,\n  'Hungary': 18,\n  'Germany': 6,\n  'Szekszárd': 2,\n  'Cederberg': 13,\n  'Simonsberg-Paarl': 6,\n  'Codru Region': 1,\n  'Jonkershoek Valley': 8,\n  'China': 3,\n  'Curicó and Leyda Valleys': 3,\n  'Styria': 13,\n  'Colinele Dobrogei': 3,\n  'Moutere': 11,\n  'Hvar': 2,\n  'Vipavska Dolina': 14,\n  'Vânju Mare': 12,\n  'Jiri Valley': 4,\n  'San Antonio de las Minas Valley': 1,\n  'Vin de Pays de Macédoine': 4,\n  'Walker Bay': 24,\n  'Algarve': 11,\n  'Terras da Beira': 2,\n  'Napareuli': 2,\n  'Progreso': 4,\n  'Pangeon': 16,\n  'Aconcagua Costa': 5,\n  'North Island': 3,\n  'Alenquer': 5,\n  'Recas': 6,\n  'Chalkidiki': 2,\n  'Haut-Judeé': 6,\n  'Beira Interior': 22,\n  'Omaka Valley': 6,\n  'Ahr': 5,\n  'Pitsilia Mountains': 3,\n  'Darling': 3,\n  'Danube Hills Valley': 2,\n  'Goriska Brda': 19,\n  'Thraki': 2,\n  'Requinoa': 9,\n  'Österreichischer Sekt': 13,\n  'Moscatel do Douro': 3,\n  \"Vin de Pays d'Imathia\": 2,\n  'Mavrodaphne of Patras': 10,\n  'Croatia': 2,\n  'Goumenissa': 4,\n  'Gerania': 5,\n  'Romania': 12,\n  'Sebes': 2,\n  'Casablanca-Curicó Valley': 1,\n  'Guerrouane': 2,\n  'Pisatis': 3,\n  'Evia': 2,\n  'Krania Olympus': 1,\n  'Pageon': 2,\n  'Massachusetts': 9,\n  'Ioannina': 1,\n  'Vale dos Vinhedos': 10,\n  'Korinthia': 7,\n  'Opuntia Locris': 1,\n  'Valle de Guadalupe and Santo Tomás': 3,\n  'Leithaberg': 5,\n  'Transylvanian Plateau': 2,\n  'South Styria': 3,\n  'Tradouw': 1,\n  'Elazığ': 1,\n  'Negev': 3,\n  'Peza': 3,\n  'Apalta': 11,\n  'Amindeo': 4,\n  'Klein River': 4,\n  'Northern Cape': 2,\n  'San Jose': 14,\n  'Samson': 9,\n  'Santa Cruz': 4,\n  'Black Sea Coastal': 2,\n  'Choapa Valley': 2,\n  'Sliven': 3,\n  'Tunisia': 1,\n  'Polkadraai Hills': 4,\n  'Eilandia': 1,\n  'Slovenska Istra': 1,\n  'Pocerina': 1,\n  'Thrace': 9,\n  'Colares': 1,\n  'Eisenberg': 2,\n  'Transmontano': 3,\n  'Torres Vedras': 3,\n  'Cauquenes Valley': 2,\n  'Iowa': 3,\n  'Curicó and Maipo Valleys': 2,\n  'Távora-Varosa': 4,\n  'Canada Other': 3,\n  'Mostar': 3,\n  'Lesbos': 2,\n  'Moscatel de Setúbal': 6,\n  'Valais': 1,\n  'Elim': 1,\n  'Targovishte': 2,\n  'Queensland': 2,\n  'Arcadia': 5,\n  'Terasele Dunarii': 1,\n  'Jerusalem Hills': 3,\n  'Dan': 5,\n  'Eastern Bays': 2,\n  'Lakonia': 1,\n  'Groenekloof': 9,\n  'Danube River Plains': 3,\n  'Nevada': 1,\n  'Golan Heights': 5,\n  'Muscat of Patras': 5,\n  'Lebanon': 2,\n  'Pannon': 1,\n  'Aigialias Slopes': 2,\n  'Sterea Ellada': 1,\n  'Vinho da Mesa': 3,\n  'Marchigue': 8,\n  'Mátra': 4,\n  'Serra Gaúcha': 3,\n  'Monemvasia': 2,\n  'Table wine': 2,\n  'Neuchâtel': 1,\n  'Zitsa': 1,\n  'Morocco': 1,\n  'Alenteo': 2,\n  'Tarnave': 2,\n  'Limnos': 1,\n  'El Colorado': 3,\n  'Malleco': 3,\n  'Dealurile Hușilor': 2,\n  'Central Otago-Marlborough': 1,\n  'Lake Skadar Valley': 2,\n  'Connecticut': 1,\n  'Felso-Magyarország': 1,\n  'Martinborough Terrace': 1,\n  'Langenlois': 1,\n  'Slovenia': 3,\n  'Pafos': 1,\n  'Rhein-Mosel': 2,\n  'Messinia': 2,\n  'Kras': 1,\n  'San Vicente': 1,\n  'Maipo Valley-Colchagua Valley': 1,\n  'Dalmatian Coast': 1,\n  'Achaia': 2,\n  'Imathia': 2,\n  'Beira Atlantico': 2,\n  'Colonia': 5,\n  'Dingač': 1,\n  'Lutzville Valley': 2,\n  'Bot River': 2,\n  'Cape Agulhas': 2,\n  'Mirditë': 1,\n  'Waitaki Valley': 1,\n  'Amyndeon': 7,\n  'Serra do Sudeste': 1,\n  'Egilias Slopes': 2,\n  'Stirling': 1,\n  'Breede River Valley': 1,\n  'Plaiurile Drancei': 1,\n  'Ticino': 1,\n  'Kentucky': 2,\n  'Viile Timis': 1,\n  'Lemesos': 1,\n  'Hrvatsko Primorje': 2,\n  'Chisinau County': 2,\n  'Colchagua Costa': 1,\n  'Cyprus': 2,\n  'Ella Valley': 1,\n  'Atlantida': 3,\n  \"Beni M'Tir\": 1,\n  'Malgas': 1,\n  'Viile Carasului': 1,\n  'Middle and South Dalmatia': 1,\n  'Central Greece': 1,\n  'Cyclades': 1},\n {'Pinot Blanc': 384,\n  'Cabernet Sauvignon': 10270,\n  'Gewürztraminer': 786,\n  'Touriga Nacional': 141,\n  'Coda di Volpe': 15,\n  'Sauvignon Blanc': 4986,\n  'Shiraz': 1571,\n  'Rosé': 2244,\n  'Chardonnay': 11534,\n  'Johannisberg Riesling': 11,\n  'Aglianico': 270,\n  'Torrontés': 289,\n  'Syrah': 4655,\n  'Sangiovese': 2688,\n  'Roussanne': 147,\n  'Bordeaux-style Red Blend': 5821,\n  'Red Blend': 8059,\n  'Pinot Noir': 11421,\n  'White Blend': 2255,\n  'Pinot Gris': 1098,\n  'Bordeaux-style White Blend': 1008,\n  'Champagne Blend': 991,\n  'Rhône-style Red Blend': 1233,\n  'Ribolla Gialla': 52,\n  'Barbera': 1081,\n  'Nebbiolo': 1794,\n  'Malbec-Merlot': 94,\n  'Insolia': 45,\n  'Merlot': 4070,\n  'Chenin Blanc': 608,\n  'Tempranillo': 2054,\n  'Sparkling Blend': 1594,\n  'Prosecco': 479,\n  'Moscato': 348,\n  'Riesling': 4424,\n  'Blaufränkisch': 179,\n  'Alvarinho': 62,\n  'Malbec': 2584,\n  'Rhône-style White Blend': 331,\n  'Grenache Blanc': 61,\n  'Zinfandel': 3045,\n  'Portuguese White': 759,\n  'Mencía': 125,\n  'Portuguese Red': 1744,\n  'Carmenère': 603,\n  'Pinot Grigio': 1065,\n  'País': 2,\n  'Glera': 511,\n  'Falanghina': 75,\n  'Port': 851,\n  'Nerello Mascalese': 59,\n  'Semillon-Sauvignon Blanc': 75,\n  'Garnacha': 315,\n  'Catarratto': 22,\n  'Viognier': 1011,\n  'Cabernet Franc': 1119,\n  'Grauburgunder': 12,\n  'Carmenère-Cabernet Sauvignon': 14,\n  'Garnacha-Monastrell': 4,\n  'Austrian Red Blend': 53,\n  'Corvina, Rondinella, Molinara': 1335,\n  'Albariño': 442,\n  'Grillo': 120,\n  'Pelaverga Piccolo': 2,\n  'Cabernet Blend': 249,\n  'Vermentino': 186,\n  'Tinta Barroca': 2,\n  'Grüner Veltliner': 819,\n  'Sangiovese Grosso': 1060,\n  'Agiorgitiko': 95,\n  'Garganega': 327,\n  'Greco': 72,\n  'Dolcetto': 301,\n  \"Nero d'Avola\": 358,\n  'Viura': 89,\n  'Lambrusco': 52,\n  'Muscat Blanc': 12,\n  'Petite Verdot': 56,\n  'Godello': 84,\n  'Cortese': 68,\n  'Petite Sirah': 717,\n  'Chenin Blanc-Chardonnay': 29,\n  'Gamay': 427,\n  'Petit Verdot': 166,\n  'Nielluciu': 2,\n  'Sauvignon': 216,\n  'Tempranillo Blend': 614,\n  'St. Laurent': 77,\n  'Pinotage': 156,\n  'Xinomavro': 47,\n  'Colombard': 19,\n  'Vidal': 3,\n  'Sagrantino': 89,\n  'Grenache': 492,\n  'Graciano': 25,\n  'Malvasia': 29,\n  'Kerner': 10,\n  'Pinot Bianco': 102,\n  'Tinta de Toro': 171,\n  'Monastrell': 128,\n  'Marsanne': 100,\n  'Lagrein': 30,\n  'Malbec-Cabernet Sauvignon': 44,\n  'Assyrtico': 51,\n  'Shiraz-Viognier': 69,\n  'Tinto Fino': 67,\n  'Cabernet Sauvignon-Merlot': 193,\n  'Teroldego': 25,\n  'Mourvèdre': 140,\n  'Verdejo': 252,\n  'Bonarda': 125,\n  'Sémillon': 161,\n  'Muscat': 130,\n  'Syrah-Cabernet': 44,\n  'Raboso': 18,\n  'Chardonnay-Viognier': 57,\n  'Alfrocheiro': 16,\n  'Bovale': 6,\n  'G-S-M': 122,\n  'Vidal Blanc': 40,\n  'Verdicchio': 46,\n  'Sylvaner': 35,\n  'Fernão Pires': 23,\n  'Castelão': 30,\n  'Black Muscat': 12,\n  'Arinto': 56,\n  'Zweigelt': 178,\n  'Cabernet Merlot': 44,\n  'Tannat': 111,\n  'Meritage': 258,\n  'Moschofilero': 37,\n  'Primitivo': 223,\n  'Shiraz-Cabernet Sauvignon': 80,\n  'Cabernet Sauvignon-Syrah': 124,\n  'Roter Traminer': 6,\n  'Cabernet Sauvignon-Tempranillo': 3,\n  'Cannonau': 37,\n  'Negroamaro': 66,\n  'Scheurebe': 25,\n  'Shiraz-Grenache': 24,\n  'Symphony': 4,\n  'Spätburgunder': 43,\n  'Chardonnay-Pinot Blanc': 9,\n  'Roditis': 24,\n  'Fiano': 120,\n  'Syrah-Tempranillo': 6,\n  'Mondeuse': 5,\n  'Palomino': 22,\n  'Friulano': 98,\n  'Sauvignon Blanc-Semillon': 49,\n  'Alsace white blend': 37,\n  'Debit': 6,\n  'Moscadello': 15,\n  'Syrah-Grenache': 34,\n  'Piedirosso': 22,\n  'Sherry': 86,\n  'Negrette': 11,\n  'Picolit': 23,\n  'Nero di Troia': 20,\n  'Sämling': 2,\n  'Pinot Auxerrois': 7,\n  'Feteasca': 3,\n  'Tempranillo-Merlot': 17,\n  'Montepulciano': 263,\n  'Tempranillo-Garnacha': 48,\n  'Cabernet Sauvignon-Carmenère': 49,\n  'Gamay Noir': 12,\n  'Provence red blend': 21,\n  'Rosado': 18,\n  'Claret': 27,\n  'Pecorino': 25,\n  'Roter Veltliner': 13,\n  'Semillon-Chardonnay': 15,\n  'Colombard-Sauvignon Blanc': 16,\n  'Tempranillo-Cabernet Sauvignon': 71,\n  'Counoise': 13,\n  'Furmint': 25,\n  'Portuguiser': 1,\n  'Vermentino Nero': 2,\n  'Malvasia Bianca': 24,\n  'Petite Syrah': 2,\n  'Verdelho': 54,\n  'Moscatel': 35,\n  'Sauvignon Blanc-Chardonnay': 9,\n  'Lemberger': 26,\n  'Muskateller': 3,\n  'Bical': 10,\n  'Tocai Friulano': 31,\n  'Chardonnay-Albariño': 4,\n  'Antão Vaz': 10,\n  'Silvaner': 44,\n  'Gelber Muskateller': 23,\n  'Rivaner': 2,\n  'Inzolia': 21,\n  'Bobal': 11,\n  'Savatiano': 7,\n  'Tokay': 14,\n  'Feteasca Neagra': 9,\n  'Cabernet Sauvignon-Shiraz': 63,\n  'Baga': 17,\n  'Saperavi': 14,\n  'Pedro Ximénez': 44,\n  'Arneis': 56,\n  'Tokaji': 58,\n  'Syrah-Malbec': 1,\n  'Albana': 13,\n  'Grenache-Shiraz': 12,\n  'Carignan': 55,\n  'Viognier-Roussanne': 16,\n  'Sercial': 2,\n  'Aligoté': 23,\n  'Tinto del Pais': 63,\n  'Weissburgunder': 41,\n  'White Riesling': 27,\n  'Carignan-Grenache': 6,\n  'Loureiro': 39,\n  'Prié Blanc': 2,\n  'Rotgipfler': 11,\n  'Muscadel': 8,\n  'Charbono': 30,\n  'Trebbiano': 53,\n  'Petit Manseng': 38,\n  'Zibibbo': 28,\n  'Kekfrankos': 14,\n  'Sauvignon Blanc-Verdejo': 4,\n  'Trebbiano di Lugana': 11,\n  'Malbec Blend': 2,\n  'Monastrell-Syrah': 11,\n  'Cinsault': 20,\n  'Pinot Meunier': 16,\n  'Gros and Petit Manseng': 18,\n  'Tannat-Cabernet': 30,\n  'Pinot Nero': 108,\n  'Chardonnay Weissburgunder': 3,\n  'Trepat': 7,\n  'Turbiana': 64,\n  'Argaman': 3,\n  'Viognier-Grenache Blanc': 2,\n  'Malvasia Fina': 8,\n  'Muscat Blanc à Petit Grain': 9,\n  'Grechetto': 6,\n  'Crespiello': 2,\n  'Rkatsiteli': 21,\n  'Albarín': 1,\n  'Fumé Blanc': 82,\n  'Austrian white blend': 39,\n  'Susumaniello': 6,\n  'Roscetto': 1,\n  'Vinhão': 3,\n  'Grenache-Syrah': 53,\n  'Vranec': 10,\n  'Vespaiolo': 2,\n  'Carignano': 56,\n  'Merlot-Cabernet Sauvignon': 73,\n  'Verduzzo': 8,\n  'Cabernet Sauvignon-Malbec': 43,\n  'Teroldego Rotaliano': 2,\n  'Malvasia Nera': 3,\n  \"Muscat d'Alexandrie\": 3,\n  'Garnacha Blanca': 17,\n  'Kalecik Karasi': 5,\n  'Posip': 7,\n  'Gros Manseng': 18,\n  'Ugni Blanc-Colombard': 10,\n  'Xarel-lo': 20,\n  'Malagouzia': 4,\n  'Melon': 71,\n  'Assyrtiko': 6,\n  'Carignane': 20,\n  'Cabernet': 18,\n  'Moscato Giallo': 12,\n  'Ansonica': 3,\n  'Verduzzo Friulano ': 7,\n  'Edelzwicker': 3,\n  'Hondarrabi Zuri': 15,\n  'Tempranillo-Shiraz': 23,\n  'Malbec-Tannat': 7,\n  'Rosato': 28,\n  'Prugnolo Gentile': 81,\n  'Traminer': 29,\n  'Garnacha-Syrah': 17,\n  'Airen': 6,\n  'Muscat Canelli': 46,\n  'Carricante': 15,\n  'Syrah-Cabernet Sauvignon': 12,\n  'Muskat Ottonel': 14,\n  'Garnacha-Cabernet': 2,\n  'Roussanne-Marsanne': 2,\n  'Groppello': 1,\n  'Müller-Thurgau': 22,\n  'Chambourcin': 11,\n  'Mauzac': 7,\n  'Portuguese Sparkling': 43,\n  'Zierfandler-Rotgipfler': 2,\n  'Grenache Blend': 6,\n  'Tamjanika': 3,\n  'Alvarinho-Chardonnay': 3,\n  'Žilavka': 2,\n  'Vernaccia': 57,\n  'Vignoles': 19,\n  'Grignolino': 2,\n  'Plavac Mali': 14,\n  'Merlot-Cabernet': 11,\n  'Aragonez': 7,\n  'Shiraz-Mourvèdre': 3,\n  'Mavrodaphne': 12,\n  'Perricone': 12,\n  'Chasselas': 7,\n  'Grenache-Carignan': 6,\n  'Shiraz-Tempranillo': 6,\n  'Mantonico': 5,\n  'Uva di Troia': 12,\n  'Touriga Nacional-Cabernet Sauvignon': 22,\n  'Verdejo-Viura': 22,\n  'Tinta Roriz': 14,\n  'Blauer Portugieser': 5,\n  'Nosiola': 2,\n  'Alicante Bouschet': 33,\n  'Merlot-Malbec': 13,\n  'Cabernet Sauvignon-Cabernet Franc': 39,\n  'Malbec-Tempranillo': 6,\n  'Orange Muscat': 26,\n  'Traminette': 7,\n  'Marsanne-Roussanne': 30,\n  'Cabernet-Syrah': 12,\n  'Erbaluce': 1,\n  'Lacrima': 5,\n  'Cabernet Franc-Carmenère': 5,\n  'Welschriesling': 23,\n  'Passerina': 17,\n  'Mansois': 5,\n  'Feteascǎ Regalǎ': 3,\n  'Bastardo': 5,\n  'Doña Blanca': 2,\n  'Madeira Blend': 14,\n  'Shiraz-Pinotage': 4,\n  'Mataro': 9,\n  'Koshu': 2,\n  'Pansa Blanca': 6,\n  'Malbec-Petit Verdot': 1,\n  'Gewürztraminer-Riesling': 9,\n  'Auxerrois': 16,\n  'Refosco': 8,\n  'Touriga Nacional Blend': 12,\n  'Syrah-Petite Sirah': 7,\n  'Malvasia Istriana': 12,\n  'Chardonnay-Pinot Gris': 1,\n  'Norton': 20,\n  'Tannat-Cabernet Franc': 9,\n  'Okuzgozu': 3,\n  'Roviello': 2,\n  'Viura-Chardonnay': 8,\n  'Viognier-Chardonnay': 9,\n  'Sauvignon Gris': 11,\n  'Bukettraube': 1,\n  'Macabeo': 13,\n  'Savagnin': 5,\n  'Chardonnay-Sauvignon': 9,\n  'Ruché': 10,\n  'Colombard-Ugni Blanc': 2,\n  'Prieto Picudo': 16,\n  'Malvar': 3,\n  'Tannat-Merlot': 4,\n  'Merlot-Cabernet Franc': 18,\n  'Tokay Pinot Gris': 3,\n  'Sangiovese-Syrah': 4,\n  'Madeleine Angevine': 1,\n  'Mission': 4,\n  'Aleatico': 6,\n  'Rieslaner': 2,\n  'Sacy': 1,\n  'Frappato': 26,\n  'Chenin Blanc-Viognier': 6,\n  'Meoru': 4,\n  'Aragonês': 12,\n  'Gaglioppo': 12,\n  'Clairette': 3,\n  'Syrah-Mourvèdre': 5,\n  'Terret Blanc': 1,\n  'Códega do Larinho': 3,\n  'Portuguese Rosé': 7,\n  'Greco Bianco': 4,\n  'Schiava': 7,\n  'Durello': 1,\n  'Avesso': 2,\n  'Macabeo-Chardonnay': 4,\n  'Casavecchia': 5,\n  'Moscato di Noto': 1,\n  'Tinta Fina': 10,\n  \"Pineau d'Aunis\": 3,\n  'Rebula': 1,\n  'Mavroudi': 2,\n  'Elbling': 4,\n  'Favorita': 2,\n  'Pinot Blanc-Chardonnay': 2,\n  'Viura-Sauvignon Blanc': 1,\n  'Roussanne-Viognier': 11,\n  'Sideritis': 1,\n  'Cabernet Sauvignon and Tinta Roriz': 3,\n  'Monica': 9,\n  'Syrah-Grenache-Viognier': 4,\n  'Petroulianos': 5,\n  'Malbec-Syrah': 15,\n  'Albarossa': 1,\n  'Nasco': 4,\n  'Marzemino': 3,\n  'Valdiguié': 1,\n  'Viognier-Marsanne': 7,\n  'Picpoul': 7,\n  'Muscatel': 2,\n  'Verdeca': 5,\n  'Pinela': 1,\n  'Brachetto': 21,\n  'Corvina': 15,\n  'Pinot Blanc-Pinot Noir': 2,\n  'Robola': 3,\n  'Gouveio': 1,\n  'Zierfandler': 9,\n  'Rolle': 4,\n  'Incrocio Manzoni': 2,\n  'Pinot Noir-Gamay': 4,\n  'Magliocco': 2,\n  'Viura-Verdejo': 1,\n  'Syrah-Viognier': 11,\n  'Sirica': 1,\n  'Provence white blend': 5,\n  'Athiri': 2,\n  'Malagousia': 4,\n  'Trincadeira': 11,\n  'Marsanne-Viognier': 2,\n  'Duras': 4,\n  'Encruzado': 12,\n  'Merlot-Syrah': 4,\n  'Tempranillo Blanco': 8,\n  'Cabernet-Shiraz': 1,\n  'Huxelrebe': 1,\n  'Pallagrello': 13,\n  'Ciliegiolo': 5,\n  'Neuburger': 4,\n  'Dornfelder': 8,\n  'Shiraz-Malbec': 5,\n  'Garnacha Blend': 2,\n  'Mavrud': 4,\n  'Espadeiro': 1,\n  'Colorino': 3,\n  'Cabernet Franc-Merlot': 9,\n  'Chenin Blanc-Sauvignon Blanc': 5,\n  'Dafni': 1,\n  'Saperavi-Merlot': 2,\n  'Morava': 1,\n  'Moristel': 1,\n  'Cabernet Sauvignon Grenache': 4,\n  'Királyleányka': 3,\n  'Merlot-Shiraz': 2,\n  \"Cesanese d'Affile\": 12,\n  'Teran': 8,\n  'Merlot-Grenache': 2,\n  'Verdejo-Sauvignon Blanc': 5,\n  'Syrah-Merlot': 2,\n  'Malvasia-Viura': 2,\n  'Franconia': 1,\n  'Grecanico': 9,\n  'Tai': 2,\n  'Baco Noir': 9,\n  'Trebbiano-Malvasia': 2,\n  'Pignoletto': 3,\n  'Tocai': 3,\n  'Angevine': 2,\n  'Cabernet Sauvignon-Sangiovese': 10,\n  'Mtsvane': 2,\n  'Picapoll': 3,\n  \"Loin de l'Oeil\": 4,\n  'Vidadillo': 1,\n  'Pigato': 1,\n  'Carignan-Syrah': 1,\n  'Mazuelo': 1,\n  'Pallagrello Nero': 3,\n  'Gelber Traminer': 2,\n  'Nerello Cappuccio': 3,\n  'Apple': 4,\n  'Moscatel Roxo': 5,\n  'Lambrusco Grasparossa': 1,\n  'Fer Servadou': 3,\n  'Narince': 1,\n  'Cabernet Franc-Tempranillo': 2,\n  'Sauvignon Blanc-Sauvignon Gris': 1,\n  'Black Monukka': 4,\n  'Merlot-Argaman': 3,\n  'Steen': 2,\n  'Chardonnay-Semillon': 9,\n  'Parraleta': 1,\n  'Seyval Blanc': 5,\n  'Carmenère-Syrah': 7,\n  'Chardonnay-Sauvignon Blanc': 2,\n  'Syrah-Cabernet Franc': 2,\n  'Karalahna': 2,\n  'Jaen': 2,\n  'Touriga Franca': 5,\n  'Malbec-Bonarda': 4,\n  'Macabeo-Moscatel': 2,\n  'Maturana': 3,\n  'Lambrusco di Sorbara': 2,\n  'Cabernet Pfeffer': 1,\n  'Alicante': 7,\n  'Sauvignon Blanc-Chenin Blanc': 3,\n  'Morio Muskat': 2,\n  'Siegerrebe': 4,\n  'Tinta Negra Mole': 2,\n  'Cserszegi Fűszeres': 2,\n  'Xinisteri': 3,\n  'Gragnano': 2,\n  'Tocai Rosso': 3,\n  'Pinot Noir-Syrah': 2,\n  'Muscat of Alexandria': 2,\n  'Baga-Touriga Nacional': 1,\n  'Vilana': 5,\n  'Rabigato': 1,\n  'Pinot-Chardonnay': 4,\n  'Pallagrello Bianco': 4,\n  'White Port': 3,\n  'Karasakiz': 1,\n  'Veltliner': 1,\n  'Pugnitello': 3,\n  'Siria': 6,\n  'Romorantin': 1,\n  'Alvarelhão': 1,\n  'Silvaner-Traminer': 1,\n  'Nuragus': 6,\n  'Cabernet Moravia': 1,\n  'Durif': 2,\n  'Cariñena-Garnacha': 3,\n  'Boğazkere': 2,\n  'Petit Meslier': 1,\n  'Merlot-Petite Verdot': 1,\n  'Carnelian': 1,\n  'St. George': 3,\n  'Trousseau Gris': 1,\n  'Orangetraube': 1,\n  'Garnacha-Graciano': 4,\n  'Rufete': 1,\n  'Torbato': 2,\n  'Shiraz-Merlot': 2,\n  'Xynisteri': 1,\n  'Jacquère': 2,\n  'Cayuga': 2,\n  'Sousão': 2,\n  'Sauvignon Musqué': 1,\n  'Kuntra': 1,\n  'Moscatel Graúdo': 1,\n  'Malvazija': 1,\n  'Zelen': 1,\n  'Torontel': 1,\n  'Hárslevelü': 2,\n  'Tintilia ': 2,\n  'Blatina': 2,\n  'Kallmet': 1,\n  'Enantio': 1,\n  'Chardonnay-Pinot Grigio': 1,\n  'Sauvignonasse': 1,\n  'Chardonel': 1,\n  'Listán Negro': 1,\n  'Früburgunder': 1,\n  'Cabernet Franc-Cabernet Sauvignon': 1,\n  'Syrah-Carignan': 1,\n  'Prokupac': 2,\n  'Kadarka': 1,\n  'Grolleau': 1,\n  'Moscofilero': 1,\n  'Grenache-Mourvèdre': 1,\n  'Muscat Hamburg': 1,\n  'Cerceal': 1,\n  'Kinali Yapincak': 1,\n  'Irsai Oliver': 1,\n  'Zlahtina': 2,\n  'Malvoisie': 1,\n  'Cabernet Sauvignon-Merlot-Shiraz': 2,\n  'Morillon': 1,\n  'Braucol': 3,\n  'Garnacha-Tempranillo': 1,\n  'Tannat-Syrah': 2,\n  'Asprinio': 1,\n  'Azal': 1,\n  'Pinotage-Merlot': 1,\n  'Blauburgunder': 1,\n  'Roussanne-Grenache Blanc': 1,\n  'Altesse': 1,\n  'Sangiovese-Cabernet Sauvignon': 1,\n  'Catalanesca': 1,\n  'Malbec-Cabernet Franc': 1,\n  'Premsal': 1,\n  'Viognier-Valdiguié': 1,\n  'Schwartzriesling': 1,\n  'Chardonelle': 1,\n  'Ruen': 1,\n  'Yapincak': 1,\n  'Malmsey': 1,\n  'Segalin': 1,\n  'Freisa': 1,\n  'Pardina': 1,\n  'Sarba': 1,\n  'Muskat': 1,\n  'Bual': 1,\n  'Pinot Grigio-Chardonnay': 1},\n {'Lucien Albrecht': 70,\n  'Castle Rock': 85,\n  'Château Bianca': 24,\n  'Herdade do Esporão': 51,\n  'Sorrentino': 7,\n  'Cloudy Bay': 27,\n  'Leaping Horse': 10,\n  'Fritz': 45,\n  'Cru': 24,\n  'Montepeloso': 4,\n  'Robert Mondavi': 131,\n  'Vila': 16,\n  'Monte Faliesi': 1,\n  'Espuela del Gaucho': 9,\n  \"L'Ecole No. 41\": 118,\n  'Yellow Hawk Cellar': 3,\n  'SuLei': 5,\n  'B&E;': 8,\n  'Dunham': 50,\n  'Santa Ema': 99,\n  'Markowitsch': 25,\n  'Trivento': 67,\n  'J. Bookwalter': 42,\n  'Château de Candale': 5,\n  'Beringer': 91,\n  'Martin Ray': 124,\n  'Coastal Ridge': 13,\n  'Château Mouton Rothschild': 26,\n  'Louis Roederer': 44,\n  'Sparkman': 48,\n  'Domaine Serres Mazard': 1,\n  'Château Sigalas Rabaud': 10,\n  'Montes': 107,\n  'Pine Ridge': 43,\n  'Maycas del Limari': 17,\n  'Simonsig': 29,\n  'Strauss': 4,\n  'Marco Felluga': 17,\n  'Errazuriz': 125,\n  'Gaja': 21,\n  'Damilano': 29,\n  'Domaine Saint-André de Figuière': 12,\n  'Calcareous': 60,\n  'Balletto': 51,\n  'Schug': 85,\n  'Agostino Bosco': 12,\n  'Wandering Grape': 2,\n  'Duca di Salaparuta': 73,\n  'Tenuta Monteti': 6,\n  'Cuvaison': 46,\n  'Matteo': 3,\n  'Siegel': 42,\n  \"Tasca d'Almerita\": 82,\n  'Silvan Ridge': 32,\n  'Schramsberg': 61,\n  'Castellani': 15,\n  'Bisol': 24,\n  'Caliterra': 56,\n  'Bedarra': 10,\n  'Dezzani': 7,\n  'Lewis': 3,\n  'Penner-Ash': 7,\n  'Johann Heinrich': 33,\n  'Château Grand Barrail Lamarzelle Figeac': 7,\n  'Wunsch & Mann': 11,\n  'Bacalhôa Wines of Portugal': 61,\n  'Cantina Tollo': 28,\n  'Dopff Au Moulin': 10,\n  'Factories & Smoke': 2,\n  'Testarossa': 215,\n  'Laurel Glen': 17,\n  'Louis Latour': 126,\n  'Trapiche': 156,\n  'Enrique Foster': 30,\n  'Two Hands': 34,\n  'Chateau Ste. Michelle': 184,\n  'Robert Karl': 37,\n  \"Holly's Hill\": 20,\n  'Feudi di San Gregorio': 89,\n  'Stephanie': 11,\n  'Karl Erbes': 10,\n  'Château de Chamirey': 11,\n  'Little Black Dress': 20,\n  'McCrea': 34,\n  'La Gerla': 21,\n  'Parxet': 10,\n  'Lindemans': 11,\n  'Domaine Belle': 5,\n  'Wilson': 51,\n  'Sogrape': 14,\n  'Pinord': 17,\n  'Wither Hills': 10,\n  'Luna Beberide': 30,\n  'Fiddletown Cellars': 10,\n  'Hocus Pocus': 4,\n  'Hanna': 48,\n  'Château Grand Mayne': 7,\n  'Kingston Family': 32,\n  'Château Lieujean': 8,\n  'Salcis': 1,\n  'Leth': 28,\n  'Gustave Lorentz': 27,\n  'Quinta da Alorna': 44,\n  'Château Carbonnieux': 24,\n  'MacPhail': 63,\n  'E. Guigal': 63,\n  'Château Laroque': 4,\n  'Chime': 15,\n  'Santa Alicia': 77,\n  'Elena Walch': 30,\n  'La Villa': 5,\n  'Columbia Crest': 174,\n  'Lost Canyon': 46,\n  'Château Saint-Pierre': 11,\n  'Williamson Vineyard': 2,\n  'Green Point': 22,\n  'Miguel Torres': 80,\n  'Bodegas Valdemar': 60,\n  'Case Bianche': 5,\n  \"D'Anbino\": 12,\n  'Paraiso Vineyards': 49,\n  'Tar & Roses': 4,\n  'Domaine Alfred': 39,\n  'Kriter': 10,\n  'Williams Selyem': 313,\n  'Gérard Bertrand': 79,\n  'Alana Estate': 9,\n  'Hatzi Michalis': 11,\n  'Bridlewood': 35,\n  'Soos Creek': 36,\n  'Château La Mission Haut-Brion': 26,\n  'Segura Viudas': 57,\n  'Fattoria di Grignano': 16,\n  'Emilio Rojo': 3,\n  'Simone': 35,\n  'Marshall Family Wines': 2,\n  'Sherwood House Vineyards': 15,\n  'Domaines Schlumberger': 60,\n  'La Fiammenga': 15,\n  'Adelsheim': 89,\n  'Villa Matilde': 32,\n  'Vigilance': 6,\n  'Billsboro': 21,\n  'Rotta': 12,\n  'Di Giovanna': 16,\n  'Lauren Ashton Cellars': 12,\n  'Andean Sky': 8,\n  'Clayhouse': 28,\n  'Standing Stone': 44,\n  'Westrey': 5,\n  'Wise': 14,\n  'Familia Cassone': 26,\n  'Heathcote Estate': 5,\n  'Signorello': 67,\n  'Quinta do Pinto': 12,\n  'Viento': 6,\n  'Spadaio e Piecorto': 2,\n  'Domaine Bruno Clair': 24,\n  'Three Rivers': 85,\n  'Pico Maccario': 15,\n  'Picos Pardos': 3,\n  'Castello Romitorio': 16,\n  'Marchesi Alfieri': 5,\n  'Tandem': 49,\n  'Château Chasse-Spleen': 12,\n  'Elk Cove': 21,\n  'Rancho Sisquoc': 55,\n  'Marchesi De Gregorio': 3,\n  'One Hope': 14,\n  \"D'Arenberg\": 117,\n  'Gridley': 1,\n  'Joullian': 30,\n  'Adelaida': 99,\n  'Umathum': 20,\n  'Sordo': 3,\n  'Three Families': 18,\n  'Standing Sun': 19,\n  'TerraNoble': 67,\n  'Albert Bichot': 144,\n  'Bodegas Pirineos': 13,\n  'Viñedos de Paganos': 18,\n  'Mumm Napa': 45,\n  'Turnbull': 19,\n  'Gsellmann & Hans': 4,\n  'Andrew Will': 53,\n  'Corte Campagnola': 7,\n  'Kunde': 93,\n  'Pasanau Germans': 4,\n  'Carmen': 63,\n  'Vionta': 5,\n  'Bruliam': 17,\n  'Innocent Bystander': 27,\n  'Cantine Europa': 1,\n  'Meyer Family Vineyards': 12,\n  'Milbrandt': 65,\n  'Mia Nipote Winery': 1,\n  'Castello di Verduno': 11,\n  'Johannishof': 37,\n  'Château Jolys': 16,\n  'Quilceda Creek': 26,\n  'Highland Springs': 6,\n  'Yalumba': 112,\n  'Terrazas de Los Andes': 44,\n  'Buitenverwachting': 14,\n  'Rusack': 54,\n  'S.A. Prüm': 37,\n  'Tamarack Cellars': 97,\n  'Bota Box': 23,\n  'Pala': 66,\n  'Steele': 45,\n  'Due Torri': 1,\n  'Muxagat': 14,\n  'Enzo Boglietti': 11,\n  'Gritsch Mauritiushof': 25,\n  'RiverAerie': 18,\n  'Costers del Priorat': 7,\n  'Felsina': 9,\n  'Vini Italiani da Sogno': 4,\n  'Château Suduiraut': 14,\n  'Finisterra': 6,\n  'Bodega Noemía de Patagonia': 25,\n  'Herdade da Comporta': 25,\n  'Peter Cellars': 15,\n  'Constantin Gofas': 1,\n  'Albino Armani': 7,\n  'Bambinuto': 2,\n  'La Riojana Coop': 1,\n  'M. Cosentino': 33,\n  'Shooting Star': 12,\n  'Campesino': 6,\n  'Anciano': 6,\n  'Lícia': 11,\n  'Trio Vintners': 28,\n  'Spring Mountain Vineyard': 38,\n  'Mauro Sebaste': 21,\n  'Krauthaker': 6,\n  'Domaine Laroche': 40,\n  'Sleight of Hand': 32,\n  'Phillips Hill': 18,\n  'Coffele': 6,\n  'Alpataco': 11,\n  'Girard': 51,\n  'Hans Moser': 7,\n  'Tildio': 27,\n  'Lungarotti': 74,\n  'AlmaTerra': 11,\n  'Ponzi': 57,\n  'Bodega Norton': 111,\n  'Ridge': 39,\n  'Kestrel': 30,\n  'Baron Knyphausen': 38,\n  'Peirano': 56,\n  'Brander': 98,\n  'Conterno Fantino': 17,\n  'Renwood': 109,\n  'Domaine Baptiste Boutes': 2,\n  'Planeta': 103,\n  'Marqués de Cáceres': 69,\n  'Heintz': 13,\n  'Heron': 30,\n  'Emrich-Schonleber': 6,\n  'Fleming Jenkins': 23,\n  'Monte Tondo': 23,\n  'Three Sticks': 11,\n  'McCrea Cellars': 35,\n  'Midnight': 69,\n  'K Vintners': 84,\n  'Raimat': 7,\n  \"Ram's Gate\": 11,\n  'Terra Australis': 3,\n  'LangeTwins': 22,\n  'Bodega José Quattrocchi': 3,\n  'Januik': 44,\n  'Michel Torino': 78,\n  'Albinea Canali': 1,\n  'Château Léoville Barton': 17,\n  'Novy': 102,\n  \"I'M\": 8,\n  'Château du Trignon': 9,\n  'Domaine des Baumard': 60,\n  'Valentin Bianchi': 76,\n  'Chalone Vineyard': 19,\n  'Château Valandraud': 17,\n  'Generation 7': 4,\n  'Château Faugères': 9,\n  'Wineglass Cellars': 32,\n  'Tre Donne': 8,\n  'Valdivieso': 33,\n  'Robert Hall': 68,\n  'Jean-Maurice Raffault': 3,\n  'Clos La Chance': 89,\n  'Sandeman': 24,\n  'Norman': 15,\n  'Acorex': 4,\n  'Domaine Leflaive': 37,\n  'Barnett': 38,\n  'Chanson Père et Fils': 79,\n  'McManis': 60,\n  'Vieux Château Gaubert': 4,\n  'La Rochelle': 46,\n  'Rotari': 27,\n  'Vino dei Fratelli': 10,\n  'Mondavi/Rosemount': 1,\n  'Château Rahoul': 15,\n  'Smith-Madrone': 24,\n  'Reata': 5,\n  'Sebastiani': 82,\n  'Robert Stemmler': 34,\n  'Chimney Rock': 43,\n  'Santa Carolina': 83,\n  'Nittnaus Anita und Hans': 36,\n  'Torres': 63,\n  'Sylvester': 43,\n  \"Les Celliers Jean d'Alibert\": 1,\n  'Riseccoli': 5,\n  'Cebada': 2,\n  'La Clarine Farm': 8,\n  'Spangler': 5,\n  'Achaia Clauss': 33,\n  'Vinum': 44,\n  'Martha Clara': 25,\n  'Elizabeth Rose': 13,\n  'Geh. Rat Dr. von Bassermann-Jordan': 16,\n  'Stevenot': 31,\n  'Loxarel': 9,\n  'Jefferson Vineyards': 10,\n  'Indigené': 16,\n  'Fratta Pasini': 7,\n  'Tayson Pierce': 2,\n  'Remy-Pannier': 41,\n  'Wellington': 106,\n  'Terra Silvestre': 10,\n  'Red Newt Cellars': 35,\n  'Roux Père et Fils': 63,\n  'Des Voigne': 13,\n  'Ehrhart': 5,\n  'Curtis': 48,\n  'Louis Jadot': 99,\n  'Van Duzer': 6,\n  'Ballentine': 44,\n  'Stefano Accordini': 22,\n  'Dr. Loosen': 91,\n  'Ànima Negra': 16,\n  'Dievole': 7,\n  'Chakana': 29,\n  'Finca La Anita': 9,\n  'Domaine Courbis': 15,\n  'Villa Sparina': 3,\n  \"Stags' Leap Winery\": 19,\n  'Paul Cluver': 17,\n  'Château Moncontour': 40,\n  'HandCraft': 9,\n  'La Fenêtre': 67,\n  'Travignoli': 1,\n  'Babcock': 71,\n  'Bouchard Père & Fils': 168,\n  'San Rustico': 22,\n  'Mulderbosch': 26,\n  'Château Souverain': 20,\n  'Georges Duboeuf': 152,\n  'Cantine Lunae Bosoni': 4,\n  'Lucien Lardy': 3,\n  'Sterling': 71,\n  'Gorman': 38,\n  'O. Fournier': 86,\n  'Le Grascete': 17,\n  'Clos Teddi': 6,\n  'Reinhold Haart': 2,\n  \"Ryker's Cellars\": 2,\n  'Bodegas Concavins': 5,\n  'Mas de Lavail': 6,\n  'Halter Ranch': 24,\n  'Feudo Arancio': 62,\n  'Liparita': 14,\n  'Fratelli Casetta': 14,\n  'Château de Rayne Vigneau': 11,\n  'Clos de la Briderie': 8,\n  'Pascual Toso': 77,\n  'Simon Hackett': 15,\n  'Bookwalter': 3,\n  'Aresti': 50,\n  'B Cellars': 26,\n  'Amisfield': 8,\n  'David Hill': 55,\n  'Domaines Barons de Rothschild (Lafite)': 78,\n  'Borsao': 39,\n  'Ross Estate': 13,\n  'Campus Oaks': 23,\n  'Vin de Manies': 4,\n  'One Woman': 5,\n  'Tolosa': 74,\n  'Baglio di Pianetto': 35,\n  'Blackstone': 39,\n  'Rancho Zabaco': 31,\n  'Mazzei': 46,\n  'Palazzo': 16,\n  'Sorelle Winery': 12,\n  'Di Lenardo': 9,\n  'Night Harvest by R.H. Phillips': 12,\n  'Bric Cenciurio': 15,\n  'Gordon Brothers': 19,\n  'Zantho': 32,\n  'Yarrabank': 3,\n  'Domaine Jean Bousquet': 48,\n  'Vranken': 13,\n  'Cantina di Soave': 33,\n  'Joan Simó': 12,\n  'Domaine Champy': 19,\n  'Balía di Zola': 7,\n  'Freemark Abbey': 53,\n  'Wenzel': 6,\n  'Finca Torremilanos': 22,\n  'Malat': 16,\n  'Fort Ross': 28,\n  'Pedroncelli': 75,\n  'Finca La Estacada': 7,\n  'Ktima Voyatzi': 3,\n  'Siduri': 89,\n  'J. Christopher': 23,\n  'Beaulieu Vineyard': 80,\n  'Don & Sons': 3,\n  'Avery Lane': 9,\n  'Château Magdelaine': 10,\n  'EOS': 87,\n  'Vignerons de Buxy': 29,\n  'William Fèvre': 62,\n  'Longfellow': 18,\n  \"Coeur d'Alene\": 27,\n  'Pali': 62,\n  'Michel Picard': 36,\n  'Schiavenza': 12,\n  'Gunter Triebaumer': 62,\n  'Château Famaey': 8,\n  'Amity': 21,\n  'Tenimenti Famiglia Cavallero': 2,\n  \"Ca' du Rabajà\": 7,\n  'Terra Valentine': 16,\n  'Foppiano': 28,\n  'Jacques Charlet': 3,\n  'Camigliano': 19,\n  'Andretti': 29,\n  'Contratto': 7,\n  'Durigutti': 9,\n  'Clunia': 5,\n  'Inception': 11,\n  'Château Roquefeuille': 3,\n  'Clos du Bois': 68,\n  'Hewitt': 8,\n  'Pelassa': 20,\n  'Gnarly Head': 23,\n  'Calera': 114,\n  'Tenuta Santomè': 11,\n  'Nicolis': 17,\n  'Torbreck': 31,\n  'Matchbook': 24,\n  'Poças': 82,\n  'Longoria': 83,\n  'Vistamar': 10,\n  'Bodega Catena Zapata': 80,\n  'Macari': 42,\n  'Ravenswood': 36,\n  'Mont Gravet': 3,\n  'Domaine Pouillon': 21,\n  'Dopff & Irion': 47,\n  'Frogmore Creek': 7,\n  'Astrales': 7,\n  'Lake Sonoma': 30,\n  'Aldegheri': 21,\n  'OS Winery': 29,\n  'Agate Ridge': 22,\n  'Rocca delle Macìe': 79,\n  'Sauvignon Republic': 14,\n  'Waterford': 14,\n  'Villa Maria': 64,\n  'Falkner': 16,\n  'Donnafugata': 52,\n  'Francis Ford Coppola': 64,\n  'Château Haut Bertinerie': 17,\n  'Pillitteri': 9,\n  'Lucienne': 9,\n  'Valdifalco': 1,\n  'Emmerich Knoll': 40,\n  'Cantine Novelli': 8,\n  'Château Brane-Cantenac': 13,\n  'Newlan': 6,\n  'Dutton-Goldfield': 94,\n  'Bianchi': 49,\n  'Edward Sellers': 13,\n  'Transcendence': 8,\n  'Quintay': 33,\n  'Gaba do Xil': 10,\n  'Turner Road': 15,\n  'Achaval-Ferrer': 14,\n  'Owen Roe': 36,\n  'Pieropan': 15,\n  'Cardeal': 5,\n  'Nickel & Nickel': 49,\n  'Gabriel Meffre': 9,\n  'Tenuta di Trecciano': 32,\n  'Marimar Estate': 62,\n  'Skouras': 27,\n  'Yering Station': 35,\n  'Calina': 29,\n  'Clif Family': 27,\n  'Cottonwood Canyon': 12,\n  'Healdsburg Ranches': 7,\n  'Terra di Briganti': 2,\n  'Idilico': 1,\n  'Domaine Barmès-Buecher': 22,\n  'Domaine Borgnat': 4,\n  'Terzolo': 2,\n  'Bogle': 70,\n  'Cathedral Ridge': 27,\n  'Guy Saget': 16,\n  'Groth': 27,\n  'Heinz Eifel': 6,\n  'Castelfeder': 5,\n  'Villa Russiz': 12,\n  'Odfjell': 75,\n  'Wine Spots': 14,\n  'Château de Braude': 1,\n  'Loriñon': 7,\n  'Château Giscours': 16,\n  'Chacewater': 20,\n  'De Bortoli': 78,\n  'Piper-Heidsieck': 10,\n  'Morgan': 119,\n  'Cakebread': 17,\n  'Valpiculata': 4,\n  'Tara Bella': 6,\n  'Volver': 8,\n  '3CV': 10,\n  'Château Fonréaud': 16,\n  'Corte Moschina': 12,\n  'Graben-Gritsch': 6,\n  'Bernard Magrez': 47,\n  'Gregory Graham': 5,\n  'Baxter': 7,\n  'Louis M. Martini': 47,\n  'Château Lafite Rothschild': 25,\n  'Ruffino': 44,\n  'Upland Estates': 31,\n  'Arista': 56,\n  'Filus': 12,\n  'Manuel Olivier': 54,\n  'Dogwood': 20,\n  'Freixenet': 74,\n  'Keenan': 49,\n  'De Martino': 43,\n  'Abacela': 70,\n  'Knipser': 26,\n  'Dr. Volkmar': 2,\n  'Talenti': 13,\n  'Cave de Saumur': 10,\n  'Cave de Tain': 34,\n  'Three Pears': 2,\n  'Viña el Aromo': 17,\n  'Bertani': 38,\n  'Santa Rita': 110,\n  'Jaffurs': 47,\n  'Roederer Estate': 27,\n  'Niedermayr Josef': 7,\n  'Hendry': 63,\n  'Kilikanoon': 64,\n  'TarraWarra': 11,\n  'Nemesio': 3,\n  'Viña Bisquertt': 63,\n  'Barrister': 65,\n  'Papaioannou': 4,\n  'Tenuta di Biserno': 14,\n  \"Valle dell'Acate\": 67,\n  'Sand Hill': 8,\n  'Morgante': 9,\n  'Luis Felipe Edwards': 51,\n  'Zisola': 11,\n  'Jäger': 12,\n  'Yatir': 13,\n  'Charles Creek': 12,\n  'Campo Eliseo': 3,\n  \"Stag's Leap Wine Cellars\": 64,\n  'Krutz': 28,\n  \"Frog's Leap\": 66,\n  'Burgess': 22,\n  'Château Lynch-Moussas': 13,\n  'Carlos Basso': 54,\n  'Mezzacorona': 28,\n  'Valley of the Moon': 59,\n  'Renato Ratti': 23,\n  'Emilio Moro': 37,\n  'Fattorie Azzolino': 8,\n  'Allram': 6,\n  'Conti Formentini': 5,\n  'Coopers Creek': 16,\n  'Collemassari': 20,\n  'Carpineto': 45,\n  'Cave de Cleebourg': 5,\n  'Oyster Bay': 26,\n  'Foradori': 7,\n  'Castel Sallegg': 3,\n  'Saint Clair': 103,\n  'Macchia': 9,\n  'Domaine Carneros': 34,\n  'Le Vigne': 11,\n  'JC Cellars': 18,\n  'Chono': 21,\n  'E. B. Foote': 7,\n  'Pazo de Barrantes': 8,\n  'Wild Horse': 37,\n  'Regale Winery and Vineyards': 10,\n  'Dusted Valley': 75,\n  'Ciabot Berton': 12,\n  'Shea': 15,\n  'Bodegas Campante': 6,\n  'Borgo Conventi': 8,\n  'Layer Cake': 8,\n  'Ken Brown': 5,\n  'Chehalem': 65,\n  'Domaine Marcel Deiss': 39,\n  'Umberto Cesari': 23,\n  'Castelli Martinozzi': 9,\n  'Vietti': 37,\n  'Hugel': 38,\n  'Newsome-Harlow': 19,\n  'Justin': 38,\n  'Turkey Flat': 13,\n  'Clearview': 8,\n  'Domaine Serene': 42,\n  'J. & F. Lurton': 63,\n  'Josmeyer': 26,\n  'Woodward Canyon': 46,\n  'Van Loveren': 4,\n  'kukkula': 7,\n  'Bella': 24,\n  'CK Mondavi': 14,\n  'Michel Redde': 6,\n  'Big House': 35,\n  'Producteurs Plaimont': 47,\n  'Marquee': 25,\n  'Podere Brizio Roberto Bellini': 1,\n  'Mario Gagliasso': 11,\n  'Juno': 22,\n  'Yorba': 12,\n  'Condé': 2,\n  'Massucco': 1,\n  'Hahn': 66,\n  'Naggiar': 34,\n  'Fortress': 10,\n  'Holmes Harbor Cellars': 7,\n  'V. Sattui': 74,\n  'Viña Tabalí': 45,\n  'Bunchgrass': 14,\n  'Crossbarn by Paul Hobbs': 12,\n  \"Ca' del Solo\": 15,\n  'Duende': 2,\n  'Jacopo Biondi-Santi': 26,\n  \"Churchill's\": 23,\n  'Wente': 46,\n  'Coastview': 2,\n  'Bethel Heights': 10,\n  'Carol Shelton': 25,\n  'Yorkville Cellars': 18,\n  'Walt': 11,\n  'Swanson': 38,\n  'Four Emus': 1,\n  'Yazgan': 6,\n  'Benegas': 28,\n  'Brigadoon': 3,\n  'Cielo e Terra': 6,\n  'Clarendon Hills': 45,\n  'Jean Maréchal': 1,\n  'Rainbow Ridge': 1,\n  'Badia a Coltibuono': 26,\n  'Fossil Point': 5,\n  'Lorenzon': 1,\n  'Stomping Girl': 7,\n  'Baron De Ley': 38,\n  'Zuccardi': 54,\n  'Deerfield Ranch': 13,\n  'Côte Bonneville': 14,\n  'Betz Family': 47,\n  'Badabing': 4,\n  'Il Borro': 10,\n  'Vignobles La Coterie': 3,\n  'Pavilion': 13,\n  'Poggio al Tesoro': 23,\n  'Il Grappolo': 3,\n  'Souverain': 22,\n  'Scharffenberger': 9,\n  'Adega Cooperativa de Borba': 57,\n  'Protos': 12,\n  'Willowbrook': 4,\n  'St. Supéry': 59,\n  'Krupp Brothers': 23,\n  'Sesta di Sopra': 8,\n  'Fielding Hills': 26,\n  'Robertson Winery': 31,\n  'Maddalena': 46,\n  'Château de Pierreux': 1,\n  'Fox Run': 39,\n  'Botter': 14,\n  'Cliff Lede': 5,\n  'Pegasus Bay': 33,\n  'Lamadrid': 19,\n  'Barossa Valley Estate': 19,\n  'Château le Castellot': 2,\n  \"Dow's\": 37,\n  'Etude': 58,\n  'Brunelli': 25,\n  'El Circulo': 17,\n  'Beauregard': 27,\n  'Il Conte': 25,\n  'Balboa': 27,\n  'San Fabiano Calcinaia': 21,\n  'Loose End': 11,\n  'Bandit': 11,\n  'Liberalia': 6,\n  'Joseph Drouhin': 156,\n  'Eberle': 72,\n  'Dosio': 4,\n  'Failla': 70,\n  'Ricci Curbastro': 13,\n  'Château Grivière': 5,\n  'Tardieu-Laurent': 20,\n  'Marchesi Antinori': 51,\n  'Amity Vineyards': 29,\n  'Constantia Glen': 5,\n  'Hunnicutt': 31,\n  'JR Wine': 19,\n  'Apex': 18,\n  'Saint Laurent': 6,\n  'Castoro Cellars': 57,\n  'Porcupine Ridge': 17,\n  'Ventisquero': 50,\n  'Mt. Difficulty': 30,\n  'Finca Albret': 7,\n  'Duncan Peak': 4,\n  'Cameron Hughes': 136,\n  'Abeja': 55,\n  'Altesino': 18,\n  'Casale del Giglio': 37,\n  'Miner': 32,\n  'Vinchio-Vaglio Serra': 15,\n  'Doña Paula': 50,\n  'Château Beau-Site': 4,\n  'Los Molles': 6,\n  'Cinquain': 13,\n  'Jindalee': 7,\n  'François Lurton': 65,\n  'HammerSky': 9,\n  'Bodega Margot': 2,\n  'Fondo Antico': 12,\n  'Tua Rita': 30,\n  'Benvenuto de la Serna': 5,\n  'Rodney Strong': 107,\n  'Henri de Villamont': 96,\n  'Château de Cénac': 23,\n  'Sahara Vineyards': 3,\n  'Magness': 24,\n  'Adega Cooperativa do Cartaxo': 25,\n  'Santa Duc': 1,\n  'Mountford': 3,\n  'Bodega NQN': 26,\n  \"Fonty's Pool\": 10,\n  'Mercy': 21,\n  'La Crema': 49,\n  'Jericho Canyon Vineyard': 6,\n  'Mayacamas': 18,\n  'Tenuta Sette Ponti': 30,\n  'Matariki': 24,\n  'Corvo': 22,\n  'Rubicon Estate': 28,\n  'Lioco': 2,\n  'Fazi Battaglia': 18,\n  'Chaddsford': 42,\n  'Baglio del Cristo di Campobello': 33,\n  'Tamaya': 52,\n  'Domaine Fernand Engel': 11,\n  'Pierre Chainier': 7,\n  'Cruz Alta': 36,\n  'Labouré-Roi': 55,\n  'Raats Family': 8,\n  'Ñandú': 3,\n  'Venge': 23,\n  'Belasco de Baquedano': 16,\n  'Michel Moritz': 3,\n  'Torlesse': 12,\n  'Cascina Luisin': 10,\n  'Poggio al Casone': 7,\n  'Sinclair Estate Vineyards': 17,\n  'Sanguis': 34,\n  'Solabal': 12,\n  'Summers': 59,\n  'Peters Family': 24,\n  'Reyter': 2,\n  'Garciarévalo': 4,\n  'Marilyn Merlot': 1,\n  'Château Bela': 3,\n  'Perception': 7,\n  'Domaine Bott-Geyl': 18,\n  'Camaraderie': 31,\n  'Lynskeys Wairau Peaks': 5,\n  'Familia Schroeder': 78,\n  'Corley': 23,\n  'Musella': 13,\n  'Flying Goat Cellars': 18,\n  'Paolo Marcarino': 2,\n  'Tornesi': 15,\n  'DFJ Vinhos': 198,\n  'Acorn': 28,\n  'Blue Rock': 21,\n  'Vezer Family Vineyard': 2,\n  'Celler Bàrbara Forés': 2,\n  'Santero': 3,\n  'San Luciano': 4,\n  'Sierra Cantabria': 56,\n  'Nelson': 2,\n  'Cantine di Marzo': 10,\n  'Glenelly': 9,\n  'Elements of Sonoma': 5,\n  'Alta Maria': 15,\n  'Iron Horse': 116,\n  'Santa Julia': 76,\n  \"L'Enclos des Braves\": 6,\n  'Tenuta delle Terre Nere': 18,\n  'Quinta do Casal Monteiro': 13,\n  'La Poderina': 19,\n  'Hillinger': 9,\n  'Perrier Jouët': 38,\n  'Rex Hill': 57,\n  'Mosby': 42,\n  'Peter Zemmer': 9,\n  'Korbel': 49,\n  'Philippe Gonet': 2,\n  'Conarium': 1,\n  'Château Balestard la Tonnelle': 3,\n  'Chalk Hill': 51,\n  'R Wines': 16,\n  'Banfi': 36,\n  'Hyatt': 8,\n  'Shaw': 25,\n  'Quinta de Ventozelo': 69,\n  'Studert-Prüm': 3,\n  'Bouvet-Ladubay': 18,\n  'Cantara': 14,\n  'Morandé': 76,\n  'Erath': 90,\n  'Sikelia': 1,\n  'Titus': 24,\n  'Brancott': 55,\n  'Ossiam': 1,\n  'Casisano Colombaio': 7,\n  'Staphyle': 11,\n  'Machherndl': 33,\n  'Altas Cumbres': 3,\n  'Fog Crest': 14,\n  'Casas del Toqui': 17,\n  'Villa Canestrari': 8,\n  'Red Cap': 2,\n  'Belle Vallée': 17,\n  'Gianni Gagliardo': 23,\n  'Bodegas Luis Gurpegui Muga': 8,\n  'Argiano': 21,\n  'Kynsi': 56,\n  'Brampton': 23,\n  'Recchia': 11,\n  'Barone Ricasoli': 31,\n  'Tiezzi': 7,\n  \"Domaine d'Eole\": 6,\n  'Steelhead Vineyards': 5,\n  'Kelley Fox': 15,\n  'Terlato': 46,\n  'Terre da Vino': 22,\n  'Heron Hill': 48,\n  'Friday Monkey': 5,\n  'Restivo': 5,\n  'Poonawatta Estate': 4,\n  'Stonehaven': 13,\n  'Artimino': 3,\n  'Vision Cellars': 17,\n  'McDermaid': 3,\n  'Cantina Santadi': 52,\n  'Tommasi': 91,\n  'Marq': 3,\n  'Glenora': 45,\n  'Sculpterra': 16,\n  'Sequoia Grove': 43,\n  'McNab Ridge': 4,\n  'Felix Lavaque': 1,\n  'Circles Edge': 3,\n  'Neumeister': 40,\n  'Willamette Valley Vineyards': 82,\n  'Thorny Rose': 3,\n  'St. Pauls': 22,\n  'St. Amant Winery': 2,\n  'Finca Mores': 2,\n  'Domaine Chasselay': 13,\n  'Charles Krug': 57,\n  'Baron-Fuenté': 9,\n  'Graf Hardegg': 31,\n  'Pago de la Jaraba': 5,\n  'Mirassou': 40,\n  'GraEagle': 7,\n  'Agustinos': 22,\n  'Herzog': 34,\n  'Boutari': 55,\n  'Origin': 28,\n  'Zudugarai': 3,\n  'Barnard Griffin': 58,\n  'Foraci': 6,\n  'Byington': 16,\n  'Quivet Cellars': 5,\n  'Lusco': 15,\n  'Dourthe': 13,\n  'Materra Cunat Family Vineyards': 13,\n  'R&A; Pfaffl': 39,\n  'Mi Sueño': 16,\n  'Matané': 12,\n  'Coniglio': 28,\n  'Backsberg': 35,\n  'Speri': 28,\n  'Genius Loci': 4,\n  'Rizzi': 17,\n  'Caterina': 15,\n  'Corte Pavone': 12,\n  'Marlargo': 7,\n  'Château de Paillet-Quancard': 2,\n  'Podere Sapaio': 20,\n  'St. Francis': 64,\n  'Gia Domella': 10,\n  \"Poggio dell'Aquila\": 7,\n  'Château de Chantegrive': 16,\n  'Graham Beck': 36,\n  'Rosenblum': 69,\n  'Bodegas Adriá': 3,\n  'Quinta de Chocapalha': 21,\n  'JustNat': 2,\n  'Murphy-Goode': 52,\n  'Château la Croix de Gay': 4,\n  'Aquinas': 15,\n  'Arbor Brook': 20,\n  'Fabiano': 25,\n  'Rudd': 8,\n  'Kokomo': 56,\n  'Ceago Vinegarden': 16,\n  'Pascal Bouchard': 24,\n  'Henry Natter': 10,\n  'Michel Vattan': 4,\n  'Bodega Otto Bestué': 3,\n  'Kelleher': 5,\n  'Cave B': 41,\n  'Meloni': 15,\n  'Brooks': 7,\n  'Mount Pleasant Winery': 22,\n  'Talley': 85,\n  'Taylor Fladgate': 30,\n  'Duarte Georgetown': 7,\n  'Greystone': 7,\n  'Casarena': 14,\n  'Deerfield': 9,\n  'Franciscan': 22,\n  'Abadia Retuerta': 25,\n  'Caves Fleury': 5,\n  '3 Horse Ranch Vineyards': 20,\n  'Monchiero': 9,\n  'Goats Trail': 5,\n  'TerraMater': 16,\n  'Benziger': 47,\n  'Thatched Hut': 5,\n  'Michele Chiarlo': 49,\n  'Domaine Huguenot': 2,\n  'Poggio Scalette': 5,\n  'Duval-Leroy': 28,\n  'M. Chapoutier': 62,\n  'Walter Dacon': 34,\n  'Ancient Peaks': 39,\n  'Fattori': 16,\n  'Miali': 12,\n  'Château Thuerry': 6,\n  'Duckhorn': 57,\n  'Clifford Bay': 2,\n  'Bodega Cuarto Dominio': 11,\n  'Gary Farrell': 110,\n  'Livia Fontana': 4,\n  'Muruve': 11,\n  'Dutton Estate': 59,\n  'Château Ponzac': 3,\n  'Miraflores': 28,\n  'Soleau': 5,\n  'St. Clement': 23,\n  'Rosenthal': 7,\n  'Cantine Barbera': 15,\n  'Bolla': 30,\n  'Gainey': 60,\n  \"Masies d'Avinyo\": 24,\n  'Van Ruiten': 6,\n  'San Pedro': 85,\n  'Domaine Chavy-Chouet': 2,\n  'David Sterza': 11,\n  'Château Haut-Brion': 30,\n  'Block 50': 2,\n  ...},\n {45.0: 2189,\n  31.0: 3386,\n  35.0: 1742,\n  41.0: 3196,\n  37.0: 3034,\n  48.0: 3997,\n  42.0: 6322,\n  70.0: 315,\n  24.0: 1693,\n  26.0: 1581,\n  52.0: 3127,\n  36.0: 4460,\n  53.0: 4223,\n  40.0: 4146,\n  46.0: 6560,\n  47.0: 2928,\n  49.0: 3692,\n  56.0: 3424,\n  58.0: 3319,\n  57.0: 2440,\n  67.0: 860,\n  18.0: 214,\n  51.0: 2985,\n  62.0: 2228,\n  32.0: 1116,\n  69.0: 685,\n  34.0: 1904,\n  68.0: 721,\n  29.0: 2301,\n  44.0: 3914,\n  50.0: 3387,\n  59.0: 2747,\n  61.0: 1944,\n  63.0: 1318,\n  64.0: 1293,\n  43.0: 2221,\n  39.0: 2458,\n  66.0: 884,\n  38.0: 2008,\n  27.0: 2587,\n  30.0: 354,\n  55.0: 3210,\n  54.0: 2944,\n  65.0: 1505,\n  33.0: 2756,\n  60.0: 1742,\n  96.0: 4,\n  21.0: 1168,\n  72.0: 363,\n  71.0: 447,\n  78.0: 121,\n  25.0: 120,\n  76.0: 127,\n  81.0: 63,\n  83.0: 44,\n  73.0: 235,\n  79.0: 71,\n  74.0: 249,\n  75.0: 199,\n  7.0: 32,\n  17.0: 380,\n  28.0: 116,\n  8.0: 37,\n  20.0: 87,\n  77.0: 110,\n  13.0: 252,\n  80.0: 94,\n  23.0: 54,\n  86.0: 33,\n  82.0: 67,\n  22.0: 39,\n  84.0: 29,\n  89.0: 14,\n  85.0: 35,\n  14.0: 10,\n  87.0: 22,\n  88.0: 13,\n  0.0: 15,\n  92.0: 4,\n  12.0: 4,\n  91.0: 9,\n  90.0: 5,\n  94.0: 3,\n  95.0: 2,\n  100.0: 1,\n  93.0: 1}]"
     },
     "execution_count": 136,
     "metadata": {},
     "output_type": "execute_result"
    }
   ],
   "source": [
    "val_count = []\n",
    "for col in dataset.columns:\n",
    "    if col == 'description':\n",
    "        continue\n",
    "    val_count.append(dict(Counter(dataset[col])))\n",
    "\n",
    "val_count"
   ],
   "metadata": {
    "collapsed": false,
    "pycharm": {
     "name": "#%%\n"
    }
   }
  },
  {
   "cell_type": "code",
   "execution_count": 139,
   "outputs": [
    {
     "data": {
      "text/plain": "US                        49908\nItaly                     18848\nFrance                    16835\nSpain                      6657\nChile                      4647\nArgentina                  4519\nPortugal                   4228\nAustralia                  3949\nNew Zealand                2646\nAustria                    2447\nGermany                    1963\nSouth Africa               1796\nGreece                      711\nIsrael                      499\nHungary                     187\nCanada                      153\nRomania                     115\nUruguay                      81\nCroatia                      72\nSlovenia                     71\nBulgaria                     63\nMoldova                      51\nMexico                       47\nTurkey                       39\nGeorgia                      36\nLebanon                      31\nCyprus                       25\nBrazil                       21\nMacedonia                    14\nSerbia                       10\nMorocco                      10\nEngland                       7\nLuxembourg                    7\nCzech Republic                6\nLithuania                     5\nIndia                         5\nUkraine                       4\nSouth Korea                   4\nEgypt                         3\nSlovakia                      3\nChina                         3\nBosnia and Herzegovina        3\nSwitzerland                   3\nJapan                         2\nMontenegro                    2\nUS-France                     1\nTunisia                       1\nAlbania                       1\nName: country, dtype: int64"
     },
     "execution_count": 139,
     "metadata": {},
     "output_type": "execute_result"
    }
   ],
   "source": [
    "countries = dataset['country'].value_counts()\n",
    "countries"
   ],
   "metadata": {
    "collapsed": false,
    "pycharm": {
     "name": "#%%\n"
    }
   }
  },
  {
   "cell_type": "code",
   "execution_count": null,
   "outputs": [],
   "source": [],
   "metadata": {
    "collapsed": false,
    "pycharm": {
     "name": "#%%\n"
    }
   }
  }
 ],
 "metadata": {
  "kernelspec": {
   "name": "python3",
   "language": "python",
   "display_name": "Python 3 (ipykernel)"
  },
  "language_info": {
   "codemirror_mode": {
    "name": "ipython",
    "version": 2
   },
   "file_extension": ".py",
   "mimetype": "text/x-python",
   "name": "python",
   "nbconvert_exporter": "python",
   "pygments_lexer": "ipython2",
   "version": "2.7.6"
  }
 },
 "nbformat": 4,
 "nbformat_minor": 0
}