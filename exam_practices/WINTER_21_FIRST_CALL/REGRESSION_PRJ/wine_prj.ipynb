{
 "cells": [
  {
   "cell_type": "code",
   "execution_count": 1,
   "metadata": {
    "collapsed": true
   },
   "outputs": [],
   "source": [
    "import os\n",
    "import numpy as np\n",
    "import pandas as pd\n",
    "import seaborn as sns\n",
    "import matplotlib.pyplot as plt\n",
    "from datetime import date\n",
    "\n",
    "from sklearn.model_selection import KFold\n",
    "from sklearn.model_selection import ParameterGrid\n",
    "from sklearn.model_selection import GridSearchCV\n",
    "from sklearn.model_selection import train_test_split\n",
    "\n",
    "from sklearn.preprocessing import FunctionTransformer, PolynomialFeatures\n",
    "from sklearn.compose import make_column_transformer\n",
    "from sklearn.ensemble import RandomForestRegressor\n",
    "from sklearn.linear_model import LinearRegression\n",
    "from sklearn.neural_network import MLPRegressor\n",
    "from sklearn.pipeline import make_pipeline\n",
    "from sklearn.linear_model import Ridge\n",
    "from sklearn.svm import SVR\n",
    "\n",
    "from sklearn.feature_extraction.text import TfidfVectorizer\n",
    "\n",
    "from sklearn.metrics import accuracy_score,\\\n",
    "                            confusion_matrix, \\\n",
    "                            precision_score, \\\n",
    "                            recall_score, \\\n",
    "                            f1_score, \\\n",
    "                            classification_report\n",
    "\n",
    "from sklearn.metrics import r2_score, \\\n",
    "                            mean_squared_error\n",
    "\n",
    "\n",
    "from prettytable import PrettyTable"
   ]
  },
  {
   "cell_type": "code",
   "execution_count": 2,
   "outputs": [
    {
     "name": "stdout",
     "output_type": "stream",
     "text": [
      "<class 'pandas.core.frame.DataFrame'>\n",
      "RangeIndex: 120744 entries, 0 to 120743\n",
      "Data columns (total 9 columns):\n",
      " #   Column       Non-Null Count   Dtype  \n",
      "---  ------       --------------   -----  \n",
      " 0   country      120739 non-null  object \n",
      " 1   description  120744 non-null  object \n",
      " 2   designation  84226 non-null   object \n",
      " 3   province     120739 non-null  object \n",
      " 4   region_1     100736 non-null  object \n",
      " 5   region_2     48736 non-null   object \n",
      " 6   variety      120744 non-null  object \n",
      " 7   winery       120744 non-null  object \n",
      " 8   quality      120744 non-null  float64\n",
      "dtypes: float64(1), object(8)\n",
      "memory usage: 8.3+ MB\n"
     ]
    }
   ],
   "source": [
    "dataset = pd.read_csv('./dev.tsv', sep='\\t', low_memory=False)\n",
    "dataset.info()"
   ],
   "metadata": {
    "collapsed": false,
    "pycharm": {
     "name": "#%%\n"
    }
   }
  },
  {
   "cell_type": "code",
   "execution_count": 3,
   "outputs": [
    {
     "data": {
      "text/plain": "    country                                        description  \\\n0    France  A creamed pear wine, with an attractive tang o...   \n1        US  Simple and dry, this Cabernet has modest black...   \n2        US  This lovely wine captures the floral, perfumed...   \n3  Portugal  The aromas are the thing here, as so often wit...   \n4     Italy  This is an interesting, outright strange wine ...   \n\n            designation        province           region_1           region_2  \\\n0  Brut Blanc de Blancs          Alsace   Crémant d'Alsace                NaN   \n1                   NaN      California        Paso Robles      Central Coast   \n2                   NaN          Oregon  Willamette Valley  Willamette Valley   \n3                   NaN      Alentejano                NaN                NaN   \n4                  Natì  Southern Italy          Pompeiano                NaN   \n\n              variety              winery  quality  \n0         Pinot Blanc     Lucien Albrecht     45.0  \n1  Cabernet Sauvignon         Castle Rock     31.0  \n2      Gewürztraminer      Château Bianca     35.0  \n3    Touriga Nacional  Herdade do Esporão     41.0  \n4       Coda di Volpe          Sorrentino     37.0  ",
      "text/html": "<div>\n<style scoped>\n    .dataframe tbody tr th:only-of-type {\n        vertical-align: middle;\n    }\n\n    .dataframe tbody tr th {\n        vertical-align: top;\n    }\n\n    .dataframe thead th {\n        text-align: right;\n    }\n</style>\n<table border=\"1\" class=\"dataframe\">\n  <thead>\n    <tr style=\"text-align: right;\">\n      <th></th>\n      <th>country</th>\n      <th>description</th>\n      <th>designation</th>\n      <th>province</th>\n      <th>region_1</th>\n      <th>region_2</th>\n      <th>variety</th>\n      <th>winery</th>\n      <th>quality</th>\n    </tr>\n  </thead>\n  <tbody>\n    <tr>\n      <th>0</th>\n      <td>France</td>\n      <td>A creamed pear wine, with an attractive tang o...</td>\n      <td>Brut Blanc de Blancs</td>\n      <td>Alsace</td>\n      <td>Crémant d'Alsace</td>\n      <td>NaN</td>\n      <td>Pinot Blanc</td>\n      <td>Lucien Albrecht</td>\n      <td>45.0</td>\n    </tr>\n    <tr>\n      <th>1</th>\n      <td>US</td>\n      <td>Simple and dry, this Cabernet has modest black...</td>\n      <td>NaN</td>\n      <td>California</td>\n      <td>Paso Robles</td>\n      <td>Central Coast</td>\n      <td>Cabernet Sauvignon</td>\n      <td>Castle Rock</td>\n      <td>31.0</td>\n    </tr>\n    <tr>\n      <th>2</th>\n      <td>US</td>\n      <td>This lovely wine captures the floral, perfumed...</td>\n      <td>NaN</td>\n      <td>Oregon</td>\n      <td>Willamette Valley</td>\n      <td>Willamette Valley</td>\n      <td>Gewürztraminer</td>\n      <td>Château Bianca</td>\n      <td>35.0</td>\n    </tr>\n    <tr>\n      <th>3</th>\n      <td>Portugal</td>\n      <td>The aromas are the thing here, as so often wit...</td>\n      <td>NaN</td>\n      <td>Alentejano</td>\n      <td>NaN</td>\n      <td>NaN</td>\n      <td>Touriga Nacional</td>\n      <td>Herdade do Esporão</td>\n      <td>41.0</td>\n    </tr>\n    <tr>\n      <th>4</th>\n      <td>Italy</td>\n      <td>This is an interesting, outright strange wine ...</td>\n      <td>Natì</td>\n      <td>Southern Italy</td>\n      <td>Pompeiano</td>\n      <td>NaN</td>\n      <td>Coda di Volpe</td>\n      <td>Sorrentino</td>\n      <td>37.0</td>\n    </tr>\n  </tbody>\n</table>\n</div>"
     },
     "execution_count": 3,
     "metadata": {},
     "output_type": "execute_result"
    }
   ],
   "source": [
    "dataset.head(5)"
   ],
   "metadata": {
    "collapsed": false,
    "pycharm": {
     "name": "#%%\n"
    }
   }
  },
  {
   "cell_type": "code",
   "execution_count": 4,
   "outputs": [
    {
     "data": {
      "text/plain": "country            5\ndescription        0\ndesignation    36518\nprovince           5\nregion_1       20008\nregion_2       72008\nvariety            0\nwinery             0\nquality            0\ndtype: int64"
     },
     "execution_count": 4,
     "metadata": {},
     "output_type": "execute_result"
    }
   ],
   "source": [
    "dataset.isna().sum()"
   ],
   "metadata": {
    "collapsed": false,
    "pycharm": {
     "name": "#%%\n"
    }
   }
  },
  {
   "cell_type": "code",
   "source": [
    "dataset.nunique()"
   ],
   "metadata": {
    "collapsed": false,
    "pycharm": {
     "name": "#%%\n"
    }
   },
   "execution_count": 5,
   "outputs": [
    {
     "data": {
      "text/plain": "country           48\ndescription    85005\ndesignation    27800\nprovince         444\nregion_1        1206\nregion_2          18\nvariety          603\nwinery         14105\nquality           86\ndtype: int64"
     },
     "execution_count": 5,
     "metadata": {},
     "output_type": "execute_result"
    }
   ]
  },
  {
   "cell_type": "code",
   "execution_count": 6,
   "outputs": [
    {
     "name": "stdout",
     "output_type": "stream",
     "text": [
      "<class 'pandas.core.frame.DataFrame'>\n",
      "Int64Index: 120739 entries, 0 to 120743\n",
      "Data columns (total 9 columns):\n",
      " #   Column       Non-Null Count   Dtype  \n",
      "---  ------       --------------   -----  \n",
      " 0   country      120739 non-null  object \n",
      " 1   description  120739 non-null  object \n",
      " 2   designation  84221 non-null   object \n",
      " 3   province     120739 non-null  object \n",
      " 4   region_1     100736 non-null  object \n",
      " 5   region_2     48736 non-null   object \n",
      " 6   variety      120739 non-null  object \n",
      " 7   winery       120739 non-null  object \n",
      " 8   quality      120739 non-null  float64\n",
      "dtypes: float64(1), object(8)\n",
      "memory usage: 9.2+ MB\n"
     ]
    }
   ],
   "source": [
    "dataset = dataset.dropna(subset=['country'])\n",
    "dataset.info()"
   ],
   "metadata": {
    "collapsed": false,
    "pycharm": {
     "name": "#%%\n"
    }
   }
  },
  {
   "cell_type": "code",
   "execution_count": 7,
   "outputs": [
    {
     "data": {
      "text/plain": "country            0\ndescription        0\ndesignation    36518\nprovince           0\nregion_1       20003\nregion_2       72003\nvariety            0\nwinery             0\nquality            0\ndtype: int64"
     },
     "execution_count": 7,
     "metadata": {},
     "output_type": "execute_result"
    }
   ],
   "source": [
    "dataset.isna().sum()"
   ],
   "metadata": {
    "collapsed": false,
    "pycharm": {
     "name": "#%%\n"
    }
   }
  },
  {
   "cell_type": "code",
   "execution_count": 8,
   "outputs": [
    {
     "data": {
      "text/plain": "35714"
     },
     "execution_count": 8,
     "metadata": {},
     "output_type": "execute_result"
    }
   ],
   "source": [
    "dataset.duplicated().sum()\n"
   ],
   "metadata": {
    "collapsed": false,
    "pycharm": {
     "name": "#%%\n"
    }
   }
  },
  {
   "cell_type": "markdown",
   "source": [
    "The original development set contains 35,716 duplicate\n",
    "objects. In this context the presence of duplicates is an\n",
    "artefact probably consequent to the merger of data coming\n",
    "from different sources, rather than an indication of frequently\n",
    "occurring patterns. Duplicates are a significative fraction of\n",
    "the development set and this may severely bias our model.\n",
    "For this reason we decide to discard them from our analysis\n",
    "keeping only the first occurrence of each objec"
   ],
   "metadata": {
    "collapsed": false,
    "pycharm": {
     "name": "#%% md\n"
    }
   }
  },
  {
   "cell_type": "code",
   "execution_count": 9,
   "outputs": [],
   "source": [
    "dataset_noDup = dataset.drop_duplicates()"
   ],
   "metadata": {
    "collapsed": false,
    "pycharm": {
     "name": "#%%\n"
    }
   }
  },
  {
   "cell_type": "code",
   "execution_count": 10,
   "outputs": [
    {
     "name": "stdout",
     "output_type": "stream",
     "text": [
      "<class 'pandas.core.frame.DataFrame'>\n",
      "Int64Index: 85025 entries, 0 to 120738\n",
      "Data columns (total 9 columns):\n",
      " #   Column       Non-Null Count  Dtype  \n",
      "---  ------       --------------  -----  \n",
      " 0   country      85025 non-null  object \n",
      " 1   description  85025 non-null  object \n",
      " 2   designation  59081 non-null  object \n",
      " 3   province     85025 non-null  object \n",
      " 4   region_1     71139 non-null  object \n",
      " 5   region_2     34294 non-null  object \n",
      " 6   variety      85025 non-null  object \n",
      " 7   winery       85025 non-null  object \n",
      " 8   quality      85025 non-null  float64\n",
      "dtypes: float64(1), object(8)\n",
      "memory usage: 6.5+ MB\n"
     ]
    }
   ],
   "source": [
    "dataset_noDup.info()"
   ],
   "metadata": {
    "collapsed": false,
    "pycharm": {
     "name": "#%%\n"
    }
   }
  },
  {
   "cell_type": "code",
   "execution_count": 11,
   "outputs": [
    {
     "data": {
      "text/plain": "country            0\ndescription        0\ndesignation    25944\nprovince           0\nregion_1       13886\nregion_2       50731\nvariety            0\nwinery             0\nquality            0\ndtype: int64"
     },
     "execution_count": 11,
     "metadata": {},
     "output_type": "execute_result"
    }
   ],
   "source": [
    "dataset_noDup.isna().sum()"
   ],
   "metadata": {
    "collapsed": false,
    "pycharm": {
     "name": "#%%\n"
    }
   }
  },
  {
   "cell_type": "code",
   "execution_count": 12,
   "outputs": [
    {
     "name": "stderr",
     "output_type": "stream",
     "text": [
      "<ipython-input-12-714f61490de4>:2: SettingWithCopyWarning: \n",
      "A value is trying to be set on a copy of a slice from a DataFrame.\n",
      "Try using .loc[row_indexer,col_indexer] = value instead\n",
      "\n",
      "See the caveats in the documentation: https://pandas.pydata.org/pandas-docs/stable/user_guide/indexing.html#returning-a-view-versus-a-copy\n",
      "  ds_desc['len'] = ds_desc.apply(len)\n"
     ]
    }
   ],
   "source": [
    "ds_desc = dataset_noDup[['description']]\n",
    "ds_desc['len'] = ds_desc.apply(len)"
   ],
   "metadata": {
    "collapsed": false,
    "pycharm": {
     "name": "#%%\n"
    }
   }
  },
  {
   "cell_type": "code",
   "execution_count": 13,
   "outputs": [
    {
     "name": "stderr",
     "output_type": "stream",
     "text": [
      "C:\\Users\\Ooweey\\AppData\\Local\\Programs\\Python\\Python39\\lib\\site-packages\\pandas\\core\\frame.py:4308: SettingWithCopyWarning: \n",
      "A value is trying to be set on a copy of a slice from a DataFrame\n",
      "\n",
      "See the caveats in the documentation: https://pandas.pydata.org/pandas-docs/stable/user_guide/indexing.html#returning-a-view-versus-a-copy\n",
      "  return super().drop(\n"
     ]
    }
   ],
   "source": [
    "ds_desc.drop(columns=['len'], inplace=True)"
   ],
   "metadata": {
    "collapsed": false,
    "pycharm": {
     "name": "#%%\n"
    }
   }
  },
  {
   "cell_type": "code",
   "execution_count": 14,
   "outputs": [
    {
     "name": "stderr",
     "output_type": "stream",
     "text": [
      "<ipython-input-14-af840419318d>:13: SettingWithCopyWarning: \n",
      "A value is trying to be set on a copy of a slice from a DataFrame.\n",
      "Try using .loc[row_indexer,col_indexer] = value instead\n",
      "\n",
      "See the caveats in the documentation: https://pandas.pydata.org/pandas-docs/stable/user_guide/indexing.html#returning-a-view-versus-a-copy\n",
      "  dataset[new_col] = dataset[col].map(conversion)\n"
     ]
    }
   ],
   "source": [
    "\n",
    "def get_columns():\n",
    "    return ['country', 'province', 'variety', 'winery']\n",
    "\n",
    "def categorical_handled(dataset):\n",
    "\n",
    "    new_cols = []\n",
    "\n",
    "    for col in get_columns():\n",
    "        new_col = col+'_mean'\n",
    "        new_cols.append(new_col)\n",
    "\n",
    "        conversion = dataset.groupby([col])['quality'].mean().to_dict()\n",
    "        dataset[new_col] = dataset[col].map(conversion)\n",
    "\n",
    "    new_cols.append('description')\n",
    "    new_cols.append('quality')\n",
    "\n",
    "    return dataset[new_cols]\n",
    "\n",
    "conv_dataset = categorical_handled(dataset_noDup)\n"
   ],
   "metadata": {
    "collapsed": false,
    "pycharm": {
     "name": "#%%\n"
    }
   }
  },
  {
   "cell_type": "code",
   "execution_count": 15,
   "outputs": [],
   "source": [
    "# country_prob = dataset.groupby(['country'])['quality'].mean().to_dict()\n",
    "#\n",
    "# dataset['country_mean'] = dataset['country'].map(country_prob)\n",
    "#\n",
    "# print(dataset[['country', 'country_mean']].head())\n",
    "#\n",
    "# dataset['country_mean'] = dataset['country_mean'].round(2)\n",
    "# dataset['country_mean'].head(10)\n",
    "#\n",
    "# print(dataset.isna().sum())"
   ],
   "metadata": {
    "collapsed": false,
    "pycharm": {
     "name": "#%%\n"
    }
   }
  },
  {
   "cell_type": "code",
   "execution_count": 16,
   "outputs": [
    {
     "data": {
      "text/plain": "country_mean     0\nprovince_mean    0\nvariety_mean     0\nwinery_mean      0\ndescription      0\nquality          0\ndtype: int64"
     },
     "execution_count": 16,
     "metadata": {},
     "output_type": "execute_result"
    }
   ],
   "source": [
    "conv_dataset.isna().sum()"
   ],
   "metadata": {
    "collapsed": false,
    "pycharm": {
     "name": "#%%\n"
    }
   }
  },
  {
   "cell_type": "code",
   "execution_count": 17,
   "outputs": [
    {
     "data": {
      "text/plain": "<seaborn.axisgrid.FacetGrid at 0x1a2b0542910>"
     },
     "execution_count": 17,
     "metadata": {},
     "output_type": "execute_result"
    },
    {
     "data": {
      "text/plain": "<Figure size 360x360 with 1 Axes>",
      "image/png": "[encoded data removed]"
     },
     "metadata": {
      "needs_background": "light"
     },
     "output_type": "display_data"
    }
   ],
   "source": [
    "sns.displot(conv_dataset, x=\"quality\",binwidth=3)"
   ],
   "metadata": {
    "collapsed": false,
    "pycharm": {
     "name": "#%%\n"
    }
   }
  },
  {
   "cell_type": "code",
   "execution_count": 18,
   "outputs": [],
   "source": [
    "descs = conv_dataset['description'][:5]"
   ],
   "metadata": {
    "collapsed": false,
    "pycharm": {
     "name": "#%%\n"
    }
   }
  },
  {
   "cell_type": "code",
   "execution_count": 19,
   "outputs": [
    {
     "name": "stdout",
     "output_type": "stream",
     "text": [
      "184\n",
      "A creamed pear wine, with an attractive tang of orange zest. It is light, bright, vibrant, very fruity. The acidity does seem to be excessive, so give this wine a few months in bottle.\n"
     ]
    }
   ],
   "source": [
    "print(len(descs[0]))\n",
    "print(descs[0])"
   ],
   "metadata": {
    "collapsed": false,
    "pycharm": {
     "name": "#%%\n"
    }
   }
  },
  {
   "cell_type": "code",
   "execution_count": 20,
   "outputs": [],
   "source": [
    "import string\n",
    "\n",
    "exclist = string.punctuation + string.digits\n",
    "table = str.maketrans('', '', exclist)\n",
    "\n",
    "def remove_punct(texts):\n",
    "    # print(texts)\n",
    "    for i, text in enumerate(texts):\n",
    "        texts = texts.translate(table)\n",
    "\n",
    "    return texts"
   ],
   "metadata": {
    "collapsed": false,
    "pycharm": {
     "name": "#%%\n"
    }
   }
  },
  {
   "cell_type": "code",
   "execution_count": 21,
   "outputs": [
    {
     "name": "stdout",
     "output_type": "stream",
     "text": [
      "a creamed pear wine, with an attractive tang of orange zest. it is light, bright, vibrant, very fruity. the acidity does seem to be excessive, so give this wine a few months in bottle. \n",
      " 184\n",
      "a creamed pear wine, with an attractive tang of orange zest. it is light, bright, vibrant, very fruity. the acidity does seem to be excessive, so give this wine a few months in bottle. \n",
      " 184\n"
     ]
    }
   ],
   "source": [
    "\n",
    "import nltk\n",
    "\n",
    "from nltk.tokenize import word_tokenize\n",
    "from nltk.probability import FreqDist\n",
    "from nltk.corpus import stopwords\n",
    "\n",
    "stop_words = stopwords.words(\"english\")\n",
    "# print(stop_words,'\\n')\n",
    "\n",
    "descs = descs.str.lower()\n",
    "print(descs[0],'\\n', len(descs[0]))\n",
    "\n",
    "# descs = remove_punct(descs)\n",
    "print(descs[0],'\\n', len(descs[0]))"
   ],
   "metadata": {
    "collapsed": false,
    "pycharm": {
     "name": "#%%\n"
    }
   }
  },
  {
   "cell_type": "code",
   "execution_count": 22,
   "outputs": [],
   "source": [
    "tokenized_sent = []\n",
    "\n",
    "for desc in descs:\n",
    "    asd = word_tokenize(desc)\n",
    "    # print(asd)\n",
    "    tokenized_sent.append(asd)"
   ],
   "metadata": {
    "collapsed": false,
    "pycharm": {
     "name": "#%%\n"
    }
   }
  },
  {
   "cell_type": "code",
   "execution_count": 23,
   "outputs": [
    {
     "name": "stdout",
     "output_type": "stream",
     "text": [
      "Tokenized Sentence: ['a', 'creamed', 'pear', 'wine', ',', 'with', 'an', 'attractive', 'tang', 'of', 'orange', 'zest', '.', 'it', 'is', 'light', ',', 'bright', ',', 'vibrant', ',', 'very', 'fruity', '.', 'the', 'acidity', 'does', 'seem', 'to', 'be', 'excessive', ',', 'so', 'give', 'this', 'wine', 'a', 'few', 'months', 'in', 'bottle', '.']\n",
      "Filterd Sentence: ['creamed', 'pear', 'wine', ',', 'attractive', 'tang', 'orange', 'zest', '.', 'light', ',', 'bright', ',', 'vibrant', ',', 'fruity', '.', 'acidity', 'seem', 'excessive', ',', 'give', 'wine', 'months', 'bottle', '.']\n"
     ]
    }
   ],
   "source": [
    "''' filtering stopwords '''\n",
    "filtered_sent=[]\n",
    "for phrase in tokenized_sent:\n",
    "    filt_phr = []\n",
    "\n",
    "    for w in phrase:\n",
    "        if w not in stop_words:\n",
    "            filt_phr.append(w)\n",
    "\n",
    "    filtered_sent.append(filt_phr)\n",
    "\n",
    "print(\"Tokenized Sentence:\",tokenized_sent[0])\n",
    "print(\"Filterd Sentence:\",filtered_sent[0])"
   ],
   "metadata": {
    "collapsed": false,
    "pycharm": {
     "name": "#%%\n"
    }
   }
  },
  {
   "cell_type": "code",
   "execution_count": 24,
   "outputs": [
    {
     "ename": "KeyboardInterrupt",
     "evalue": "",
     "output_type": "error",
     "traceback": [
      "\u001B[1;31m---------------------------------------------------------------------------\u001B[0m",
      "\u001B[1;31mKeyboardInterrupt\u001B[0m                         Traceback (most recent call last)",
      "\u001B[1;32m<ipython-input-24-3486a0089b1c>\u001B[0m in \u001B[0;36m<module>\u001B[1;34m\u001B[0m\n\u001B[0;32m     10\u001B[0m     \u001B[1;32mreturn\u001B[0m \u001B[0mfilt_ph\u001B[0m\u001B[1;33m\u001B[0m\u001B[1;33m\u001B[0m\u001B[0m\n\u001B[0;32m     11\u001B[0m \u001B[1;33m\u001B[0m\u001B[0m\n\u001B[1;32m---> 12\u001B[1;33m \u001B[0mconv_dataset\u001B[0m\u001B[1;33m[\u001B[0m\u001B[1;34m'description'\u001B[0m\u001B[1;33m]\u001B[0m \u001B[1;33m=\u001B[0m \u001B[0mconv_dataset\u001B[0m\u001B[1;33m[\u001B[0m\u001B[1;34m'description'\u001B[0m\u001B[1;33m]\u001B[0m\u001B[1;33m.\u001B[0m\u001B[0mapply\u001B[0m\u001B[1;33m(\u001B[0m\u001B[0mtext_preproc\u001B[0m\u001B[1;33m)\u001B[0m\u001B[1;33m\u001B[0m\u001B[1;33m\u001B[0m\u001B[0m\n\u001B[0m\u001B[0;32m     13\u001B[0m \u001B[1;33m\u001B[0m\u001B[0m\n",
      "\u001B[1;32m~\\AppData\\Local\\Programs\\Python\\Python39\\lib\\site-packages\\pandas\\core\\series.py\u001B[0m in \u001B[0;36mapply\u001B[1;34m(self, func, convert_dtype, args, **kwds)\u001B[0m\n\u001B[0;32m   4136\u001B[0m             \u001B[1;32melse\u001B[0m\u001B[1;33m:\u001B[0m\u001B[1;33m\u001B[0m\u001B[1;33m\u001B[0m\u001B[0m\n\u001B[0;32m   4137\u001B[0m                 \u001B[0mvalues\u001B[0m \u001B[1;33m=\u001B[0m \u001B[0mself\u001B[0m\u001B[1;33m.\u001B[0m\u001B[0mastype\u001B[0m\u001B[1;33m(\u001B[0m\u001B[0mobject\u001B[0m\u001B[1;33m)\u001B[0m\u001B[1;33m.\u001B[0m\u001B[0m_values\u001B[0m\u001B[1;33m\u001B[0m\u001B[1;33m\u001B[0m\u001B[0m\n\u001B[1;32m-> 4138\u001B[1;33m                 \u001B[0mmapped\u001B[0m \u001B[1;33m=\u001B[0m \u001B[0mlib\u001B[0m\u001B[1;33m.\u001B[0m\u001B[0mmap_infer\u001B[0m\u001B[1;33m(\u001B[0m\u001B[0mvalues\u001B[0m\u001B[1;33m,\u001B[0m \u001B[0mf\u001B[0m\u001B[1;33m,\u001B[0m \u001B[0mconvert\u001B[0m\u001B[1;33m=\u001B[0m\u001B[0mconvert_dtype\u001B[0m\u001B[1;33m)\u001B[0m\u001B[1;33m\u001B[0m\u001B[1;33m\u001B[0m\u001B[0m\n\u001B[0m\u001B[0;32m   4139\u001B[0m \u001B[1;33m\u001B[0m\u001B[0m\n\u001B[0;32m   4140\u001B[0m         \u001B[1;32mif\u001B[0m \u001B[0mlen\u001B[0m\u001B[1;33m(\u001B[0m\u001B[0mmapped\u001B[0m\u001B[1;33m)\u001B[0m \u001B[1;32mand\u001B[0m \u001B[0misinstance\u001B[0m\u001B[1;33m(\u001B[0m\u001B[0mmapped\u001B[0m\u001B[1;33m[\u001B[0m\u001B[1;36m0\u001B[0m\u001B[1;33m]\u001B[0m\u001B[1;33m,\u001B[0m \u001B[0mSeries\u001B[0m\u001B[1;33m)\u001B[0m\u001B[1;33m:\u001B[0m\u001B[1;33m\u001B[0m\u001B[1;33m\u001B[0m\u001B[0m\n",
      "\u001B[1;32mpandas\\_libs\\lib.pyx\u001B[0m in \u001B[0;36mpandas._libs.lib.map_infer\u001B[1;34m()\u001B[0m\n",
      "\u001B[1;32m<ipython-input-24-3486a0089b1c>\u001B[0m in \u001B[0;36mtext_preproc\u001B[1;34m(phrase)\u001B[0m\n\u001B[0;32m      2\u001B[0m     \u001B[0mfilt_ph\u001B[0m \u001B[1;33m=\u001B[0m \u001B[1;33m[\u001B[0m\u001B[1;33m]\u001B[0m\u001B[1;33m\u001B[0m\u001B[1;33m\u001B[0m\u001B[0m\n\u001B[0;32m      3\u001B[0m \u001B[1;33m\u001B[0m\u001B[0m\n\u001B[1;32m----> 4\u001B[1;33m     \u001B[0mphrase\u001B[0m \u001B[1;33m=\u001B[0m \u001B[0mword_tokenize\u001B[0m\u001B[1;33m(\u001B[0m\u001B[0mremove_punct\u001B[0m\u001B[1;33m(\u001B[0m\u001B[0mphrase\u001B[0m\u001B[1;33m)\u001B[0m\u001B[1;33m.\u001B[0m\u001B[0mlower\u001B[0m\u001B[1;33m(\u001B[0m\u001B[1;33m)\u001B[0m\u001B[1;33m)\u001B[0m\u001B[1;33m\u001B[0m\u001B[1;33m\u001B[0m\u001B[0m\n\u001B[0m\u001B[0;32m      5\u001B[0m \u001B[1;33m\u001B[0m\u001B[0m\n\u001B[0;32m      6\u001B[0m     \u001B[1;32mfor\u001B[0m \u001B[0mw\u001B[0m \u001B[1;32min\u001B[0m \u001B[0mphrase\u001B[0m\u001B[1;33m:\u001B[0m\u001B[1;33m\u001B[0m\u001B[1;33m\u001B[0m\u001B[0m\n",
      "\u001B[1;32m<ipython-input-20-a8f87a1018ad>\u001B[0m in \u001B[0;36mremove_punct\u001B[1;34m(texts)\u001B[0m\n\u001B[0;32m      7\u001B[0m     \u001B[1;31m# print(texts)\u001B[0m\u001B[1;33m\u001B[0m\u001B[1;33m\u001B[0m\u001B[1;33m\u001B[0m\u001B[0m\n\u001B[0;32m      8\u001B[0m     \u001B[1;32mfor\u001B[0m \u001B[0mi\u001B[0m\u001B[1;33m,\u001B[0m \u001B[0mtext\u001B[0m \u001B[1;32min\u001B[0m \u001B[0menumerate\u001B[0m\u001B[1;33m(\u001B[0m\u001B[0mtexts\u001B[0m\u001B[1;33m)\u001B[0m\u001B[1;33m:\u001B[0m\u001B[1;33m\u001B[0m\u001B[1;33m\u001B[0m\u001B[0m\n\u001B[1;32m----> 9\u001B[1;33m         \u001B[0mtexts\u001B[0m \u001B[1;33m=\u001B[0m \u001B[0mtexts\u001B[0m\u001B[1;33m.\u001B[0m\u001B[0mtranslate\u001B[0m\u001B[1;33m(\u001B[0m\u001B[0mtable\u001B[0m\u001B[1;33m)\u001B[0m\u001B[1;33m\u001B[0m\u001B[1;33m\u001B[0m\u001B[0m\n\u001B[0m\u001B[0;32m     10\u001B[0m \u001B[1;33m\u001B[0m\u001B[0m\n\u001B[0;32m     11\u001B[0m     \u001B[1;32mreturn\u001B[0m \u001B[0mtexts\u001B[0m\u001B[1;33m\u001B[0m\u001B[1;33m\u001B[0m\u001B[0m\n",
      "\u001B[1;31mKeyboardInterrupt\u001B[0m: "
     ]
    }
   ],
   "source": [
    "\n",
    "def text_preproc(phrase):\n",
    "    filt_ph = []\n",
    "\n",
    "    phrase = word_tokenize(remove_punct(phrase).lower())\n",
    "\n",
    "    for w in phrase:\n",
    "        if w not in stop_words:\n",
    "            filt_ph.append(w)\n",
    "\n",
    "    return filt_ph\n",
    "\n",
    "conv_dataset['description'] = conv_dataset['description'].apply(text_preproc)"
   ],
   "metadata": {
    "collapsed": false,
    "pycharm": {
     "name": "#%%\n"
    }
   }
  },
  {
   "cell_type": "code",
   "execution_count": null,
   "outputs": [],
   "source": [
    "nltk.download('wordnet')\n",
    "nltk.download('averaged_perceptron_tagger')\n",
    "from nltk.tag import pos_tag\n",
    "from nltk.stem.wordnet import WordNetLemmatizer\n",
    "\n",
    "def lemmatize_sentence(tokens):\n",
    "    lemmatizer = WordNetLemmatizer()\n",
    "    lemmatized_sentence = []\n",
    "    for word, tag in pos_tag(tokens):\n",
    "        if tag.startswith('NN'):\n",
    "            pos = 'n'\n",
    "        elif tag.startswith('VB'):\n",
    "            pos = 'v'\n",
    "        else:\n",
    "            pos = 'a'\n",
    "        lemmatized_sentence.append(lemmatizer.lemmatize(word, pos))\n",
    "    return lemmatized_sentence\n",
    "\n",
    "conv_dataset['description'] = conv_dataset['description'].apply(lemmatize_sentence)"
   ],
   "metadata": {
    "collapsed": false,
    "pycharm": {
     "name": "#%%\n"
    }
   }
  },
  {
   "cell_type": "code",
   "execution_count": null,
   "outputs": [],
   "source": [
    "desc_prep = conv_dataset[['description']]"
   ],
   "metadata": {
    "collapsed": false,
    "pycharm": {
     "name": "#%%\n",
     "is_executing": true
    }
   }
  },
  {
   "cell_type": "code",
   "execution_count": null,
   "outputs": [],
   "source": [
    "desc_prep['lenght'] = desc_prep['description'].apply(len)"
   ],
   "metadata": {
    "collapsed": false,
    "pycharm": {
     "name": "#%%\n",
     "is_executing": true
    }
   }
  },
  {
   "cell_type": "code",
   "execution_count": null,
   "outputs": [],
   "source": [
    "ds_desc['description'] = ds_desc['description'].str.lower()"
   ],
   "metadata": {
    "collapsed": false,
    "pycharm": {
     "name": "#%%\n",
     "is_executing": true
    }
   }
  },
  {
   "cell_type": "code",
   "execution_count": null,
   "outputs": [],
   "source": [
    "ds_desc['description'] = ds_desc['description'].apply(remove_punct)"
   ],
   "metadata": {
    "collapsed": false,
    "pycharm": {
     "name": "#%%\n",
     "is_executing": true
    }
   }
  },
  {
   "cell_type": "code",
   "execution_count": null,
   "outputs": [],
   "source": [
    "from sklearn.feature_extraction.text import TfidfVectorizer\n",
    "\n",
    "vectorizer = TfidfVectorizer(ngram_range=(1,3))\n",
    "\n",
    "X_tfidf = vectorizer.fit_transform(ds_desc['description'])"
   ],
   "metadata": {
    "collapsed": false,
    "pycharm": {
     "name": "#%%\n",
     "is_executing": true
    }
   }
  },
  {
   "cell_type": "code",
   "execution_count": null,
   "outputs": [],
   "source": [
    "from sklearn.feature_extraction import DictVectorizer"
   ],
   "metadata": {
    "collapsed": false,
    "pycharm": {
     "name": "#%%\n",
     "is_executing": true
    }
   }
  }
 ],
 "metadata": {
  "kernelspec": {
   "name": "pycharm-9f4e7ab1",
   "language": "python",
   "display_name": "PyCharm (gpt_eval_repl)"
  },
  "language_info": {
   "codemirror_mode": {
    "name": "ipython",
    "version": 2
   },
   "file_extension": ".py",
   "mimetype": "text/x-python",
   "name": "python",
   "nbconvert_exporter": "python",
   "pygments_lexer": "ipython2",
   "version": "2.7.6"
  }
 },
 "nbformat": 4,
 "nbformat_minor": 0
}