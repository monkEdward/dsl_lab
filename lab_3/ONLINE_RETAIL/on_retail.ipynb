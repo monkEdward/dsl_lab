{
 "cells": [
  {
   "cell_type": "code",
   "execution_count": 32,
   "metadata": {
    "collapsed": true
   },
   "outputs": [],
   "source": [
    "import csv\n",
    "from collections import defaultdict"
   ]
  },
  {
   "cell_type": "code",
   "execution_count": 33,
   "outputs": [],
   "source": [
    "rows = []\n",
    "\n",
    "with open('online_retail.csv') as retail:\n",
    "    for row in csv.reader(retail):\n",
    "\n",
    "        if len(row) != 8:\n",
    "            continue\n",
    "        rows.append(row)"
   ],
   "metadata": {
    "collapsed": false,
    "pycharm": {
     "name": "#%%\n"
    }
   }
  },
  {
   "cell_type": "code",
   "execution_count": 34,
   "outputs": [],
   "source": [
    "labels = [el.lower() for el in rows[0]]\n",
    "# print(rows[0], '\\n', rows[1])\n",
    "del rows[0]"
   ],
   "metadata": {
    "collapsed": false,
    "pycharm": {
     "name": "#%%\n"
    }
   }
  },
  {
   "cell_type": "code",
   "execution_count": 35,
   "outputs": [
    {
     "name": "stdout",
     "output_type": "stream",
     "text": [
      "541909\n",
      "536442\n"
     ]
    }
   ],
   "source": [
    "print(len(rows))\n",
    "\n",
    "for i, row in enumerate(rows):\n",
    "    if row[0].startswith('C'):\n",
    "        del rows[i]\n",
    "\n",
    "print(len(rows))"
   ],
   "metadata": {
    "collapsed": false,
    "pycharm": {
     "name": "#%%\n"
    }
   }
  },
  {
   "cell_type": "code",
   "execution_count": 36,
   "outputs": [],
   "source": [
    "invoice_aggregation = defaultdict(lambda : set())\n",
    "\n",
    "for invoice in rows:\n",
    "    invoice_aggregation[invoice[0]].add(invoice[2])"
   ],
   "metadata": {
    "collapsed": false,
    "pycharm": {
     "name": "#%%\n"
    }
   }
  },
  {
   "cell_type": "code",
   "execution_count": 36,
   "outputs": [],
   "source": [
    "all_items = set()\n",
    "\n",
    "for el in invoice_aggregation.values():\n",
    "    all_items.add(el)\n"
   ],
   "metadata": {
    "collapsed": false,
    "pycharm": {
     "name": "#%%\n"
    }
   }
  }
 ],
 "metadata": {
  "kernelspec": {
   "display_name": "Python 3",
   "language": "python",
   "name": "python3"
  },
  "language_info": {
   "codemirror_mode": {
    "name": "ipython",
    "version": 2
   },
   "file_extension": ".py",
   "mimetype": "text/x-python",
   "name": "python",
   "nbconvert_exporter": "python",
   "pygments_lexer": "ipython2",
   "version": "2.7.6"
  }
 },
 "nbformat": 4,
 "nbformat_minor": 0
}