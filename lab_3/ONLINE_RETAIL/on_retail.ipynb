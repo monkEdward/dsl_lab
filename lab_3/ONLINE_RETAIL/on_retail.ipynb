{
 "cells": [
  {
   "cell_type": "code",
   "execution_count": 49,
   "metadata": {
    "collapsed": true
   },
   "outputs": [],
   "source": [
    "import csv\n",
    "from collections import defaultdict\n",
    "import pandas as pd\n",
    "from mlxtend.frequent_patterns import fpgrowth"
   ]
  },
  {
   "cell_type": "code",
   "execution_count": 33,
   "outputs": [],
   "source": [
    "rows = []\n",
    "\n",
    "with open('online_retail.csv') as retail:\n",
    "    for row in csv.reader(retail):\n",
    "\n",
    "        if len(row) != 8:\n",
    "            continue\n",
    "        rows.append(row)"
   ],
   "metadata": {
    "collapsed": false,
    "pycharm": {
     "name": "#%%\n"
    }
   }
  },
  {
   "cell_type": "code",
   "execution_count": 34,
   "outputs": [],
   "source": [
    "labels = [el.lower() for el in rows[0]]\n",
    "# print(rows[0], '\\n', rows[1])\n",
    "del rows[0]"
   ],
   "metadata": {
    "collapsed": false,
    "pycharm": {
     "name": "#%%\n"
    }
   }
  },
  {
   "cell_type": "code",
   "execution_count": 35,
   "outputs": [
    {
     "name": "stdout",
     "output_type": "stream",
     "text": [
      "541909\n",
      "536442\n"
     ]
    }
   ],
   "source": [
    "print(len(rows))\n",
    "\n",
    "for i, row in enumerate(rows):\n",
    "    if row[0].startswith('C'):\n",
    "        del rows[i]\n",
    "\n",
    "print(len(rows))"
   ],
   "metadata": {
    "collapsed": false,
    "pycharm": {
     "name": "#%%\n"
    }
   }
  },
  {
   "cell_type": "code",
   "execution_count": 36,
   "outputs": [],
   "source": [
    "invoice_aggregation = defaultdict(lambda : set())\n",
    "\n",
    "for invoice in rows:\n",
    "    invoice_aggregation[invoice[0]].add(invoice[2])"
   ],
   "metadata": {
    "collapsed": false,
    "pycharm": {
     "name": "#%%\n"
    }
   }
  },
  {
   "cell_type": "code",
   "execution_count": 38,
   "outputs": [],
   "source": [
    "all_items = set()\n",
    "\n",
    "for el in invoice_aggregation.values():\n",
    "    all_items.update(el)\n",
    "\n",
    "all_items = sorted(list(all_items))"
   ],
   "metadata": {
    "collapsed": false,
    "pycharm": {
     "name": "#%%\n"
    }
   }
  },
  {
   "cell_type": "code",
   "execution_count": 43,
   "outputs": [],
   "source": [
    "presence_matrix = [[int(item in invoice) for item in all_items] for invoice in invoice_aggregation.values()]"
   ],
   "metadata": {
    "collapsed": false,
    "pycharm": {
     "name": "#%%\n"
    }
   }
  },
  {
   "cell_type": "code",
   "execution_count": 44,
   "outputs": [],
   "source": [
    "# another more efficient version\n",
    "def get_presence_matrix(invoices, all_items):\n",
    "    item_pos_dict = { k: v for v, k in enumerate(all_items) }\n",
    "    presence_matrix = []\n",
    "    for invoice in invoices.values():\n",
    "        row = [0] * len(all_items)\n",
    "        for item in invoice:\n",
    "            row[item_pos_dict[item]] = 1\n",
    "        presence_matrix.append(row)\n",
    "    return presence_matrix\n",
    "\n",
    "presence_matrix_v2 = get_presence_matrix(invoice_aggregation, all_items)"
   ],
   "metadata": {
    "collapsed": false,
    "pycharm": {
     "name": "#%%\n"
    }
   }
  },
  {
   "cell_type": "code",
   "execution_count": 47,
   "outputs": [
    {
     "data": {
      "text/plain": "4214"
     },
     "execution_count": 47,
     "metadata": {},
     "output_type": "execute_result"
    }
   ],
   "source": [
    "len(presence_matrix_v2[0])"
   ],
   "metadata": {
    "collapsed": false,
    "pycharm": {
     "name": "#%%\n"
    }
   }
  },
  {
   "cell_type": "code",
   "execution_count": 48,
   "outputs": [],
   "source": [
    "df = pd.DataFrame(data=presence_matrix_v2, columns=all_items)"
   ],
   "metadata": {
    "collapsed": false,
    "pycharm": {
     "name": "#%%\n"
    }
   }
  },
  {
   "cell_type": "code",
   "execution_count": 50,
   "outputs": [
    {
     "name": "stdout",
     "output_type": "stream",
     "text": [
      "0.5 => 0\n",
      "0.1 => 0\n",
      "0.05 => 12\n",
      "0.02 => 239\n",
      "0.01 => 1173\n"
     ]
    }
   ],
   "source": [
    "\n",
    "for minsup in [0.5, 0.1, 0.05, 0.02, 0.01]:\n",
    "    freq_items = fpgrowth(df, minsup)\n",
    "    print(f'{minsup} => {len(freq_items)}')\n",
    "\n",
    "# Notice how there is no frequent itemset that shows up in 50% of the transactions.\n",
    "# Instead, there is an itemset that shows up in 10% of the transactions. Let's see what it is."
   ],
   "metadata": {
    "collapsed": false,
    "pycharm": {
     "name": "#%%\n"
    }
   }
  },
  {
   "cell_type": "code",
   "execution_count": 53,
   "outputs": [
    {
     "data": {
      "text/plain": "    support itemsets\n0  0.093885   (3910)",
      "text/html": "<div>\n<style scoped>\n    .dataframe tbody tr th:only-of-type {\n        vertical-align: middle;\n    }\n\n    .dataframe tbody tr th {\n        vertical-align: top;\n    }\n\n    .dataframe thead th {\n        text-align: right;\n    }\n</style>\n<table border=\"1\" class=\"dataframe\">\n  <thead>\n    <tr style=\"text-align: right;\">\n      <th></th>\n      <th>support</th>\n      <th>itemsets</th>\n    </tr>\n  </thead>\n  <tbody>\n    <tr>\n      <th>0</th>\n      <td>0.093885</td>\n      <td>(3910)</td>\n    </tr>\n  </tbody>\n</table>\n</div>"
     },
     "execution_count": 53,
     "metadata": {},
     "output_type": "execute_result"
    }
   ],
   "source": [
    "fpgrowth(df, 0.09)"
   ],
   "metadata": {
    "collapsed": false,
    "pycharm": {
     "name": "#%%\n"
    }
   }
  },
  {
   "cell_type": "code",
   "execution_count": 54,
   "outputs": [
    {
     "data": {
      "text/plain": "'WHITE HANGING HEART T-LIGHT HOLDER'"
     },
     "execution_count": 54,
     "metadata": {},
     "output_type": "execute_result"
    }
   ],
   "source": [
    "all_items[3910]"
   ],
   "metadata": {
    "collapsed": false,
    "pycharm": {
     "name": "#%%\n"
    }
   }
  },
  {
   "cell_type": "code",
   "execution_count": 55,
   "outputs": [
    {
     "data": {
      "text/plain": "9.388547128524834"
     },
     "execution_count": 55,
     "metadata": {},
     "output_type": "execute_result"
    }
   ],
   "source": [
    "# Let's make sure that it really appears in at least 10% of the transactions by counting\n",
    "# the number of transactions containing it.\n",
    "# We can access df.values to extract a the Numpy matrix behind the DataFrame we just built.\n",
    "\n",
    "100 * df.values[:, 3910].sum() / len(df)"
   ],
   "metadata": {
    "collapsed": false,
    "pycharm": {
     "name": "#%%\n"
    }
   }
  }
 ],
 "metadata": {
  "kernelspec": {
   "display_name": "Python 3",
   "language": "python",
   "name": "python3"
  },
  "language_info": {
   "codemirror_mode": {
    "name": "ipython",
    "version": 2
   },
   "file_extension": ".py",
   "mimetype": "text/x-python",
   "name": "python",
   "nbconvert_exporter": "python",
   "pygments_lexer": "ipython2",
   "version": "2.7.6"
  }
 },
 "nbformat": 4,
 "nbformat_minor": 0
}