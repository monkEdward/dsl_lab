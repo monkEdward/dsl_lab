{
 "cells": [
  {
   "cell_type": "code",
   "execution_count": 61,
   "metadata": {
    "collapsed": true
   },
   "outputs": [],
   "source": [
    "import csv\n",
    "from collections import defaultdict\n",
    "import pandas as pd\n",
    "from mlxtend.frequent_patterns import fpgrowth, association_rules\n",
    "from mlxtend.frequent_patterns import apriori\n",
    "from timeit import timeit"
   ]
  },
  {
   "cell_type": "code",
   "execution_count": 33,
   "outputs": [],
   "source": [
    "rows = []\n",
    "\n",
    "with open('online_retail.csv') as retail:\n",
    "    for row in csv.reader(retail):\n",
    "\n",
    "        if len(row) != 8:\n",
    "            continue\n",
    "        rows.append(row)"
   ],
   "metadata": {
    "collapsed": false,
    "pycharm": {
     "name": "#%%\n"
    }
   }
  },
  {
   "cell_type": "code",
   "execution_count": 34,
   "outputs": [],
   "source": [
    "labels = [el.lower() for el in rows[0]]\n",
    "# print(rows[0], '\\n', rows[1])\n",
    "del rows[0]"
   ],
   "metadata": {
    "collapsed": false,
    "pycharm": {
     "name": "#%%\n"
    }
   }
  },
  {
   "cell_type": "code",
   "execution_count": 35,
   "outputs": [
    {
     "name": "stdout",
     "output_type": "stream",
     "text": [
      "541909\n",
      "536442\n"
     ]
    }
   ],
   "source": [
    "print(len(rows))\n",
    "\n",
    "for i, row in enumerate(rows):\n",
    "    if row[0].startswith('C'):\n",
    "        del rows[i]\n",
    "\n",
    "print(len(rows))"
   ],
   "metadata": {
    "collapsed": false,
    "pycharm": {
     "name": "#%%\n"
    }
   }
  },
  {
   "cell_type": "code",
   "execution_count": 36,
   "outputs": [],
   "source": [
    "invoice_aggregation = defaultdict(lambda : set())\n",
    "\n",
    "for invoice in rows:\n",
    "    invoice_aggregation[invoice[0]].add(invoice[2])"
   ],
   "metadata": {
    "collapsed": false,
    "pycharm": {
     "name": "#%%\n"
    }
   }
  },
  {
   "cell_type": "code",
   "execution_count": 38,
   "outputs": [],
   "source": [
    "all_items = set()\n",
    "\n",
    "for el in invoice_aggregation.values():\n",
    "    all_items.update(el)\n",
    "\n",
    "all_items = sorted(list(all_items))"
   ],
   "metadata": {
    "collapsed": false,
    "pycharm": {
     "name": "#%%\n"
    }
   }
  },
  {
   "cell_type": "code",
   "execution_count": 43,
   "outputs": [],
   "source": [
    "presence_matrix = [[int(item in invoice) for item in all_items] for invoice in invoice_aggregation.values()]"
   ],
   "metadata": {
    "collapsed": false,
    "pycharm": {
     "name": "#%%\n"
    }
   }
  },
  {
   "cell_type": "code",
   "execution_count": 44,
   "outputs": [],
   "source": [
    "# another more efficient version\n",
    "def get_presence_matrix(invoices, all_items):\n",
    "    item_pos_dict = { k: v for v, k in enumerate(all_items) }\n",
    "    presence_matrix = []\n",
    "    for invoice in invoices.values():\n",
    "        row = [0] * len(all_items)\n",
    "        for item in invoice:\n",
    "            row[item_pos_dict[item]] = 1\n",
    "        presence_matrix.append(row)\n",
    "    return presence_matrix\n",
    "\n",
    "presence_matrix_v2 = get_presence_matrix(invoice_aggregation, all_items)"
   ],
   "metadata": {
    "collapsed": false,
    "pycharm": {
     "name": "#%%\n"
    }
   }
  },
  {
   "cell_type": "code",
   "execution_count": 47,
   "outputs": [
    {
     "data": {
      "text/plain": "4214"
     },
     "execution_count": 47,
     "metadata": {},
     "output_type": "execute_result"
    }
   ],
   "source": [
    "len(presence_matrix_v2[0])"
   ],
   "metadata": {
    "collapsed": false,
    "pycharm": {
     "name": "#%%\n"
    }
   }
  },
  {
   "cell_type": "code",
   "execution_count": 48,
   "outputs": [],
   "source": [
    "df = pd.DataFrame(data=presence_matrix_v2, columns=all_items)"
   ],
   "metadata": {
    "collapsed": false,
    "pycharm": {
     "name": "#%%\n"
    }
   }
  },
  {
   "cell_type": "code",
   "execution_count": 50,
   "outputs": [
    {
     "name": "stdout",
     "output_type": "stream",
     "text": [
      "0.5 => 0\n",
      "0.1 => 0\n",
      "0.05 => 12\n",
      "0.02 => 239\n",
      "0.01 => 1173\n"
     ]
    }
   ],
   "source": [
    "\n",
    "for minsup in [0.5, 0.1, 0.05, 0.02, 0.01]:\n",
    "    freq_items = fpgrowth(df, minsup)\n",
    "    print(f'{minsup} => {len(freq_items)}')\n",
    "\n",
    "# Notice how there is no frequent itemset that shows up in 50% of the transactions.\n",
    "# Instead, there is an itemset that shows up in 10% of the transactions. Let's see what it is."
   ],
   "metadata": {
    "collapsed": false,
    "pycharm": {
     "name": "#%%\n"
    }
   }
  },
  {
   "cell_type": "code",
   "execution_count": 53,
   "outputs": [
    {
     "data": {
      "text/plain": "    support itemsets\n0  0.093885   (3910)",
      "text/html": "<div>\n<style scoped>\n    .dataframe tbody tr th:only-of-type {\n        vertical-align: middle;\n    }\n\n    .dataframe tbody tr th {\n        vertical-align: top;\n    }\n\n    .dataframe thead th {\n        text-align: right;\n    }\n</style>\n<table border=\"1\" class=\"dataframe\">\n  <thead>\n    <tr style=\"text-align: right;\">\n      <th></th>\n      <th>support</th>\n      <th>itemsets</th>\n    </tr>\n  </thead>\n  <tbody>\n    <tr>\n      <th>0</th>\n      <td>0.093885</td>\n      <td>(3910)</td>\n    </tr>\n  </tbody>\n</table>\n</div>"
     },
     "execution_count": 53,
     "metadata": {},
     "output_type": "execute_result"
    }
   ],
   "source": [
    "fpgrowth(df, 0.09)"
   ],
   "metadata": {
    "collapsed": false,
    "pycharm": {
     "name": "#%%\n"
    }
   }
  },
  {
   "cell_type": "code",
   "execution_count": 54,
   "outputs": [
    {
     "data": {
      "text/plain": "'WHITE HANGING HEART T-LIGHT HOLDER'"
     },
     "execution_count": 54,
     "metadata": {},
     "output_type": "execute_result"
    }
   ],
   "source": [
    "all_items[3910]"
   ],
   "metadata": {
    "collapsed": false,
    "pycharm": {
     "name": "#%%\n"
    }
   }
  },
  {
   "cell_type": "code",
   "execution_count": 55,
   "outputs": [
    {
     "data": {
      "text/plain": "9.388547128524834"
     },
     "execution_count": 55,
     "metadata": {},
     "output_type": "execute_result"
    }
   ],
   "source": [
    "# Let's make sure that it really appears in at least 10% of the transactions by counting\n",
    "# the number of transactions containing it.\n",
    "# We can access df.values to extract a the Numpy matrix behind the DataFrame we just built.\n",
    "\n",
    "100 * df.values[:, 3910].sum() / len(df)"
   ],
   "metadata": {
    "collapsed": false,
    "pycharm": {
     "name": "#%%\n"
    }
   }
  },
  {
   "cell_type": "code",
   "execution_count": 56,
   "outputs": [
    {
     "data": {
      "text/plain": "      support            itemsets\n198  0.026465          (162, 166)\n199  0.022253        (3976, 3972)\n200  0.020437        (2842, 3910)\n201  0.023946        (2051, 1863)\n202  0.034185        (1861, 1863)\n203  0.021345        (1876, 1861)\n204  0.029933        (1876, 1863)\n205  0.024194        (1851, 1863)\n206  0.021386        (1862, 1863)\n207  0.020107        (3552, 2866)\n208  0.028075        (1874, 1863)\n209  0.021634        (1874, 1876)\n210  0.020354        (1706, 1707)\n211  0.022790        (2441, 2436)\n212  0.023120        (2051, 2054)\n213  0.021139        (2043, 2054)\n214  0.025102        (2050, 2051)\n215  0.022460        (2050, 2043)\n216  0.020726        (2050, 2046)\n217  0.021758        (2051, 2060)\n218  0.026506        (2051, 2043)\n219  0.021552        (2043, 2046)\n220  0.022914        (2051, 2046)\n221  0.022212        (1867, 1863)\n222  0.022212        (1050, 3511)\n223  0.021675        (3008, 2910)\n224  0.031749        (3008, 1604)\n225  0.021056        (1604, 2910)\n226  0.022171        (1873, 1863)\n227  0.021015         (2866, 726)\n228  0.020891        (2866, 3987)\n229  0.021593         (2866, 725)\n230  0.020024        (1863, 1095)\n231  0.026176        (1604, 2661)\n232  0.024813        (3008, 2661)\n233  0.022377  (3008, 1604, 2661)\n234  0.023038        (2056, 2051)\n235  0.021304        (2056, 2043)\n236  0.020148        (2051, 2045)\n237  0.022584        (1854, 1863)\n238  0.022542        (1456, 1455)",
      "text/html": "<div>\n<style scoped>\n    .dataframe tbody tr th:only-of-type {\n        vertical-align: middle;\n    }\n\n    .dataframe tbody tr th {\n        vertical-align: top;\n    }\n\n    .dataframe thead th {\n        text-align: right;\n    }\n</style>\n<table border=\"1\" class=\"dataframe\">\n  <thead>\n    <tr style=\"text-align: right;\">\n      <th></th>\n      <th>support</th>\n      <th>itemsets</th>\n    </tr>\n  </thead>\n  <tbody>\n    <tr>\n      <th>198</th>\n      <td>0.026465</td>\n      <td>(162, 166)</td>\n    </tr>\n    <tr>\n      <th>199</th>\n      <td>0.022253</td>\n      <td>(3976, 3972)</td>\n    </tr>\n    <tr>\n      <th>200</th>\n      <td>0.020437</td>\n      <td>(2842, 3910)</td>\n    </tr>\n    <tr>\n      <th>201</th>\n      <td>0.023946</td>\n      <td>(2051, 1863)</td>\n    </tr>\n    <tr>\n      <th>202</th>\n      <td>0.034185</td>\n      <td>(1861, 1863)</td>\n    </tr>\n    <tr>\n      <th>203</th>\n      <td>0.021345</td>\n      <td>(1876, 1861)</td>\n    </tr>\n    <tr>\n      <th>204</th>\n      <td>0.029933</td>\n      <td>(1876, 1863)</td>\n    </tr>\n    <tr>\n      <th>205</th>\n      <td>0.024194</td>\n      <td>(1851, 1863)</td>\n    </tr>\n    <tr>\n      <th>206</th>\n      <td>0.021386</td>\n      <td>(1862, 1863)</td>\n    </tr>\n    <tr>\n      <th>207</th>\n      <td>0.020107</td>\n      <td>(3552, 2866)</td>\n    </tr>\n    <tr>\n      <th>208</th>\n      <td>0.028075</td>\n      <td>(1874, 1863)</td>\n    </tr>\n    <tr>\n      <th>209</th>\n      <td>0.021634</td>\n      <td>(1874, 1876)</td>\n    </tr>\n    <tr>\n      <th>210</th>\n      <td>0.020354</td>\n      <td>(1706, 1707)</td>\n    </tr>\n    <tr>\n      <th>211</th>\n      <td>0.022790</td>\n      <td>(2441, 2436)</td>\n    </tr>\n    <tr>\n      <th>212</th>\n      <td>0.023120</td>\n      <td>(2051, 2054)</td>\n    </tr>\n    <tr>\n      <th>213</th>\n      <td>0.021139</td>\n      <td>(2043, 2054)</td>\n    </tr>\n    <tr>\n      <th>214</th>\n      <td>0.025102</td>\n      <td>(2050, 2051)</td>\n    </tr>\n    <tr>\n      <th>215</th>\n      <td>0.022460</td>\n      <td>(2050, 2043)</td>\n    </tr>\n    <tr>\n      <th>216</th>\n      <td>0.020726</td>\n      <td>(2050, 2046)</td>\n    </tr>\n    <tr>\n      <th>217</th>\n      <td>0.021758</td>\n      <td>(2051, 2060)</td>\n    </tr>\n    <tr>\n      <th>218</th>\n      <td>0.026506</td>\n      <td>(2051, 2043)</td>\n    </tr>\n    <tr>\n      <th>219</th>\n      <td>0.021552</td>\n      <td>(2043, 2046)</td>\n    </tr>\n    <tr>\n      <th>220</th>\n      <td>0.022914</td>\n      <td>(2051, 2046)</td>\n    </tr>\n    <tr>\n      <th>221</th>\n      <td>0.022212</td>\n      <td>(1867, 1863)</td>\n    </tr>\n    <tr>\n      <th>222</th>\n      <td>0.022212</td>\n      <td>(1050, 3511)</td>\n    </tr>\n    <tr>\n      <th>223</th>\n      <td>0.021675</td>\n      <td>(3008, 2910)</td>\n    </tr>\n    <tr>\n      <th>224</th>\n      <td>0.031749</td>\n      <td>(3008, 1604)</td>\n    </tr>\n    <tr>\n      <th>225</th>\n      <td>0.021056</td>\n      <td>(1604, 2910)</td>\n    </tr>\n    <tr>\n      <th>226</th>\n      <td>0.022171</td>\n      <td>(1873, 1863)</td>\n    </tr>\n    <tr>\n      <th>227</th>\n      <td>0.021015</td>\n      <td>(2866, 726)</td>\n    </tr>\n    <tr>\n      <th>228</th>\n      <td>0.020891</td>\n      <td>(2866, 3987)</td>\n    </tr>\n    <tr>\n      <th>229</th>\n      <td>0.021593</td>\n      <td>(2866, 725)</td>\n    </tr>\n    <tr>\n      <th>230</th>\n      <td>0.020024</td>\n      <td>(1863, 1095)</td>\n    </tr>\n    <tr>\n      <th>231</th>\n      <td>0.026176</td>\n      <td>(1604, 2661)</td>\n    </tr>\n    <tr>\n      <th>232</th>\n      <td>0.024813</td>\n      <td>(3008, 2661)</td>\n    </tr>\n    <tr>\n      <th>233</th>\n      <td>0.022377</td>\n      <td>(3008, 1604, 2661)</td>\n    </tr>\n    <tr>\n      <th>234</th>\n      <td>0.023038</td>\n      <td>(2056, 2051)</td>\n    </tr>\n    <tr>\n      <th>235</th>\n      <td>0.021304</td>\n      <td>(2056, 2043)</td>\n    </tr>\n    <tr>\n      <th>236</th>\n      <td>0.020148</td>\n      <td>(2051, 2045)</td>\n    </tr>\n    <tr>\n      <th>237</th>\n      <td>0.022584</td>\n      <td>(1854, 1863)</td>\n    </tr>\n    <tr>\n      <th>238</th>\n      <td>0.022542</td>\n      <td>(1456, 1455)</td>\n    </tr>\n  </tbody>\n</table>\n</div>"
     },
     "execution_count": 56,
     "metadata": {},
     "output_type": "execute_result"
    }
   ],
   "source": [
    "freq_items = fpgrowth(df, 0.02)\n",
    "freq_items[freq_items[\"itemsets\"].map(len) > 1]"
   ],
   "metadata": {
    "collapsed": false,
    "pycharm": {
     "name": "#%%\n"
    }
   }
  },
  {
   "cell_type": "code",
   "execution_count": 58,
   "outputs": [
    {
     "name": "stdout",
     "output_type": "stream",
     "text": [
      "Confidence 2056 => 2051: 0.510989010989011\n",
      "Confidence 2051 => 2056: 0.3522727272727273\n"
     ]
    }
   ],
   "source": [
    "# Now that we have extracted a list of frequent itemsets, we can compute some association rules. The next exercise will focus on automatically extracting all meaningful association rules. In this exercise, instead, we will extract association rules manually for a single itemset, such as (2056, 2051).\n",
    "# We can extract the two rules: 2056 => 2051 and 2051 => 2056. Let's compute the confidence of these two rules.\n",
    "\n",
    "M = df.values # matrix from the df dataframe\n",
    "support_2056 = len(M[M[:, 2056] == 1])/len(M)\n",
    "support_2051 = len(M[M[:, 2051] == 1])/len(M)\n",
    "support_both = len(M[(M[:, 2056] == 1) & (M[:, 2051] == 1)])/len(M)\n",
    "print(f\"Confidence 2056 => 2051: {support_both / support_2056}\")\n",
    "print(f\"Confidence 2051 => 2056: {support_both / support_2051}\")"
   ],
   "metadata": {
    "collapsed": false,
    "pycharm": {
     "name": "#%%\n"
    }
   }
  },
  {
   "cell_type": "code",
   "execution_count": 60,
   "outputs": [
    {
     "data": {
      "text/plain": "           antecedents consequents  antecedent support  consequent support  \\\n0          (3552, 725)      (2866)            0.015730            0.043062   \n1     (3552, 725, 726)      (2866)            0.011189            0.043062   \n2    (3552, 3987, 726)      (2866)            0.012510            0.043062   \n3   (1874, 1876, 1861)      (1863)            0.012758            0.087114   \n4         (3297, 3343)      (3344)            0.012221            0.021758   \n5     (3987, 725, 726)      (2866)            0.012056            0.043062   \n6         (3566, 1863)      (1095)            0.011643            0.029231   \n7         (2661, 2910)      (1604)            0.016226            0.042566   \n8   (3008, 2661, 2910)      (1604)            0.013666            0.042566   \n9   (1604, 2661, 2910)      (3008)            0.014161            0.044920   \n10        (3008, 2661)      (1604)            0.024813            0.042566   \n11        (1604, 2661)      (3008)            0.026176            0.044920   \n12              (2916)      (2915)            0.012840            0.015771   \n13              (2916)      (2917)            0.012840            0.018496   \n14        (2915, 2916)      (2917)            0.011478            0.018496   \n15        (2916, 2917)      (2915)            0.011189            0.015771   \n\n     support  confidence       lift  leverage  conviction  \n0   0.013459    0.855643  19.870115  0.012782    6.628972  \n1   0.010115    0.904059  20.994453  0.009633    9.974240  \n2   0.010734    0.858086  19.926842  0.010196    6.743076  \n3   0.011065    0.867314   9.956024  0.009953    6.880040  \n4   0.010941    0.895270  41.146758  0.010675    9.340633  \n5   0.010363    0.859589  19.961751  0.009844    6.815267  \n6   0.010280    0.882979  30.207101  0.009940    8.295664  \n7   0.014161    0.872774  20.503829  0.013471    7.525428  \n8   0.012427    0.909366  21.363475  0.011846   10.563684  \n9   0.012427    0.877551  19.535996  0.011791    7.799822  \n10  0.022377    0.901830  21.186451  0.021321    9.752841  \n11  0.022377    0.854890  19.031508  0.021201    6.581749  \n12  0.011478    0.893891  56.677817  0.011275    9.275609  \n13  0.011189    0.871383  47.111069  0.010951    7.631191  \n14  0.010528    0.917266  49.591751  0.010316   11.863392  \n15  0.010528    0.940959  59.662246  0.010352   16.670371  ",
      "text/html": "<div>\n<style scoped>\n    .dataframe tbody tr th:only-of-type {\n        vertical-align: middle;\n    }\n\n    .dataframe tbody tr th {\n        vertical-align: top;\n    }\n\n    .dataframe thead th {\n        text-align: right;\n    }\n</style>\n<table border=\"1\" class=\"dataframe\">\n  <thead>\n    <tr style=\"text-align: right;\">\n      <th></th>\n      <th>antecedents</th>\n      <th>consequents</th>\n      <th>antecedent support</th>\n      <th>consequent support</th>\n      <th>support</th>\n      <th>confidence</th>\n      <th>lift</th>\n      <th>leverage</th>\n      <th>conviction</th>\n    </tr>\n  </thead>\n  <tbody>\n    <tr>\n      <th>0</th>\n      <td>(3552, 725)</td>\n      <td>(2866)</td>\n      <td>0.015730</td>\n      <td>0.043062</td>\n      <td>0.013459</td>\n      <td>0.855643</td>\n      <td>19.870115</td>\n      <td>0.012782</td>\n      <td>6.628972</td>\n    </tr>\n    <tr>\n      <th>1</th>\n      <td>(3552, 725, 726)</td>\n      <td>(2866)</td>\n      <td>0.011189</td>\n      <td>0.043062</td>\n      <td>0.010115</td>\n      <td>0.904059</td>\n      <td>20.994453</td>\n      <td>0.009633</td>\n      <td>9.974240</td>\n    </tr>\n    <tr>\n      <th>2</th>\n      <td>(3552, 3987, 726)</td>\n      <td>(2866)</td>\n      <td>0.012510</td>\n      <td>0.043062</td>\n      <td>0.010734</td>\n      <td>0.858086</td>\n      <td>19.926842</td>\n      <td>0.010196</td>\n      <td>6.743076</td>\n    </tr>\n    <tr>\n      <th>3</th>\n      <td>(1874, 1876, 1861)</td>\n      <td>(1863)</td>\n      <td>0.012758</td>\n      <td>0.087114</td>\n      <td>0.011065</td>\n      <td>0.867314</td>\n      <td>9.956024</td>\n      <td>0.009953</td>\n      <td>6.880040</td>\n    </tr>\n    <tr>\n      <th>4</th>\n      <td>(3297, 3343)</td>\n      <td>(3344)</td>\n      <td>0.012221</td>\n      <td>0.021758</td>\n      <td>0.010941</td>\n      <td>0.895270</td>\n      <td>41.146758</td>\n      <td>0.010675</td>\n      <td>9.340633</td>\n    </tr>\n    <tr>\n      <th>5</th>\n      <td>(3987, 725, 726)</td>\n      <td>(2866)</td>\n      <td>0.012056</td>\n      <td>0.043062</td>\n      <td>0.010363</td>\n      <td>0.859589</td>\n      <td>19.961751</td>\n      <td>0.009844</td>\n      <td>6.815267</td>\n    </tr>\n    <tr>\n      <th>6</th>\n      <td>(3566, 1863)</td>\n      <td>(1095)</td>\n      <td>0.011643</td>\n      <td>0.029231</td>\n      <td>0.010280</td>\n      <td>0.882979</td>\n      <td>30.207101</td>\n      <td>0.009940</td>\n      <td>8.295664</td>\n    </tr>\n    <tr>\n      <th>7</th>\n      <td>(2661, 2910)</td>\n      <td>(1604)</td>\n      <td>0.016226</td>\n      <td>0.042566</td>\n      <td>0.014161</td>\n      <td>0.872774</td>\n      <td>20.503829</td>\n      <td>0.013471</td>\n      <td>7.525428</td>\n    </tr>\n    <tr>\n      <th>8</th>\n      <td>(3008, 2661, 2910)</td>\n      <td>(1604)</td>\n      <td>0.013666</td>\n      <td>0.042566</td>\n      <td>0.012427</td>\n      <td>0.909366</td>\n      <td>21.363475</td>\n      <td>0.011846</td>\n      <td>10.563684</td>\n    </tr>\n    <tr>\n      <th>9</th>\n      <td>(1604, 2661, 2910)</td>\n      <td>(3008)</td>\n      <td>0.014161</td>\n      <td>0.044920</td>\n      <td>0.012427</td>\n      <td>0.877551</td>\n      <td>19.535996</td>\n      <td>0.011791</td>\n      <td>7.799822</td>\n    </tr>\n    <tr>\n      <th>10</th>\n      <td>(3008, 2661)</td>\n      <td>(1604)</td>\n      <td>0.024813</td>\n      <td>0.042566</td>\n      <td>0.022377</td>\n      <td>0.901830</td>\n      <td>21.186451</td>\n      <td>0.021321</td>\n      <td>9.752841</td>\n    </tr>\n    <tr>\n      <th>11</th>\n      <td>(1604, 2661)</td>\n      <td>(3008)</td>\n      <td>0.026176</td>\n      <td>0.044920</td>\n      <td>0.022377</td>\n      <td>0.854890</td>\n      <td>19.031508</td>\n      <td>0.021201</td>\n      <td>6.581749</td>\n    </tr>\n    <tr>\n      <th>12</th>\n      <td>(2916)</td>\n      <td>(2915)</td>\n      <td>0.012840</td>\n      <td>0.015771</td>\n      <td>0.011478</td>\n      <td>0.893891</td>\n      <td>56.677817</td>\n      <td>0.011275</td>\n      <td>9.275609</td>\n    </tr>\n    <tr>\n      <th>13</th>\n      <td>(2916)</td>\n      <td>(2917)</td>\n      <td>0.012840</td>\n      <td>0.018496</td>\n      <td>0.011189</td>\n      <td>0.871383</td>\n      <td>47.111069</td>\n      <td>0.010951</td>\n      <td>7.631191</td>\n    </tr>\n    <tr>\n      <th>14</th>\n      <td>(2915, 2916)</td>\n      <td>(2917)</td>\n      <td>0.011478</td>\n      <td>0.018496</td>\n      <td>0.010528</td>\n      <td>0.917266</td>\n      <td>49.591751</td>\n      <td>0.010316</td>\n      <td>11.863392</td>\n    </tr>\n    <tr>\n      <th>15</th>\n      <td>(2916, 2917)</td>\n      <td>(2915)</td>\n      <td>0.011189</td>\n      <td>0.015771</td>\n      <td>0.010528</td>\n      <td>0.940959</td>\n      <td>59.662246</td>\n      <td>0.010352</td>\n      <td>16.670371</td>\n    </tr>\n  </tbody>\n</table>\n</div>"
     },
     "execution_count": 60,
     "metadata": {},
     "output_type": "execute_result"
    }
   ],
   "source": [
    "# The association_rules() function takes as first argument the output of fpgrowth()\n",
    "# (i.e. a DataFrame with frequent itemsets and their support). The second argument is the matric\n",
    "# that we want to use for filtering association rules. As recommended by the exercise, we are going\n",
    "# to use the confidence. As threshold value, as recommended, we will be using 0.85. As a side exercise,\n",
    "# you can tweak these parameters and observe how the results vary.\n",
    "\n",
    "fi = fpgrowth(df, 0.01)\n",
    "association_rules(fi, 'confidence', 0.85)"
   ],
   "metadata": {
    "collapsed": false,
    "pycharm": {
     "name": "#%%\n"
    }
   }
  },
  {
   "cell_type": "code",
   "execution_count": 67,
   "outputs": [
    {
     "name": "stdout",
     "output_type": "stream",
     "text": [
      "FP-growth 5.937266699998872 seconds\n",
      "Apriori 10.613411700000142 seconds\n"
     ]
    }
   ],
   "source": [
    "\n",
    "print(\"FP-growth\", timeit(lambda: fpgrowth(df, 0.02), number=1), \"seconds\")\n",
    "print(\"Apriori\", timeit(lambda: apriori(df, 0.02), number=1), \"seconds\")"
   ],
   "metadata": {
    "collapsed": false,
    "pycharm": {
     "name": "#%%\n"
    }
   }
  },
  {
   "cell_type": "code",
   "execution_count": null,
   "outputs": [],
   "source": [],
   "metadata": {
    "collapsed": false,
    "pycharm": {
     "name": "#%%\n"
    }
   }
  }
 ],
 "metadata": {
  "kernelspec": {
   "display_name": "Python 3",
   "language": "python",
   "name": "python3"
  },
  "language_info": {
   "codemirror_mode": {
    "name": "ipython",
    "version": 2
   },
   "file_extension": ".py",
   "mimetype": "text/x-python",
   "name": "python",
   "nbconvert_exporter": "python",
   "pygments_lexer": "ipython2",
   "version": "2.7.6"
  }
 },
 "nbformat": 4,
 "nbformat_minor": 0
}