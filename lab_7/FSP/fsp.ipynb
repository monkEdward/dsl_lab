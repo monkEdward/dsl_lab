{
 "cells": [
  {
   "cell_type": "code",
   "execution_count": 2,
   "metadata": {
    "collapsed": true
   },
   "outputs": [],
   "source": [
    "import os\n",
    "import numpy as np\n",
    "import pandas as pd\n",
    "import seaborn as sns\n",
    "import matplotlib.pyplot as plt\n",
    "from scipy.io import wavfile\n",
    "\n",
    "from sklearn.model_selection import KFold\n",
    "from sklearn.model_selection import ParameterGrid\n",
    "\n",
    "from sklearn.model_selection import train_test_split\n",
    "from sklearn.metrics import accuracy_score,\\\n",
    "                            confusion_matrix, \\\n",
    "                            precision_score, \\\n",
    "                            recall_score, \\\n",
    "                            f1_score, \\\n",
    "                            classification_report\n",
    "\n",
    "# from sklearn import tree\n",
    "# from sklearn.tree import DecisionTreeClassifier"
   ]
  },
  {
   "cell_type": "code",
   "execution_count": 3,
   "outputs": [],
   "source": [
    "dev_path = './dev'\n",
    "eval_path = './eval'"
   ],
   "metadata": {
    "collapsed": false,
    "pycharm": {
     "name": "#%%\n"
    }
   }
  },
  {
   "cell_type": "code",
   "execution_count": 4,
   "outputs": [],
   "source": [
    "def load_data(data_path, phase):\n",
    "    files = os.listdir(data_path)\n",
    "    wav_files = [fl for fl in files if fl.endswith('.wav')]\n",
    "\n",
    "    x = [None] * len(wav_files)\n",
    "    y = [None] * len(wav_files)\n",
    "    rate = [None] * len(wav_files)\n",
    "\n",
    "    for file in wav_files:\n",
    "        file_name = file.split('.')[0]\n",
    "        if phase == 'dev':\n",
    "            f_id, label = tuple(file_name.split('_'))\n",
    "        elif phase == 'eval':\n",
    "            f_id, label = file_name, float('NaN')\n",
    "        else:\n",
    "            raise Exception(f'Error - phase {phase} not recognised!')\n",
    "\n",
    "        f_id, label = int(f_id), float(label)\n",
    "\n",
    "        # wavfile.read(...) => return:\n",
    "        # sr - Sample Rate\n",
    "        # data - audio as array of float values\n",
    "\n",
    "        sr, data = wavfile.read(os.path.join(data_path,file))\n",
    "\n",
    "        x[f_id] = data.astype(np.float32)\n",
    "        rate[f_id] = sr\n",
    "        y[f_id] = label\n",
    "\n",
    "    return x, y, rate"
   ],
   "metadata": {
    "collapsed": false,
    "pycharm": {
     "name": "#%%\n"
    }
   }
  },
  {
   "cell_type": "code",
   "execution_count": 5,
   "outputs": [
    {
     "data": {
      "text/plain": "([array([ 14.,  21.,   0., ...,   3., -48., -80.], dtype=float32),\n  array([-2., 12.,  1., ...,  3., -3.,  3.], dtype=float32),\n  array([-9., -7., -5., ..., -5., -1., -7.], dtype=float32),\n  array([-256., -512.,    0., ...,    0.,    0.,    0.], dtype=float32),\n  array([-20.,  10.,  26., ...,  -3.,   5., -10.], dtype=float32)],\n [4.0, 7.0, 5.0, 2.0, 3.0])"
     },
     "execution_count": 5,
     "metadata": {},
     "output_type": "execute_result"
    }
   ],
   "source": [
    "dev_x, dev_y, dev_sr = load_data(data_path=dev_path, phase='dev')\n",
    "dev_x[:5], dev_y[:5]"
   ],
   "metadata": {
    "collapsed": false,
    "pycharm": {
     "name": "#%%\n"
    }
   }
  },
  {
   "cell_type": "code",
   "execution_count": null,
   "outputs": [],
   "source": [],
   "metadata": {
    "collapsed": false,
    "pycharm": {
     "name": "#%%\n"
    }
   }
  }
 ],
 "metadata": {
  "kernelspec": {
   "name": "pycharm-9f4e7ab1",
   "language": "python",
   "display_name": "PyCharm (gpt_eval_repl)"
  },
  "language_info": {
   "codemirror_mode": {
    "name": "ipython",
    "version": 2
   },
   "file_extension": ".py",
   "mimetype": "text/x-python",
   "name": "python",
   "nbconvert_exporter": "python",
   "pygments_lexer": "ipython2",
   "version": "2.7.6"
  }
 },
 "nbformat": 4,
 "nbformat_minor": 0
}